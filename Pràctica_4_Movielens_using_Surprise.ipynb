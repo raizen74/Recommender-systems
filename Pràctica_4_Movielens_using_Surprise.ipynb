{
  "cells": [
    {
      "cell_type": "markdown",
      "metadata": {
        "pycharm": {
          "name": "#%% md\n"
        },
        "id": "KlxcVl9fREKi"
      },
      "source": [
        "# Pràctica 4: Recomanacions amb la llibreria Surprise\n",
        "\n",
        "David Galera"
      ]
    },
    {
      "cell_type": "markdown",
      "source": [
        "#Heu de fer un Notebook que recomani pel·lícules fent servir la llibreria Surprise de Python. Ha de permetre introduir el codi d’un usuari i ha de donar com a sortida una llista de les N pel·lícules que més han agradat a l’usuari juntament amb tres llistes (fent servir user-user CF, item-item CF i SVD) de N recomanacions de pel·lícules que l’usuari no hagi ja puntuat, ordenades per ordre de puntuació estimada. No es poden repetir pel·lícules entre les dues llistes. Compareu els errors i els resultats fent servir cadascun dels tres mètodes."
      ],
      "metadata": {
        "id": "9-oAbD4YpTgr"
      }
    },
    {
      "cell_type": "code",
      "source": [
        "!pip install surprise"
      ],
      "metadata": {
        "colab": {
          "base_uri": "https://localhost:8080/"
        },
        "outputId": "fd796c3e-4ae3-4e34-ca9d-b3fde3617a92",
        "id": "v6ixcfs9p7Gt"
      },
      "execution_count": 1,
      "outputs": [
        {
          "output_type": "stream",
          "name": "stdout",
          "text": [
            "Looking in indexes: https://pypi.org/simple, https://us-python.pkg.dev/colab-wheels/public/simple/\n",
            "Collecting surprise\n",
            "  Downloading surprise-0.1-py2.py3-none-any.whl (1.8 kB)\n",
            "Collecting scikit-surprise\n",
            "  Downloading scikit-surprise-1.1.3.tar.gz (771 kB)\n",
            "\u001b[2K     \u001b[90m━━━━━━━━━━━━━━━━━━━━━━━━━━━━━━━━━━━━━━\u001b[0m \u001b[32m772.0/772.0 KB\u001b[0m \u001b[31m15.8 MB/s\u001b[0m eta \u001b[36m0:00:00\u001b[0m\n",
            "\u001b[?25h  Preparing metadata (setup.py) ... \u001b[?25l\u001b[?25hdone\n",
            "Requirement already satisfied: joblib>=1.0.0 in /usr/local/lib/python3.9/dist-packages (from scikit-surprise->surprise) (1.2.0)\n",
            "Requirement already satisfied: numpy>=1.17.3 in /usr/local/lib/python3.9/dist-packages (from scikit-surprise->surprise) (1.22.4)\n",
            "Requirement already satisfied: scipy>=1.3.2 in /usr/local/lib/python3.9/dist-packages (from scikit-surprise->surprise) (1.10.1)\n",
            "Building wheels for collected packages: scikit-surprise\n",
            "  Building wheel for scikit-surprise (setup.py) ... \u001b[?25l\u001b[?25hdone\n",
            "  Created wheel for scikit-surprise: filename=scikit_surprise-1.1.3-cp39-cp39-linux_x86_64.whl size=3193678 sha256=4a3afd5ef6e33f463fb12b6e4f4602ad610648b2e90e04dd84f0b71947fc6810\n",
            "  Stored in directory: /root/.cache/pip/wheels/c6/3a/46/9b17b3512bdf283c6cb84f59929cdd5199d4e754d596d22784\n",
            "Successfully built scikit-surprise\n",
            "Installing collected packages: scikit-surprise, surprise\n",
            "Successfully installed scikit-surprise-1.1.3 surprise-0.1\n"
          ]
        }
      ]
    },
    {
      "cell_type": "code",
      "source": [
        "from google.colab import drive\n",
        "drive.mount('/content/drive')"
      ],
      "metadata": {
        "colab": {
          "base_uri": "https://localhost:8080/"
        },
        "outputId": "a217a5f8-fb1a-47a1-c1bb-219fec511254",
        "id": "BPG-mp4CqMTR"
      },
      "execution_count": 2,
      "outputs": [
        {
          "output_type": "stream",
          "name": "stdout",
          "text": [
            "Mounted at /content/drive\n"
          ]
        }
      ]
    },
    {
      "cell_type": "code",
      "execution_count": 3,
      "metadata": {
        "pycharm": {
          "name": "#%%\n"
        },
        "id": "PHbypRRnp7Gv"
      },
      "outputs": [],
      "source": [
        "import numpy as np\n",
        "import pandas as pd\n",
        "import surprise\n"
      ]
    },
    {
      "cell_type": "code",
      "execution_count": 4,
      "metadata": {
        "pycharm": {
          "name": "#%%\n"
        },
        "outputId": "b6f36b89-9b6f-4cba-8772-ad1a0edd6437",
        "colab": {
          "base_uri": "https://localhost:8080/",
          "height": 223
        },
        "id": "iEIBrx5Bp7Gw"
      },
      "outputs": [
        {
          "output_type": "stream",
          "name": "stdout",
          "text": [
            "(100836, 3)\n"
          ]
        },
        {
          "output_type": "execute_result",
          "data": {
            "text/plain": [
              "   userId  movieId  rating\n",
              "0       1        1     4.0\n",
              "1       1        3     4.0\n",
              "2       1        6     4.0\n",
              "3       1       47     5.0\n",
              "4       1       50     5.0"
            ],
            "text/html": [
              "\n",
              "  <div id=\"df-9d05ebc2-9ca2-441e-bda5-52d42abed01d\">\n",
              "    <div class=\"colab-df-container\">\n",
              "      <div>\n",
              "<style scoped>\n",
              "    .dataframe tbody tr th:only-of-type {\n",
              "        vertical-align: middle;\n",
              "    }\n",
              "\n",
              "    .dataframe tbody tr th {\n",
              "        vertical-align: top;\n",
              "    }\n",
              "\n",
              "    .dataframe thead th {\n",
              "        text-align: right;\n",
              "    }\n",
              "</style>\n",
              "<table border=\"1\" class=\"dataframe\">\n",
              "  <thead>\n",
              "    <tr style=\"text-align: right;\">\n",
              "      <th></th>\n",
              "      <th>userId</th>\n",
              "      <th>movieId</th>\n",
              "      <th>rating</th>\n",
              "    </tr>\n",
              "  </thead>\n",
              "  <tbody>\n",
              "    <tr>\n",
              "      <th>0</th>\n",
              "      <td>1</td>\n",
              "      <td>1</td>\n",
              "      <td>4.0</td>\n",
              "    </tr>\n",
              "    <tr>\n",
              "      <th>1</th>\n",
              "      <td>1</td>\n",
              "      <td>3</td>\n",
              "      <td>4.0</td>\n",
              "    </tr>\n",
              "    <tr>\n",
              "      <th>2</th>\n",
              "      <td>1</td>\n",
              "      <td>6</td>\n",
              "      <td>4.0</td>\n",
              "    </tr>\n",
              "    <tr>\n",
              "      <th>3</th>\n",
              "      <td>1</td>\n",
              "      <td>47</td>\n",
              "      <td>5.0</td>\n",
              "    </tr>\n",
              "    <tr>\n",
              "      <th>4</th>\n",
              "      <td>1</td>\n",
              "      <td>50</td>\n",
              "      <td>5.0</td>\n",
              "    </tr>\n",
              "  </tbody>\n",
              "</table>\n",
              "</div>\n",
              "      <button class=\"colab-df-convert\" onclick=\"convertToInteractive('df-9d05ebc2-9ca2-441e-bda5-52d42abed01d')\"\n",
              "              title=\"Convert this dataframe to an interactive table.\"\n",
              "              style=\"display:none;\">\n",
              "        \n",
              "  <svg xmlns=\"http://www.w3.org/2000/svg\" height=\"24px\"viewBox=\"0 0 24 24\"\n",
              "       width=\"24px\">\n",
              "    <path d=\"M0 0h24v24H0V0z\" fill=\"none\"/>\n",
              "    <path d=\"M18.56 5.44l.94 2.06.94-2.06 2.06-.94-2.06-.94-.94-2.06-.94 2.06-2.06.94zm-11 1L8.5 8.5l.94-2.06 2.06-.94-2.06-.94L8.5 2.5l-.94 2.06-2.06.94zm10 10l.94 2.06.94-2.06 2.06-.94-2.06-.94-.94-2.06-.94 2.06-2.06.94z\"/><path d=\"M17.41 7.96l-1.37-1.37c-.4-.4-.92-.59-1.43-.59-.52 0-1.04.2-1.43.59L10.3 9.45l-7.72 7.72c-.78.78-.78 2.05 0 2.83L4 21.41c.39.39.9.59 1.41.59.51 0 1.02-.2 1.41-.59l7.78-7.78 2.81-2.81c.8-.78.8-2.07 0-2.86zM5.41 20L4 18.59l7.72-7.72 1.47 1.35L5.41 20z\"/>\n",
              "  </svg>\n",
              "      </button>\n",
              "      \n",
              "  <style>\n",
              "    .colab-df-container {\n",
              "      display:flex;\n",
              "      flex-wrap:wrap;\n",
              "      gap: 12px;\n",
              "    }\n",
              "\n",
              "    .colab-df-convert {\n",
              "      background-color: #E8F0FE;\n",
              "      border: none;\n",
              "      border-radius: 50%;\n",
              "      cursor: pointer;\n",
              "      display: none;\n",
              "      fill: #1967D2;\n",
              "      height: 32px;\n",
              "      padding: 0 0 0 0;\n",
              "      width: 32px;\n",
              "    }\n",
              "\n",
              "    .colab-df-convert:hover {\n",
              "      background-color: #E2EBFA;\n",
              "      box-shadow: 0px 1px 2px rgba(60, 64, 67, 0.3), 0px 1px 3px 1px rgba(60, 64, 67, 0.15);\n",
              "      fill: #174EA6;\n",
              "    }\n",
              "\n",
              "    [theme=dark] .colab-df-convert {\n",
              "      background-color: #3B4455;\n",
              "      fill: #D2E3FC;\n",
              "    }\n",
              "\n",
              "    [theme=dark] .colab-df-convert:hover {\n",
              "      background-color: #434B5C;\n",
              "      box-shadow: 0px 1px 3px 1px rgba(0, 0, 0, 0.15);\n",
              "      filter: drop-shadow(0px 1px 2px rgba(0, 0, 0, 0.3));\n",
              "      fill: #FFFFFF;\n",
              "    }\n",
              "  </style>\n",
              "\n",
              "      <script>\n",
              "        const buttonEl =\n",
              "          document.querySelector('#df-9d05ebc2-9ca2-441e-bda5-52d42abed01d button.colab-df-convert');\n",
              "        buttonEl.style.display =\n",
              "          google.colab.kernel.accessAllowed ? 'block' : 'none';\n",
              "\n",
              "        async function convertToInteractive(key) {\n",
              "          const element = document.querySelector('#df-9d05ebc2-9ca2-441e-bda5-52d42abed01d');\n",
              "          const dataTable =\n",
              "            await google.colab.kernel.invokeFunction('convertToInteractive',\n",
              "                                                     [key], {});\n",
              "          if (!dataTable) return;\n",
              "\n",
              "          const docLinkHtml = 'Like what you see? Visit the ' +\n",
              "            '<a target=\"_blank\" href=https://colab.research.google.com/notebooks/data_table.ipynb>data table notebook</a>'\n",
              "            + ' to learn more about interactive tables.';\n",
              "          element.innerHTML = '';\n",
              "          dataTable['output_type'] = 'display_data';\n",
              "          await google.colab.output.renderOutput(dataTable, element);\n",
              "          const docLink = document.createElement('div');\n",
              "          docLink.innerHTML = docLinkHtml;\n",
              "          element.appendChild(docLink);\n",
              "        }\n",
              "      </script>\n",
              "    </div>\n",
              "  </div>\n",
              "  "
            ]
          },
          "metadata": {},
          "execution_count": 4
        }
      ],
      "source": [
        "ratings_data = pd.read_csv('/content/drive/MyDrive/Advanced ML/ratings.csv')[['userId', 'movieId', 'rating']]\n",
        "movies_metadata = pd.read_csv('/content/drive/MyDrive/Advanced ML/movies.csv')\n",
        "print(ratings_data.shape)\n",
        "ratings_data.head()\n"
      ]
    },
    {
      "cell_type": "code",
      "source": [
        "movies_metadata.head()"
      ],
      "metadata": {
        "colab": {
          "base_uri": "https://localhost:8080/",
          "height": 206
        },
        "id": "AibbMnrtqAJi",
        "outputId": "bf92b258-1689-44cd-dc86-4bb51f759485"
      },
      "execution_count": 5,
      "outputs": [
        {
          "output_type": "execute_result",
          "data": {
            "text/plain": [
              "   movieId                               title  \\\n",
              "0        1                    Toy Story (1995)   \n",
              "1        2                      Jumanji (1995)   \n",
              "2        3             Grumpier Old Men (1995)   \n",
              "3        4            Waiting to Exhale (1995)   \n",
              "4        5  Father of the Bride Part II (1995)   \n",
              "\n",
              "                                        genres  \n",
              "0  Adventure|Animation|Children|Comedy|Fantasy  \n",
              "1                   Adventure|Children|Fantasy  \n",
              "2                               Comedy|Romance  \n",
              "3                         Comedy|Drama|Romance  \n",
              "4                                       Comedy  "
            ],
            "text/html": [
              "\n",
              "  <div id=\"df-660fcc94-286b-4c0e-82bf-9a772e192a04\">\n",
              "    <div class=\"colab-df-container\">\n",
              "      <div>\n",
              "<style scoped>\n",
              "    .dataframe tbody tr th:only-of-type {\n",
              "        vertical-align: middle;\n",
              "    }\n",
              "\n",
              "    .dataframe tbody tr th {\n",
              "        vertical-align: top;\n",
              "    }\n",
              "\n",
              "    .dataframe thead th {\n",
              "        text-align: right;\n",
              "    }\n",
              "</style>\n",
              "<table border=\"1\" class=\"dataframe\">\n",
              "  <thead>\n",
              "    <tr style=\"text-align: right;\">\n",
              "      <th></th>\n",
              "      <th>movieId</th>\n",
              "      <th>title</th>\n",
              "      <th>genres</th>\n",
              "    </tr>\n",
              "  </thead>\n",
              "  <tbody>\n",
              "    <tr>\n",
              "      <th>0</th>\n",
              "      <td>1</td>\n",
              "      <td>Toy Story (1995)</td>\n",
              "      <td>Adventure|Animation|Children|Comedy|Fantasy</td>\n",
              "    </tr>\n",
              "    <tr>\n",
              "      <th>1</th>\n",
              "      <td>2</td>\n",
              "      <td>Jumanji (1995)</td>\n",
              "      <td>Adventure|Children|Fantasy</td>\n",
              "    </tr>\n",
              "    <tr>\n",
              "      <th>2</th>\n",
              "      <td>3</td>\n",
              "      <td>Grumpier Old Men (1995)</td>\n",
              "      <td>Comedy|Romance</td>\n",
              "    </tr>\n",
              "    <tr>\n",
              "      <th>3</th>\n",
              "      <td>4</td>\n",
              "      <td>Waiting to Exhale (1995)</td>\n",
              "      <td>Comedy|Drama|Romance</td>\n",
              "    </tr>\n",
              "    <tr>\n",
              "      <th>4</th>\n",
              "      <td>5</td>\n",
              "      <td>Father of the Bride Part II (1995)</td>\n",
              "      <td>Comedy</td>\n",
              "    </tr>\n",
              "  </tbody>\n",
              "</table>\n",
              "</div>\n",
              "      <button class=\"colab-df-convert\" onclick=\"convertToInteractive('df-660fcc94-286b-4c0e-82bf-9a772e192a04')\"\n",
              "              title=\"Convert this dataframe to an interactive table.\"\n",
              "              style=\"display:none;\">\n",
              "        \n",
              "  <svg xmlns=\"http://www.w3.org/2000/svg\" height=\"24px\"viewBox=\"0 0 24 24\"\n",
              "       width=\"24px\">\n",
              "    <path d=\"M0 0h24v24H0V0z\" fill=\"none\"/>\n",
              "    <path d=\"M18.56 5.44l.94 2.06.94-2.06 2.06-.94-2.06-.94-.94-2.06-.94 2.06-2.06.94zm-11 1L8.5 8.5l.94-2.06 2.06-.94-2.06-.94L8.5 2.5l-.94 2.06-2.06.94zm10 10l.94 2.06.94-2.06 2.06-.94-2.06-.94-.94-2.06-.94 2.06-2.06.94z\"/><path d=\"M17.41 7.96l-1.37-1.37c-.4-.4-.92-.59-1.43-.59-.52 0-1.04.2-1.43.59L10.3 9.45l-7.72 7.72c-.78.78-.78 2.05 0 2.83L4 21.41c.39.39.9.59 1.41.59.51 0 1.02-.2 1.41-.59l7.78-7.78 2.81-2.81c.8-.78.8-2.07 0-2.86zM5.41 20L4 18.59l7.72-7.72 1.47 1.35L5.41 20z\"/>\n",
              "  </svg>\n",
              "      </button>\n",
              "      \n",
              "  <style>\n",
              "    .colab-df-container {\n",
              "      display:flex;\n",
              "      flex-wrap:wrap;\n",
              "      gap: 12px;\n",
              "    }\n",
              "\n",
              "    .colab-df-convert {\n",
              "      background-color: #E8F0FE;\n",
              "      border: none;\n",
              "      border-radius: 50%;\n",
              "      cursor: pointer;\n",
              "      display: none;\n",
              "      fill: #1967D2;\n",
              "      height: 32px;\n",
              "      padding: 0 0 0 0;\n",
              "      width: 32px;\n",
              "    }\n",
              "\n",
              "    .colab-df-convert:hover {\n",
              "      background-color: #E2EBFA;\n",
              "      box-shadow: 0px 1px 2px rgba(60, 64, 67, 0.3), 0px 1px 3px 1px rgba(60, 64, 67, 0.15);\n",
              "      fill: #174EA6;\n",
              "    }\n",
              "\n",
              "    [theme=dark] .colab-df-convert {\n",
              "      background-color: #3B4455;\n",
              "      fill: #D2E3FC;\n",
              "    }\n",
              "\n",
              "    [theme=dark] .colab-df-convert:hover {\n",
              "      background-color: #434B5C;\n",
              "      box-shadow: 0px 1px 3px 1px rgba(0, 0, 0, 0.15);\n",
              "      filter: drop-shadow(0px 1px 2px rgba(0, 0, 0, 0.3));\n",
              "      fill: #FFFFFF;\n",
              "    }\n",
              "  </style>\n",
              "\n",
              "      <script>\n",
              "        const buttonEl =\n",
              "          document.querySelector('#df-660fcc94-286b-4c0e-82bf-9a772e192a04 button.colab-df-convert');\n",
              "        buttonEl.style.display =\n",
              "          google.colab.kernel.accessAllowed ? 'block' : 'none';\n",
              "\n",
              "        async function convertToInteractive(key) {\n",
              "          const element = document.querySelector('#df-660fcc94-286b-4c0e-82bf-9a772e192a04');\n",
              "          const dataTable =\n",
              "            await google.colab.kernel.invokeFunction('convertToInteractive',\n",
              "                                                     [key], {});\n",
              "          if (!dataTable) return;\n",
              "\n",
              "          const docLinkHtml = 'Like what you see? Visit the ' +\n",
              "            '<a target=\"_blank\" href=https://colab.research.google.com/notebooks/data_table.ipynb>data table notebook</a>'\n",
              "            + ' to learn more about interactive tables.';\n",
              "          element.innerHTML = '';\n",
              "          dataTable['output_type'] = 'display_data';\n",
              "          await google.colab.output.renderOutput(dataTable, element);\n",
              "          const docLink = document.createElement('div');\n",
              "          docLink.innerHTML = docLinkHtml;\n",
              "          element.appendChild(docLink);\n",
              "        }\n",
              "      </script>\n",
              "    </div>\n",
              "  </div>\n",
              "  "
            ]
          },
          "metadata": {},
          "execution_count": 5
        }
      ]
    },
    {
      "cell_type": "markdown",
      "source": [
        "Creem un DataFrame amb els camps **userId, movieId i rating**. Fent servir el títol de la pel·lícula com a index:"
      ],
      "metadata": {
        "id": "mZ4b8JfFJhsh"
      }
    },
    {
      "cell_type": "code",
      "source": [
        "merged = pd.merge(ratings_data,movies_metadata[['movieId','title']],on=['movieId'],how='left')\n",
        "merged.set_index('title',inplace=True)\n",
        "merged.head()"
      ],
      "metadata": {
        "colab": {
          "base_uri": "https://localhost:8080/",
          "height": 237
        },
        "id": "BY7DDXbKpxJ7",
        "outputId": "f8d2d105-1923-4c9e-f3a0-2ca008b0ab69"
      },
      "execution_count": 6,
      "outputs": [
        {
          "output_type": "execute_result",
          "data": {
            "text/plain": [
              "                             userId  movieId  rating\n",
              "title                                               \n",
              "Toy Story (1995)                  1        1     4.0\n",
              "Grumpier Old Men (1995)           1        3     4.0\n",
              "Heat (1995)                       1        6     4.0\n",
              "Seven (a.k.a. Se7en) (1995)       1       47     5.0\n",
              "Usual Suspects, The (1995)        1       50     5.0"
            ],
            "text/html": [
              "\n",
              "  <div id=\"df-9414b746-4181-4700-bab9-958a7dcd3be2\">\n",
              "    <div class=\"colab-df-container\">\n",
              "      <div>\n",
              "<style scoped>\n",
              "    .dataframe tbody tr th:only-of-type {\n",
              "        vertical-align: middle;\n",
              "    }\n",
              "\n",
              "    .dataframe tbody tr th {\n",
              "        vertical-align: top;\n",
              "    }\n",
              "\n",
              "    .dataframe thead th {\n",
              "        text-align: right;\n",
              "    }\n",
              "</style>\n",
              "<table border=\"1\" class=\"dataframe\">\n",
              "  <thead>\n",
              "    <tr style=\"text-align: right;\">\n",
              "      <th></th>\n",
              "      <th>userId</th>\n",
              "      <th>movieId</th>\n",
              "      <th>rating</th>\n",
              "    </tr>\n",
              "    <tr>\n",
              "      <th>title</th>\n",
              "      <th></th>\n",
              "      <th></th>\n",
              "      <th></th>\n",
              "    </tr>\n",
              "  </thead>\n",
              "  <tbody>\n",
              "    <tr>\n",
              "      <th>Toy Story (1995)</th>\n",
              "      <td>1</td>\n",
              "      <td>1</td>\n",
              "      <td>4.0</td>\n",
              "    </tr>\n",
              "    <tr>\n",
              "      <th>Grumpier Old Men (1995)</th>\n",
              "      <td>1</td>\n",
              "      <td>3</td>\n",
              "      <td>4.0</td>\n",
              "    </tr>\n",
              "    <tr>\n",
              "      <th>Heat (1995)</th>\n",
              "      <td>1</td>\n",
              "      <td>6</td>\n",
              "      <td>4.0</td>\n",
              "    </tr>\n",
              "    <tr>\n",
              "      <th>Seven (a.k.a. Se7en) (1995)</th>\n",
              "      <td>1</td>\n",
              "      <td>47</td>\n",
              "      <td>5.0</td>\n",
              "    </tr>\n",
              "    <tr>\n",
              "      <th>Usual Suspects, The (1995)</th>\n",
              "      <td>1</td>\n",
              "      <td>50</td>\n",
              "      <td>5.0</td>\n",
              "    </tr>\n",
              "  </tbody>\n",
              "</table>\n",
              "</div>\n",
              "      <button class=\"colab-df-convert\" onclick=\"convertToInteractive('df-9414b746-4181-4700-bab9-958a7dcd3be2')\"\n",
              "              title=\"Convert this dataframe to an interactive table.\"\n",
              "              style=\"display:none;\">\n",
              "        \n",
              "  <svg xmlns=\"http://www.w3.org/2000/svg\" height=\"24px\"viewBox=\"0 0 24 24\"\n",
              "       width=\"24px\">\n",
              "    <path d=\"M0 0h24v24H0V0z\" fill=\"none\"/>\n",
              "    <path d=\"M18.56 5.44l.94 2.06.94-2.06 2.06-.94-2.06-.94-.94-2.06-.94 2.06-2.06.94zm-11 1L8.5 8.5l.94-2.06 2.06-.94-2.06-.94L8.5 2.5l-.94 2.06-2.06.94zm10 10l.94 2.06.94-2.06 2.06-.94-2.06-.94-.94-2.06-.94 2.06-2.06.94z\"/><path d=\"M17.41 7.96l-1.37-1.37c-.4-.4-.92-.59-1.43-.59-.52 0-1.04.2-1.43.59L10.3 9.45l-7.72 7.72c-.78.78-.78 2.05 0 2.83L4 21.41c.39.39.9.59 1.41.59.51 0 1.02-.2 1.41-.59l7.78-7.78 2.81-2.81c.8-.78.8-2.07 0-2.86zM5.41 20L4 18.59l7.72-7.72 1.47 1.35L5.41 20z\"/>\n",
              "  </svg>\n",
              "      </button>\n",
              "      \n",
              "  <style>\n",
              "    .colab-df-container {\n",
              "      display:flex;\n",
              "      flex-wrap:wrap;\n",
              "      gap: 12px;\n",
              "    }\n",
              "\n",
              "    .colab-df-convert {\n",
              "      background-color: #E8F0FE;\n",
              "      border: none;\n",
              "      border-radius: 50%;\n",
              "      cursor: pointer;\n",
              "      display: none;\n",
              "      fill: #1967D2;\n",
              "      height: 32px;\n",
              "      padding: 0 0 0 0;\n",
              "      width: 32px;\n",
              "    }\n",
              "\n",
              "    .colab-df-convert:hover {\n",
              "      background-color: #E2EBFA;\n",
              "      box-shadow: 0px 1px 2px rgba(60, 64, 67, 0.3), 0px 1px 3px 1px rgba(60, 64, 67, 0.15);\n",
              "      fill: #174EA6;\n",
              "    }\n",
              "\n",
              "    [theme=dark] .colab-df-convert {\n",
              "      background-color: #3B4455;\n",
              "      fill: #D2E3FC;\n",
              "    }\n",
              "\n",
              "    [theme=dark] .colab-df-convert:hover {\n",
              "      background-color: #434B5C;\n",
              "      box-shadow: 0px 1px 3px 1px rgba(0, 0, 0, 0.15);\n",
              "      filter: drop-shadow(0px 1px 2px rgba(0, 0, 0, 0.3));\n",
              "      fill: #FFFFFF;\n",
              "    }\n",
              "  </style>\n",
              "\n",
              "      <script>\n",
              "        const buttonEl =\n",
              "          document.querySelector('#df-9414b746-4181-4700-bab9-958a7dcd3be2 button.colab-df-convert');\n",
              "        buttonEl.style.display =\n",
              "          google.colab.kernel.accessAllowed ? 'block' : 'none';\n",
              "\n",
              "        async function convertToInteractive(key) {\n",
              "          const element = document.querySelector('#df-9414b746-4181-4700-bab9-958a7dcd3be2');\n",
              "          const dataTable =\n",
              "            await google.colab.kernel.invokeFunction('convertToInteractive',\n",
              "                                                     [key], {});\n",
              "          if (!dataTable) return;\n",
              "\n",
              "          const docLinkHtml = 'Like what you see? Visit the ' +\n",
              "            '<a target=\"_blank\" href=https://colab.research.google.com/notebooks/data_table.ipynb>data table notebook</a>'\n",
              "            + ' to learn more about interactive tables.';\n",
              "          element.innerHTML = '';\n",
              "          dataTable['output_type'] = 'display_data';\n",
              "          await google.colab.output.renderOutput(dataTable, element);\n",
              "          const docLink = document.createElement('div');\n",
              "          docLink.innerHTML = docLinkHtml;\n",
              "          element.appendChild(docLink);\n",
              "        }\n",
              "      </script>\n",
              "    </div>\n",
              "  </div>\n",
              "  "
            ]
          },
          "metadata": {},
          "execution_count": 6
        }
      ]
    },
    {
      "cell_type": "markdown",
      "source": [
        "Definim una funció que realitza el següent: \n",
        "1. Demana introduïr l'**id** d'un usuari i el número **N** de recomanacions que és volen.\n",
        "2. Crea una llista amb les pel·lícules no vistes per l'usuari.\n",
        "3. Imprimeix les **N** pel·lícules que l'usuari ha puntuat més alt.\n",
        "4. Instància un objecte KNN amb veïnatge 30 i **métode de filtratge col·laboratiu user-user**, l'entrena amb tot el dataset i fa prediccions de totes les pel·lícules no puntuades per l'usuari.\n",
        "5. Imprimeix les **N** prediccions més altes.\n",
        "6. Repeteix els passos 4 i 5 amb un objecte de veïnatge 20 i **métode de filtratge col·laboratiu item-item**.\n",
        "7. Repeteix els passos 4 i 5 amb un objecte **SVD**. "
      ],
      "metadata": {
        "id": "fVukEpweK3Zo"
      }
    },
    {
      "cell_type": "code",
      "source": [
        "def recommendations():\n",
        "  from operator import itemgetter\n",
        "  from surprise import KNNBasic\n",
        "  from surprise import SVD\n",
        "  from surprise import Dataset\n",
        "  from surprise import Reader\n",
        "  print('Escriu userId: ')\n",
        "  Id=int(input())\n",
        "  print('Número de títols recomanats: ')\n",
        "  N=int(input())\n",
        "  #Id=1\n",
        "  #N=10\n",
        "  all_filmsId=list(movies_metadata.movieId.unique())\n",
        "  watched_filmsId=ratings_data[ratings_data['userId']==Id]['movieId']#Pel·lícules vistes per l'usuari\n",
        "  NOwatched_filmsId=list(set(all_filmsId) - set(watched_filmsId))#Pel·lícules no vistes per l'usuari\n",
        "  print(\"Pel·lícules que més han agradat a l'usuari\")\n",
        "  print('--------------------------------------------------------')\n",
        "  for i in merged[merged['userId']==Id]['rating'].nlargest(N).index:\n",
        "    print(i)\n",
        "  print('--------------------------------------------------------')\n",
        "  reader = Reader(rating_scale=(1, 5))\n",
        "  data = Dataset.load_from_df(ratings_data, reader)\n",
        "  # Retrieve the trainset.\n",
        "  trainset = data.build_full_trainset()\n",
        "  # KNN user-user\n",
        "  uu = KNNBasic(verbose=False,k=30,min_k=30, sim_options={'name': 'pearson', 'user_based': True, 'verbose' : True})#Veinatge de 30\n",
        "  uu.fit(trainset)\n",
        "  prediction={}\n",
        "  for novista in NOwatched_filmsId:\n",
        "    title=movies_metadata[movies_metadata.movieId==novista]['title'].values[0]\n",
        "    prediction[title]=uu.predict(uid=Id, iid=novista).est\n",
        "  print(\"Llistat de títols recomanats amb el métode user-user\")\n",
        "  print('--------------------------------------------------------')\n",
        "  if N>len(prediction):#màxim titols recomanats és el total de pel·lícules predites\n",
        "    N=len(prediction)\n",
        "  for recomanacio in dict(sorted(prediction.items(), key = itemgetter(1), reverse = True)[:N]):\n",
        "    print(recomanacio,', Predicció rating: ',dict(sorted(prediction.items(), key = itemgetter(1), reverse = True))[recomanacio])\n",
        "  # KNN item-item\n",
        "  prediction={}\n",
        "  ii = KNNBasic(verbose=False,k=20,min_k=20, sim_options={'name': 'pearson', 'user_based': False, 'verbose' : True})#Veinatge de 20\n",
        "  ii.fit(trainset)\n",
        "  for novista in NOwatched_filmsId:\n",
        "    title=movies_metadata[movies_metadata.movieId==novista]['title'].values[0]\n",
        "    prediction[title]=ii.predict(uid=Id, iid=novista).est\n",
        "  print('--------------------------------------------------------')\n",
        "  print(\"Llistat de títols recomanats amb el métode item-item\")\n",
        "  print('--------------------------------------------------------')\n",
        "  if N>len(prediction):#màxim titols recomanats és el total de pel·lícules predites\n",
        "    N=len(prediction)\n",
        "  for recomanacio in dict(sorted(prediction.items(), key = itemgetter(1), reverse = True)[:N]):\n",
        "    print(recomanacio,', Predicció rating: ',dict(sorted(prediction.items(), key = itemgetter(1), reverse = True))[recomanacio])\n",
        "  # SVD\n",
        "  prediction={}\n",
        "  svd = SVD(verbose=False, n_epochs=4)\n",
        "  svd.fit(trainset)\n",
        "  for novista in NOwatched_filmsId:\n",
        "    title=movies_metadata[movies_metadata.movieId==novista]['title'].values[0]\n",
        "    prediction[title]=svd.predict(uid=Id, iid=novista).est\n",
        "  print('--------------------------------------------------------')\n",
        "  print(\"Llistat de títols recomanats amb el métode SVD\")\n",
        "  print('--------------------------------------------------------')\n",
        "  if N>len(prediction):#màxim titols recomanats és el total de pel·lícules predites\n",
        "    N=len(prediction)\n",
        "  for recomanacio in dict(sorted(prediction.items(), key = itemgetter(1), reverse = True)[:N]):\n",
        "    print(recomanacio,', Predicció rating: ',dict(sorted(prediction.items(), key = itemgetter(1), reverse = True))[recomanacio])"
      ],
      "metadata": {
        "id": "_6zvotptsue7"
      },
      "execution_count": 9,
      "outputs": []
    },
    {
      "cell_type": "markdown",
      "source": [
        "Invoquem la funció amb l'**usuari 1 i 10 recomanacions**."
      ],
      "metadata": {
        "id": "d3SnPwbGM5KO"
      }
    },
    {
      "cell_type": "code",
      "source": [
        "recommendations()"
      ],
      "metadata": {
        "colab": {
          "base_uri": "https://localhost:8080/"
        },
        "id": "Spb49FuFM0Cz",
        "outputId": "3f2a595b-1a1a-4f33-8c6b-fbf877dec7a4"
      },
      "execution_count": 10,
      "outputs": [
        {
          "output_type": "stream",
          "name": "stdout",
          "text": [
            "Escriu userId: \n",
            "1\n",
            "Número de títols recomanats: \n",
            "10\n",
            "Pel·lícules que més han agradat a l'usuari\n",
            "--------------------------------------------------------\n",
            "Seven (a.k.a. Se7en) (1995)\n",
            "Usual Suspects, The (1995)\n",
            "Bottle Rocket (1996)\n",
            "Rob Roy (1995)\n",
            "Canadian Bacon (1995)\n",
            "Desperado (1995)\n",
            "Billy Madison (1995)\n",
            "Dumb & Dumber (Dumb and Dumber) (1994)\n",
            "Star Wars: Episode IV - A New Hope (1977)\n",
            "Tommy Boy (1995)\n",
            "--------------------------------------------------------\n",
            "Llistat de títols recomanats amb el métode user-user\n",
            "--------------------------------------------------------\n",
            "Shawshank Redemption, The (1994) , Predicció rating:  4.712915821853925\n",
            "Departed, The (2006) , Predicció rating:  4.607072012329428\n",
            "Casablanca (1942) , Predicció rating:  4.505273491125451\n",
            "Godfather, The (1972) , Predicció rating:  4.452664816168339\n",
            "Cool Hand Luke (1967) , Predicció rating:  4.4262852183803405\n",
            "Spirited Away (Sen to Chihiro no kamikakushi) (2001) , Predicció rating:  4.407275961320861\n",
            "Godfather: Part II, The (1974) , Predicció rating:  4.3955807668130165\n",
            "Life Is Beautiful (La Vita è bella) (1997) , Predicció rating:  4.388243212511808\n",
            "Interstellar (2014) , Predicció rating:  4.385344257881429\n",
            "Eternal Sunshine of the Spotless Mind (2004) , Predicció rating:  4.380868978495136\n",
            "--------------------------------------------------------\n",
            "Llistat de títols recomanats amb el métode item-item\n",
            "--------------------------------------------------------\n",
            "Heist (2001) , Predicció rating:  4.95\n",
            "Fun with Dick and Jane (2005) , Predicció rating:  4.857240098740795\n",
            "Beach, The (2000) , Predicció rating:  4.8529802286650305\n",
            "Idiocracy (2006) , Predicció rating:  4.850843393340362\n",
            "Hang 'Em High (1968) , Predicció rating:  4.85\n",
            "Time Traveler's Wife, The (2009) , Predicció rating:  4.85\n",
            "Louis C.K.: Live at The Comedy Store (2015) , Predicció rating:  4.849969023065828\n",
            "Salo, or The 120 Days of Sodom (Salò o le 120 giornate di Sodoma) (1976) , Predicció rating:  4.846153846153846\n",
            "Lucas (1986) , Predicció rating:  4.839846686792682\n",
            "Postman, The (Postino, Il) (1994) , Predicció rating:  4.81653609068961\n",
            "--------------------------------------------------------\n",
            "Llistat de títols recomanats amb el métode SVD\n",
            "--------------------------------------------------------\n",
            "Shawshank Redemption, The (1994) , Predicció rating:  5\n",
            "Godfather, The (1972) , Predicció rating:  5\n",
            "Godfather: Part II, The (1974) , Predicció rating:  5\n",
            "Life Is Beautiful (La Vita è bella) (1997) , Predicció rating:  5\n",
            "Lord of the Rings: The Return of the King, The (2003) , Predicció rating:  5\n",
            "Dark Knight, The (2008) , Predicció rating:  5\n",
            "One Flew Over the Cuckoo's Nest (1975) , Predicció rating:  4.995746516283179\n",
            "Lord of the Rings: The Fellowship of the Ring, The (2001) , Predicció rating:  4.970836181078186\n",
            "Brazil (1985) , Predicció rating:  4.924376340536466\n",
            "Amadeus (1984) , Predicció rating:  4.896522934205587\n"
          ]
        }
      ]
    },
    {
      "cell_type": "markdown",
      "source": [
        "El primer títol recomanat amb el mètode **user-user CF** *Shawshank Redemption, The (1994)* és el mateix que va ser recomanat en l'exercici 3 amb que vaig treballar amb només 4000 pel·lícules, bona senyal. Les pel·lícules recomanades amb els métodes **user-user** i **SVD** són molt conegudes i apareixen bastants recomanacions en comú utilitzant els 2 métodes. Les recomanacions amb el métode **item-item** són molt més desconegudes i hi ha més varietat."
      ],
      "metadata": {
        "id": "8uyTyZ89B9jc"
      }
    },
    {
      "cell_type": "markdown",
      "source": [
        "#Comparació d'errors dels 3 mètodes."
      ],
      "metadata": {
        "id": "3akD_fLHEDBS"
      }
    },
    {
      "cell_type": "markdown",
      "source": [
        "Analitzem els errors **RMSE** i **MAE** dels 3 métodes utilitzant *cross-validation* amb un percentatge de dades de test del 20%:"
      ],
      "metadata": {
        "id": "VxTahf5EF-iK"
      }
    },
    {
      "cell_type": "code",
      "source": [
        "from surprise.model_selection import cross_validate"
      ],
      "metadata": {
        "id": "xopgeUGAEONu"
      },
      "execution_count": null,
      "outputs": []
    },
    {
      "cell_type": "code",
      "source": [
        "cross_validate(uu, data, measures=[\"RMSE\", \"MAE\"], cv=5, verbose=True)"
      ],
      "metadata": {
        "colab": {
          "base_uri": "https://localhost:8080/"
        },
        "id": "BEWSiKFiESvt",
        "outputId": "7de2b433-3438-4c99-b1f8-7973a0ff4b29"
      },
      "execution_count": null,
      "outputs": [
        {
          "output_type": "stream",
          "name": "stdout",
          "text": [
            "Evaluating RMSE, MAE of algorithm KNNBasic on 5 split(s).\n",
            "\n",
            "                  Fold 1  Fold 2  Fold 3  Fold 4  Fold 5  Mean    Std     \n",
            "RMSE (testset)    1.0036  1.0036  1.0062  0.9930  1.0017  1.0016  0.0045  \n",
            "MAE (testset)     0.7781  0.7793  0.7796  0.7721  0.7767  0.7772  0.0027  \n",
            "Fit time          0.37    0.38    0.43    0.32    0.33    0.37    0.04    \n",
            "Test time         1.62    4.25    1.62    1.58    1.83    2.18    1.04    \n"
          ]
        },
        {
          "output_type": "execute_result",
          "data": {
            "text/plain": [
              "{'test_rmse': array([1.00356139, 1.00362605, 1.00617661, 0.9929949 , 1.00166874]),\n",
              " 'test_mae': array([0.77807281, 0.77927112, 0.77962956, 0.77212664, 0.77665501]),\n",
              " 'fit_time': (0.3693845272064209,\n",
              "  0.3839902877807617,\n",
              "  0.43327879905700684,\n",
              "  0.3204009532928467,\n",
              "  0.3282771110534668),\n",
              " 'test_time': (1.619856357574463,\n",
              "  4.249210357666016,\n",
              "  1.6203114986419678,\n",
              "  1.581559181213379,\n",
              "  1.8273553848266602)}"
            ]
          },
          "metadata": {},
          "execution_count": 95
        }
      ]
    },
    {
      "cell_type": "code",
      "source": [
        "cross_validate(ii, data, measures=[\"RMSE\", \"MAE\"], cv=5, verbose=True)"
      ],
      "metadata": {
        "colab": {
          "base_uri": "https://localhost:8080/"
        },
        "id": "gfCe_YhpFDjw",
        "outputId": "03190019-2e5b-49e4-ede5-027c50bedc0e"
      },
      "execution_count": null,
      "outputs": [
        {
          "output_type": "stream",
          "name": "stdout",
          "text": [
            "Evaluating RMSE, MAE of algorithm KNNBasic on 5 split(s).\n",
            "\n",
            "                  Fold 1  Fold 2  Fold 3  Fold 4  Fold 5  Mean    Std     \n",
            "RMSE (testset)    0.9958  0.9910  0.9891  0.9929  0.9882  0.9914  0.0027  \n",
            "MAE (testset)     0.7793  0.7748  0.7733  0.7744  0.7728  0.7749  0.0023  \n",
            "Fit time          10.92   10.10   10.69   9.95    10.93   10.52   0.41    \n",
            "Test time         10.22   9.70    10.34   9.60    10.63   10.10   0.39    \n"
          ]
        },
        {
          "output_type": "execute_result",
          "data": {
            "text/plain": [
              "{'test_rmse': array([0.99581387, 0.99100303, 0.98913506, 0.9928613 , 0.98818391]),\n",
              " 'test_mae': array([0.7793037 , 0.77478525, 0.77325306, 0.77441224, 0.77283245]),\n",
              " 'fit_time': (10.915890455245972,\n",
              "  10.097280979156494,\n",
              "  10.688978433609009,\n",
              "  9.945682287216187,\n",
              "  10.927297830581665),\n",
              " 'test_time': (10.218065738677979,\n",
              "  9.699293851852417,\n",
              "  10.335005044937134,\n",
              "  9.599459648132324,\n",
              "  10.633747816085815)}"
            ]
          },
          "metadata": {},
          "execution_count": 96
        }
      ]
    },
    {
      "cell_type": "code",
      "source": [
        "cross_validate(svd, data, measures=[\"RMSE\", \"MAE\"], cv=5, verbose=True)"
      ],
      "metadata": {
        "colab": {
          "base_uri": "https://localhost:8080/"
        },
        "id": "qsDIT8f7F4x7",
        "outputId": "e6859146-5c16-4885-ed3a-f1e7b21705b7"
      },
      "execution_count": null,
      "outputs": [
        {
          "output_type": "stream",
          "name": "stdout",
          "text": [
            "Evaluating RMSE, MAE of algorithm SVD on 5 split(s).\n",
            "\n",
            "                  Fold 1  Fold 2  Fold 3  Fold 4  Fold 5  Mean    Std     \n",
            "RMSE (testset)    0.9030  0.8877  0.8989  0.9003  0.9004  0.8981  0.0053  \n",
            "MAE (testset)     0.6978  0.6873  0.6947  0.6973  0.6986  0.6951  0.0041  \n",
            "Fit time          0.44    0.43    0.42    0.43    0.42    0.43    0.01    \n",
            "Test time         0.16    0.16    0.15    0.23    0.36    0.21    0.08    \n"
          ]
        },
        {
          "output_type": "execute_result",
          "data": {
            "text/plain": [
              "{'test_rmse': array([0.90302101, 0.88773748, 0.8989233 , 0.9003264 , 0.90039321]),\n",
              " 'test_mae': array([0.69779214, 0.6873367 , 0.69468511, 0.69726053, 0.69856867]),\n",
              " 'fit_time': (0.4415264129638672,\n",
              "  0.4250316619873047,\n",
              "  0.4216043949127197,\n",
              "  0.43407559394836426,\n",
              "  0.41987133026123047),\n",
              " 'test_time': (0.1638047695159912,\n",
              "  0.15626811981201172,\n",
              "  0.15108299255371094,\n",
              "  0.23026299476623535,\n",
              "  0.36376500129699707)}"
            ]
          },
          "metadata": {},
          "execution_count": 97
        }
      ]
    },
    {
      "cell_type": "markdown",
      "source": [
        "El métodes **user-user CF** i **item-item CF** presenten errors molt semblants, al voltant de 1 en RMSE i 0.78 MAE. **User-user CF** té un error RMSE unes mil·lèsimes per sobre i al voltant d'un 25% menys de desviació estàndar.\n",
        "\n",
        "El mètode **SVC** té un error menor als altres, RMSE de 0.9 i MAE de 0.7. Amb aquest mètode dificilment errarem en més d'un punt la predicció."
      ],
      "metadata": {
        "id": "FnbU9qZhHXb6"
      }
    }
  ],
  "metadata": {
    "kernelspec": {
      "display_name": "Python 3 (ipykernel)",
      "language": "python",
      "name": "python3"
    },
    "language_info": {
      "codemirror_mode": {
        "name": "ipython",
        "version": 3
      },
      "file_extension": ".py",
      "mimetype": "text/x-python",
      "name": "python",
      "nbconvert_exporter": "python",
      "pygments_lexer": "ipython3",
      "version": "3.9.12"
    },
    "colab": {
      "provenance": []
    }
  },
  "nbformat": 4,
  "nbformat_minor": 0
}