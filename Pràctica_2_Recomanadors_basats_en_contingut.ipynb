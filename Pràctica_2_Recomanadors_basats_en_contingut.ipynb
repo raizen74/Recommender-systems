{
  "cells": [
    {
      "cell_type": "markdown",
      "source": [
        "#Pràctica 2: Recomanadors basats en continguts\n",
        "\n",
        "David Galera"
      ],
      "metadata": {
        "id": "2fse14vbsUSe"
      }
    },
    {
      "cell_type": "markdown",
      "source": [
        "Es demana fer un programa (notebook) que:"
      ],
      "metadata": {
        "id": "WCBg8SmgnVdC"
      }
    },
    {
      "cell_type": "markdown",
      "source": [
        "# a/ A partir de les dades, generi una matriu on les files siguin les pel·lícules i les columnes els tags. A la posició (p_i,t_j) ha d’haver el nombre de vegades que algun usuari ha aplicat el tag t_j a la pel·lícula pi."
      ],
      "metadata": {
        "id": "qZQrmbVum_Z6"
      }
    },
    {
      "cell_type": "code",
      "source": [
        "from google.colab import drive\n",
        "drive.mount('/content/drive')"
      ],
      "metadata": {
        "colab": {
          "base_uri": "https://localhost:8080/"
        },
        "id": "AU27CCUWDpMV",
        "outputId": "86659412-c08d-4e3c-89dd-fb8be83f5a37"
      },
      "execution_count": 1,
      "outputs": [
        {
          "output_type": "stream",
          "name": "stdout",
          "text": [
            "Mounted at /content/drive\n"
          ]
        }
      ]
    },
    {
      "cell_type": "code",
      "source": [
        "import pandas as pd\n",
        "import numpy as np\n",
        "import math\n",
        "from sklearn.metrics.pairwise import cosine_similarity\n",
        "from sklearn.feature_extraction.text import CountVectorizer\n",
        "from sklearn.metrics import jaccard_score\n",
        "from scipy.spatial.distance import pdist, squareform"
      ],
      "metadata": {
        "id": "Aybl7VLilC30"
      },
      "execution_count": 2,
      "outputs": []
    },
    {
      "cell_type": "code",
      "execution_count": 3,
      "metadata": {
        "colab": {
          "base_uri": "https://localhost:8080/",
          "height": 241
        },
        "id": "GK5V2foz9nRN",
        "outputId": "af47b6bd-7059-46bc-9e06-f386ac4b2689"
      },
      "outputs": [
        {
          "output_type": "stream",
          "name": "stdout",
          "text": [
            "tags shape: (3683, 4)\n",
            "Index(['userId', 'movieId', 'tag', 'timestamp'], dtype='object')\n"
          ]
        },
        {
          "output_type": "execute_result",
          "data": {
            "text/plain": [
              "   userId  movieId              tag   timestamp\n",
              "0       2    60756            funny  1445714994\n",
              "1       2    60756  Highly quotable  1445714996\n",
              "2       2    60756     will ferrell  1445714992\n",
              "3       2    89774     Boxing story  1445715207\n",
              "4       2    89774              MMA  1445715200"
            ],
            "text/html": [
              "\n",
              "  <div id=\"df-83912d51-63ab-48b5-971c-5f43a2850b7e\">\n",
              "    <div class=\"colab-df-container\">\n",
              "      <div>\n",
              "<style scoped>\n",
              "    .dataframe tbody tr th:only-of-type {\n",
              "        vertical-align: middle;\n",
              "    }\n",
              "\n",
              "    .dataframe tbody tr th {\n",
              "        vertical-align: top;\n",
              "    }\n",
              "\n",
              "    .dataframe thead th {\n",
              "        text-align: right;\n",
              "    }\n",
              "</style>\n",
              "<table border=\"1\" class=\"dataframe\">\n",
              "  <thead>\n",
              "    <tr style=\"text-align: right;\">\n",
              "      <th></th>\n",
              "      <th>userId</th>\n",
              "      <th>movieId</th>\n",
              "      <th>tag</th>\n",
              "      <th>timestamp</th>\n",
              "    </tr>\n",
              "  </thead>\n",
              "  <tbody>\n",
              "    <tr>\n",
              "      <th>0</th>\n",
              "      <td>2</td>\n",
              "      <td>60756</td>\n",
              "      <td>funny</td>\n",
              "      <td>1445714994</td>\n",
              "    </tr>\n",
              "    <tr>\n",
              "      <th>1</th>\n",
              "      <td>2</td>\n",
              "      <td>60756</td>\n",
              "      <td>Highly quotable</td>\n",
              "      <td>1445714996</td>\n",
              "    </tr>\n",
              "    <tr>\n",
              "      <th>2</th>\n",
              "      <td>2</td>\n",
              "      <td>60756</td>\n",
              "      <td>will ferrell</td>\n",
              "      <td>1445714992</td>\n",
              "    </tr>\n",
              "    <tr>\n",
              "      <th>3</th>\n",
              "      <td>2</td>\n",
              "      <td>89774</td>\n",
              "      <td>Boxing story</td>\n",
              "      <td>1445715207</td>\n",
              "    </tr>\n",
              "    <tr>\n",
              "      <th>4</th>\n",
              "      <td>2</td>\n",
              "      <td>89774</td>\n",
              "      <td>MMA</td>\n",
              "      <td>1445715200</td>\n",
              "    </tr>\n",
              "  </tbody>\n",
              "</table>\n",
              "</div>\n",
              "      <button class=\"colab-df-convert\" onclick=\"convertToInteractive('df-83912d51-63ab-48b5-971c-5f43a2850b7e')\"\n",
              "              title=\"Convert this dataframe to an interactive table.\"\n",
              "              style=\"display:none;\">\n",
              "        \n",
              "  <svg xmlns=\"http://www.w3.org/2000/svg\" height=\"24px\"viewBox=\"0 0 24 24\"\n",
              "       width=\"24px\">\n",
              "    <path d=\"M0 0h24v24H0V0z\" fill=\"none\"/>\n",
              "    <path d=\"M18.56 5.44l.94 2.06.94-2.06 2.06-.94-2.06-.94-.94-2.06-.94 2.06-2.06.94zm-11 1L8.5 8.5l.94-2.06 2.06-.94-2.06-.94L8.5 2.5l-.94 2.06-2.06.94zm10 10l.94 2.06.94-2.06 2.06-.94-2.06-.94-.94-2.06-.94 2.06-2.06.94z\"/><path d=\"M17.41 7.96l-1.37-1.37c-.4-.4-.92-.59-1.43-.59-.52 0-1.04.2-1.43.59L10.3 9.45l-7.72 7.72c-.78.78-.78 2.05 0 2.83L4 21.41c.39.39.9.59 1.41.59.51 0 1.02-.2 1.41-.59l7.78-7.78 2.81-2.81c.8-.78.8-2.07 0-2.86zM5.41 20L4 18.59l7.72-7.72 1.47 1.35L5.41 20z\"/>\n",
              "  </svg>\n",
              "      </button>\n",
              "      \n",
              "  <style>\n",
              "    .colab-df-container {\n",
              "      display:flex;\n",
              "      flex-wrap:wrap;\n",
              "      gap: 12px;\n",
              "    }\n",
              "\n",
              "    .colab-df-convert {\n",
              "      background-color: #E8F0FE;\n",
              "      border: none;\n",
              "      border-radius: 50%;\n",
              "      cursor: pointer;\n",
              "      display: none;\n",
              "      fill: #1967D2;\n",
              "      height: 32px;\n",
              "      padding: 0 0 0 0;\n",
              "      width: 32px;\n",
              "    }\n",
              "\n",
              "    .colab-df-convert:hover {\n",
              "      background-color: #E2EBFA;\n",
              "      box-shadow: 0px 1px 2px rgba(60, 64, 67, 0.3), 0px 1px 3px 1px rgba(60, 64, 67, 0.15);\n",
              "      fill: #174EA6;\n",
              "    }\n",
              "\n",
              "    [theme=dark] .colab-df-convert {\n",
              "      background-color: #3B4455;\n",
              "      fill: #D2E3FC;\n",
              "    }\n",
              "\n",
              "    [theme=dark] .colab-df-convert:hover {\n",
              "      background-color: #434B5C;\n",
              "      box-shadow: 0px 1px 3px 1px rgba(0, 0, 0, 0.15);\n",
              "      filter: drop-shadow(0px 1px 2px rgba(0, 0, 0, 0.3));\n",
              "      fill: #FFFFFF;\n",
              "    }\n",
              "  </style>\n",
              "\n",
              "      <script>\n",
              "        const buttonEl =\n",
              "          document.querySelector('#df-83912d51-63ab-48b5-971c-5f43a2850b7e button.colab-df-convert');\n",
              "        buttonEl.style.display =\n",
              "          google.colab.kernel.accessAllowed ? 'block' : 'none';\n",
              "\n",
              "        async function convertToInteractive(key) {\n",
              "          const element = document.querySelector('#df-83912d51-63ab-48b5-971c-5f43a2850b7e');\n",
              "          const dataTable =\n",
              "            await google.colab.kernel.invokeFunction('convertToInteractive',\n",
              "                                                     [key], {});\n",
              "          if (!dataTable) return;\n",
              "\n",
              "          const docLinkHtml = 'Like what you see? Visit the ' +\n",
              "            '<a target=\"_blank\" href=https://colab.research.google.com/notebooks/data_table.ipynb>data table notebook</a>'\n",
              "            + ' to learn more about interactive tables.';\n",
              "          element.innerHTML = '';\n",
              "          dataTable['output_type'] = 'display_data';\n",
              "          await google.colab.output.renderOutput(dataTable, element);\n",
              "          const docLink = document.createElement('div');\n",
              "          docLink.innerHTML = docLinkHtml;\n",
              "          element.appendChild(docLink);\n",
              "        }\n",
              "      </script>\n",
              "    </div>\n",
              "  </div>\n",
              "  "
            ]
          },
          "metadata": {},
          "execution_count": 3
        }
      ],
      "source": [
        "tags = pd.read_csv(\"/content/drive/MyDrive/Advanced ML/tags.csv\")\n",
        "print('tags shape:',tags.shape)\n",
        "print(tags.columns)\n",
        "tags.head()"
      ]
    },
    {
      "cell_type": "code",
      "source": [
        "movies = pd.read_csv(\"/content/drive/MyDrive/Advanced ML/movies.csv\")\n",
        "print('movies shape:',movies.shape)\n",
        "print(movies.columns)\n",
        "movies.head()"
      ],
      "metadata": {
        "colab": {
          "base_uri": "https://localhost:8080/",
          "height": 241
        },
        "id": "U1UURvrwpLj1",
        "outputId": "f0962216-5173-41c7-fbfb-00734428a8df"
      },
      "execution_count": 4,
      "outputs": [
        {
          "output_type": "stream",
          "name": "stdout",
          "text": [
            "movies shape: (9742, 3)\n",
            "Index(['movieId', 'title', 'genres'], dtype='object')\n"
          ]
        },
        {
          "output_type": "execute_result",
          "data": {
            "text/plain": [
              "   movieId                               title  \\\n",
              "0        1                    Toy Story (1995)   \n",
              "1        2                      Jumanji (1995)   \n",
              "2        3             Grumpier Old Men (1995)   \n",
              "3        4            Waiting to Exhale (1995)   \n",
              "4        5  Father of the Bride Part II (1995)   \n",
              "\n",
              "                                        genres  \n",
              "0  Adventure|Animation|Children|Comedy|Fantasy  \n",
              "1                   Adventure|Children|Fantasy  \n",
              "2                               Comedy|Romance  \n",
              "3                         Comedy|Drama|Romance  \n",
              "4                                       Comedy  "
            ],
            "text/html": [
              "\n",
              "  <div id=\"df-c2a84bd7-1c6b-43db-acf6-d86f74137261\">\n",
              "    <div class=\"colab-df-container\">\n",
              "      <div>\n",
              "<style scoped>\n",
              "    .dataframe tbody tr th:only-of-type {\n",
              "        vertical-align: middle;\n",
              "    }\n",
              "\n",
              "    .dataframe tbody tr th {\n",
              "        vertical-align: top;\n",
              "    }\n",
              "\n",
              "    .dataframe thead th {\n",
              "        text-align: right;\n",
              "    }\n",
              "</style>\n",
              "<table border=\"1\" class=\"dataframe\">\n",
              "  <thead>\n",
              "    <tr style=\"text-align: right;\">\n",
              "      <th></th>\n",
              "      <th>movieId</th>\n",
              "      <th>title</th>\n",
              "      <th>genres</th>\n",
              "    </tr>\n",
              "  </thead>\n",
              "  <tbody>\n",
              "    <tr>\n",
              "      <th>0</th>\n",
              "      <td>1</td>\n",
              "      <td>Toy Story (1995)</td>\n",
              "      <td>Adventure|Animation|Children|Comedy|Fantasy</td>\n",
              "    </tr>\n",
              "    <tr>\n",
              "      <th>1</th>\n",
              "      <td>2</td>\n",
              "      <td>Jumanji (1995)</td>\n",
              "      <td>Adventure|Children|Fantasy</td>\n",
              "    </tr>\n",
              "    <tr>\n",
              "      <th>2</th>\n",
              "      <td>3</td>\n",
              "      <td>Grumpier Old Men (1995)</td>\n",
              "      <td>Comedy|Romance</td>\n",
              "    </tr>\n",
              "    <tr>\n",
              "      <th>3</th>\n",
              "      <td>4</td>\n",
              "      <td>Waiting to Exhale (1995)</td>\n",
              "      <td>Comedy|Drama|Romance</td>\n",
              "    </tr>\n",
              "    <tr>\n",
              "      <th>4</th>\n",
              "      <td>5</td>\n",
              "      <td>Father of the Bride Part II (1995)</td>\n",
              "      <td>Comedy</td>\n",
              "    </tr>\n",
              "  </tbody>\n",
              "</table>\n",
              "</div>\n",
              "      <button class=\"colab-df-convert\" onclick=\"convertToInteractive('df-c2a84bd7-1c6b-43db-acf6-d86f74137261')\"\n",
              "              title=\"Convert this dataframe to an interactive table.\"\n",
              "              style=\"display:none;\">\n",
              "        \n",
              "  <svg xmlns=\"http://www.w3.org/2000/svg\" height=\"24px\"viewBox=\"0 0 24 24\"\n",
              "       width=\"24px\">\n",
              "    <path d=\"M0 0h24v24H0V0z\" fill=\"none\"/>\n",
              "    <path d=\"M18.56 5.44l.94 2.06.94-2.06 2.06-.94-2.06-.94-.94-2.06-.94 2.06-2.06.94zm-11 1L8.5 8.5l.94-2.06 2.06-.94-2.06-.94L8.5 2.5l-.94 2.06-2.06.94zm10 10l.94 2.06.94-2.06 2.06-.94-2.06-.94-.94-2.06-.94 2.06-2.06.94z\"/><path d=\"M17.41 7.96l-1.37-1.37c-.4-.4-.92-.59-1.43-.59-.52 0-1.04.2-1.43.59L10.3 9.45l-7.72 7.72c-.78.78-.78 2.05 0 2.83L4 21.41c.39.39.9.59 1.41.59.51 0 1.02-.2 1.41-.59l7.78-7.78 2.81-2.81c.8-.78.8-2.07 0-2.86zM5.41 20L4 18.59l7.72-7.72 1.47 1.35L5.41 20z\"/>\n",
              "  </svg>\n",
              "      </button>\n",
              "      \n",
              "  <style>\n",
              "    .colab-df-container {\n",
              "      display:flex;\n",
              "      flex-wrap:wrap;\n",
              "      gap: 12px;\n",
              "    }\n",
              "\n",
              "    .colab-df-convert {\n",
              "      background-color: #E8F0FE;\n",
              "      border: none;\n",
              "      border-radius: 50%;\n",
              "      cursor: pointer;\n",
              "      display: none;\n",
              "      fill: #1967D2;\n",
              "      height: 32px;\n",
              "      padding: 0 0 0 0;\n",
              "      width: 32px;\n",
              "    }\n",
              "\n",
              "    .colab-df-convert:hover {\n",
              "      background-color: #E2EBFA;\n",
              "      box-shadow: 0px 1px 2px rgba(60, 64, 67, 0.3), 0px 1px 3px 1px rgba(60, 64, 67, 0.15);\n",
              "      fill: #174EA6;\n",
              "    }\n",
              "\n",
              "    [theme=dark] .colab-df-convert {\n",
              "      background-color: #3B4455;\n",
              "      fill: #D2E3FC;\n",
              "    }\n",
              "\n",
              "    [theme=dark] .colab-df-convert:hover {\n",
              "      background-color: #434B5C;\n",
              "      box-shadow: 0px 1px 3px 1px rgba(0, 0, 0, 0.15);\n",
              "      filter: drop-shadow(0px 1px 2px rgba(0, 0, 0, 0.3));\n",
              "      fill: #FFFFFF;\n",
              "    }\n",
              "  </style>\n",
              "\n",
              "      <script>\n",
              "        const buttonEl =\n",
              "          document.querySelector('#df-c2a84bd7-1c6b-43db-acf6-d86f74137261 button.colab-df-convert');\n",
              "        buttonEl.style.display =\n",
              "          google.colab.kernel.accessAllowed ? 'block' : 'none';\n",
              "\n",
              "        async function convertToInteractive(key) {\n",
              "          const element = document.querySelector('#df-c2a84bd7-1c6b-43db-acf6-d86f74137261');\n",
              "          const dataTable =\n",
              "            await google.colab.kernel.invokeFunction('convertToInteractive',\n",
              "                                                     [key], {});\n",
              "          if (!dataTable) return;\n",
              "\n",
              "          const docLinkHtml = 'Like what you see? Visit the ' +\n",
              "            '<a target=\"_blank\" href=https://colab.research.google.com/notebooks/data_table.ipynb>data table notebook</a>'\n",
              "            + ' to learn more about interactive tables.';\n",
              "          element.innerHTML = '';\n",
              "          dataTable['output_type'] = 'display_data';\n",
              "          await google.colab.output.renderOutput(dataTable, element);\n",
              "          const docLink = document.createElement('div');\n",
              "          docLink.innerHTML = docLinkHtml;\n",
              "          element.appendChild(docLink);\n",
              "        }\n",
              "      </script>\n",
              "    </div>\n",
              "  </div>\n",
              "  "
            ]
          },
          "metadata": {},
          "execution_count": 4
        }
      ]
    },
    {
      "cell_type": "markdown",
      "source": [
        "Afegim la columna amb el títol de la pel·lícula:"
      ],
      "metadata": {
        "id": "Af170Ghoq9BS"
      }
    },
    {
      "cell_type": "code",
      "source": [
        "df = pd.merge(tags[['movieId','tag']],movies[['movieId','title']],on=['movieId'],how='left')\n",
        "df.head()"
      ],
      "metadata": {
        "colab": {
          "base_uri": "https://localhost:8080/",
          "height": 206
        },
        "id": "dq68fDz4pCCz",
        "outputId": "661d8589-9907-4723-8684-e28017702d1e"
      },
      "execution_count": 5,
      "outputs": [
        {
          "output_type": "execute_result",
          "data": {
            "text/plain": [
              "   movieId              tag                 title\n",
              "0    60756            funny  Step Brothers (2008)\n",
              "1    60756  Highly quotable  Step Brothers (2008)\n",
              "2    60756     will ferrell  Step Brothers (2008)\n",
              "3    89774     Boxing story        Warrior (2011)\n",
              "4    89774              MMA        Warrior (2011)"
            ],
            "text/html": [
              "\n",
              "  <div id=\"df-f22eb2d9-d775-42f2-b98b-0bc9425c5dd5\">\n",
              "    <div class=\"colab-df-container\">\n",
              "      <div>\n",
              "<style scoped>\n",
              "    .dataframe tbody tr th:only-of-type {\n",
              "        vertical-align: middle;\n",
              "    }\n",
              "\n",
              "    .dataframe tbody tr th {\n",
              "        vertical-align: top;\n",
              "    }\n",
              "\n",
              "    .dataframe thead th {\n",
              "        text-align: right;\n",
              "    }\n",
              "</style>\n",
              "<table border=\"1\" class=\"dataframe\">\n",
              "  <thead>\n",
              "    <tr style=\"text-align: right;\">\n",
              "      <th></th>\n",
              "      <th>movieId</th>\n",
              "      <th>tag</th>\n",
              "      <th>title</th>\n",
              "    </tr>\n",
              "  </thead>\n",
              "  <tbody>\n",
              "    <tr>\n",
              "      <th>0</th>\n",
              "      <td>60756</td>\n",
              "      <td>funny</td>\n",
              "      <td>Step Brothers (2008)</td>\n",
              "    </tr>\n",
              "    <tr>\n",
              "      <th>1</th>\n",
              "      <td>60756</td>\n",
              "      <td>Highly quotable</td>\n",
              "      <td>Step Brothers (2008)</td>\n",
              "    </tr>\n",
              "    <tr>\n",
              "      <th>2</th>\n",
              "      <td>60756</td>\n",
              "      <td>will ferrell</td>\n",
              "      <td>Step Brothers (2008)</td>\n",
              "    </tr>\n",
              "    <tr>\n",
              "      <th>3</th>\n",
              "      <td>89774</td>\n",
              "      <td>Boxing story</td>\n",
              "      <td>Warrior (2011)</td>\n",
              "    </tr>\n",
              "    <tr>\n",
              "      <th>4</th>\n",
              "      <td>89774</td>\n",
              "      <td>MMA</td>\n",
              "      <td>Warrior (2011)</td>\n",
              "    </tr>\n",
              "  </tbody>\n",
              "</table>\n",
              "</div>\n",
              "      <button class=\"colab-df-convert\" onclick=\"convertToInteractive('df-f22eb2d9-d775-42f2-b98b-0bc9425c5dd5')\"\n",
              "              title=\"Convert this dataframe to an interactive table.\"\n",
              "              style=\"display:none;\">\n",
              "        \n",
              "  <svg xmlns=\"http://www.w3.org/2000/svg\" height=\"24px\"viewBox=\"0 0 24 24\"\n",
              "       width=\"24px\">\n",
              "    <path d=\"M0 0h24v24H0V0z\" fill=\"none\"/>\n",
              "    <path d=\"M18.56 5.44l.94 2.06.94-2.06 2.06-.94-2.06-.94-.94-2.06-.94 2.06-2.06.94zm-11 1L8.5 8.5l.94-2.06 2.06-.94-2.06-.94L8.5 2.5l-.94 2.06-2.06.94zm10 10l.94 2.06.94-2.06 2.06-.94-2.06-.94-.94-2.06-.94 2.06-2.06.94z\"/><path d=\"M17.41 7.96l-1.37-1.37c-.4-.4-.92-.59-1.43-.59-.52 0-1.04.2-1.43.59L10.3 9.45l-7.72 7.72c-.78.78-.78 2.05 0 2.83L4 21.41c.39.39.9.59 1.41.59.51 0 1.02-.2 1.41-.59l7.78-7.78 2.81-2.81c.8-.78.8-2.07 0-2.86zM5.41 20L4 18.59l7.72-7.72 1.47 1.35L5.41 20z\"/>\n",
              "  </svg>\n",
              "      </button>\n",
              "      \n",
              "  <style>\n",
              "    .colab-df-container {\n",
              "      display:flex;\n",
              "      flex-wrap:wrap;\n",
              "      gap: 12px;\n",
              "    }\n",
              "\n",
              "    .colab-df-convert {\n",
              "      background-color: #E8F0FE;\n",
              "      border: none;\n",
              "      border-radius: 50%;\n",
              "      cursor: pointer;\n",
              "      display: none;\n",
              "      fill: #1967D2;\n",
              "      height: 32px;\n",
              "      padding: 0 0 0 0;\n",
              "      width: 32px;\n",
              "    }\n",
              "\n",
              "    .colab-df-convert:hover {\n",
              "      background-color: #E2EBFA;\n",
              "      box-shadow: 0px 1px 2px rgba(60, 64, 67, 0.3), 0px 1px 3px 1px rgba(60, 64, 67, 0.15);\n",
              "      fill: #174EA6;\n",
              "    }\n",
              "\n",
              "    [theme=dark] .colab-df-convert {\n",
              "      background-color: #3B4455;\n",
              "      fill: #D2E3FC;\n",
              "    }\n",
              "\n",
              "    [theme=dark] .colab-df-convert:hover {\n",
              "      background-color: #434B5C;\n",
              "      box-shadow: 0px 1px 3px 1px rgba(0, 0, 0, 0.15);\n",
              "      filter: drop-shadow(0px 1px 2px rgba(0, 0, 0, 0.3));\n",
              "      fill: #FFFFFF;\n",
              "    }\n",
              "  </style>\n",
              "\n",
              "      <script>\n",
              "        const buttonEl =\n",
              "          document.querySelector('#df-f22eb2d9-d775-42f2-b98b-0bc9425c5dd5 button.colab-df-convert');\n",
              "        buttonEl.style.display =\n",
              "          google.colab.kernel.accessAllowed ? 'block' : 'none';\n",
              "\n",
              "        async function convertToInteractive(key) {\n",
              "          const element = document.querySelector('#df-f22eb2d9-d775-42f2-b98b-0bc9425c5dd5');\n",
              "          const dataTable =\n",
              "            await google.colab.kernel.invokeFunction('convertToInteractive',\n",
              "                                                     [key], {});\n",
              "          if (!dataTable) return;\n",
              "\n",
              "          const docLinkHtml = 'Like what you see? Visit the ' +\n",
              "            '<a target=\"_blank\" href=https://colab.research.google.com/notebooks/data_table.ipynb>data table notebook</a>'\n",
              "            + ' to learn more about interactive tables.';\n",
              "          element.innerHTML = '';\n",
              "          dataTable['output_type'] = 'display_data';\n",
              "          await google.colab.output.renderOutput(dataTable, element);\n",
              "          const docLink = document.createElement('div');\n",
              "          docLink.innerHTML = docLinkHtml;\n",
              "          element.appendChild(docLink);\n",
              "        }\n",
              "      </script>\n",
              "    </div>\n",
              "  </div>\n",
              "  "
            ]
          },
          "metadata": {},
          "execution_count": 5
        }
      ]
    },
    {
      "cell_type": "markdown",
      "source": [
        "Imprimim els tags de la pel·lícula *Step Brothers (2008)* i les unitats a mode d'exemple:"
      ],
      "metadata": {
        "id": "Rsbz05y4qGC_"
      }
    },
    {
      "cell_type": "code",
      "source": [
        "df[df['title']=='Step Brothers (2008)']['tag'].value_counts()"
      ],
      "metadata": {
        "colab": {
          "base_uri": "https://localhost:8080/"
        },
        "id": "AgJwhYhrp-up",
        "outputId": "aa71d735-2f26-44d9-a7bb-912e96b496c1"
      },
      "execution_count": 6,
      "outputs": [
        {
          "output_type": "execute_result",
          "data": {
            "text/plain": [
              "funny              3\n",
              "will ferrell       3\n",
              "Highly quotable    1\n",
              "comedy             1\n",
              "Name: tag, dtype: int64"
            ]
          },
          "metadata": {},
          "execution_count": 6
        }
      ]
    },
    {
      "cell_type": "markdown",
      "source": [
        "Calculem el número de pel·lícules diferents que contenen algún tag i el número de tags diferents: "
      ],
      "metadata": {
        "id": "Q8PgVpE2qrUG"
      }
    },
    {
      "cell_type": "code",
      "source": [
        "print('Número de pel·lícules amb tags: ',df.movieId.nunique())\n",
        "print('Número de tags diferents: ',df.tag.nunique())"
      ],
      "metadata": {
        "colab": {
          "base_uri": "https://localhost:8080/"
        },
        "id": "YRY2XDFipRSj",
        "outputId": "48bae984-2d64-4f2a-e2a1-9619ccfc6e81"
      },
      "execution_count": 7,
      "outputs": [
        {
          "output_type": "stream",
          "name": "stdout",
          "text": [
            "Número de pel·lícules amb tags:  1572\n",
            "Número de tags diferents:  1589\n"
          ]
        }
      ]
    },
    {
      "cell_type": "markdown",
      "source": [
        "Per tant, segons l'enunciat hem de construir una matriu de 1572 files i 1589 columnes:"
      ],
      "metadata": {
        "id": "afm1mMkNng96"
      }
    },
    {
      "cell_type": "code",
      "source": [
        "pivot=df.pivot_table(index='title',columns='tag',aggfunc='count')\n",
        "pivot.columns=pivot.columns.droplevel(level=0)\n",
        "pivot.fillna(0,inplace=True)\n",
        "print(pivot.shape)\n",
        "pivot.head()"
      ],
      "metadata": {
        "colab": {
          "base_uri": "https://localhost:8080/",
          "height": 608
        },
        "outputId": "1a52ae22-f040-45a9-d228-e459742217cb",
        "id": "hrnyItXjplUK"
      },
      "execution_count": 8,
      "outputs": [
        {
          "output_type": "stream",
          "name": "stdout",
          "text": [
            "(1572, 1589)\n"
          ]
        },
        {
          "output_type": "execute_result",
          "data": {
            "text/plain": [
              "tag                                \"artsy\"  \\\n",
              "title                                        \n",
              "(500) Days of Summer (2009)            0.0   \n",
              "...And Justice for All (1979)          0.0   \n",
              "10 Cloverfield Lane (2016)             0.0   \n",
              "10 Things I Hate About You (1999)      0.0   \n",
              "101 Dalmatians (1996)                  0.0   \n",
              "\n",
              "tag                                06 Oscar Nominated Best Movie - Animation  \\\n",
              "title                                                                          \n",
              "(500) Days of Summer (2009)                                              0.0   \n",
              "...And Justice for All (1979)                                            0.0   \n",
              "10 Cloverfield Lane (2016)                                               0.0   \n",
              "10 Things I Hate About You (1999)                                        0.0   \n",
              "101 Dalmatians (1996)                                                    0.0   \n",
              "\n",
              "tag                                1900s  1920s  1950s  1960s  1970s  1980s  \\\n",
              "title                                                                         \n",
              "(500) Days of Summer (2009)          0.0    0.0    0.0    0.0    0.0    0.0   \n",
              "...And Justice for All (1979)        0.0    0.0    0.0    0.0    0.0    0.0   \n",
              "10 Cloverfield Lane (2016)           0.0    0.0    0.0    0.0    0.0    0.0   \n",
              "10 Things I Hate About You (1999)    0.0    0.0    0.0    0.0    0.0    0.0   \n",
              "101 Dalmatians (1996)                0.0    0.0    0.0    0.0    0.0    0.0   \n",
              "\n",
              "tag                                1990s  2001-like  ...  women  wonderwoman  \\\n",
              "title                                                ...                       \n",
              "(500) Days of Summer (2009)          0.0        0.0  ...    0.0          0.0   \n",
              "...And Justice for All (1979)        0.0        0.0  ...    0.0          0.0   \n",
              "10 Cloverfield Lane (2016)           0.0        0.0  ...    0.0          0.0   \n",
              "10 Things I Hate About You (1999)    0.0        0.0  ...    0.0          0.0   \n",
              "101 Dalmatians (1996)                0.0        0.0  ...    0.0          0.0   \n",
              "\n",
              "tag                                workplace  writing  wrongful imprisonment  \\\n",
              "title                                                                          \n",
              "(500) Days of Summer (2009)              0.0      0.0                    0.0   \n",
              "...And Justice for All (1979)            0.0      0.0                    0.0   \n",
              "10 Cloverfield Lane (2016)               0.0      0.0                    0.0   \n",
              "10 Things I Hate About You (1999)        0.0      0.0                    0.0   \n",
              "101 Dalmatians (1996)                    0.0      0.0                    0.0   \n",
              "\n",
              "tag                                wry  younger men  zither  zoe kazan  \\\n",
              "title                                                                    \n",
              "(500) Days of Summer (2009)        0.0          0.0     0.0        0.0   \n",
              "...And Justice for All (1979)      0.0          0.0     0.0        0.0   \n",
              "10 Cloverfield Lane (2016)         0.0          0.0     0.0        0.0   \n",
              "10 Things I Hate About You (1999)  0.0          0.0     0.0        0.0   \n",
              "101 Dalmatians (1996)              0.0          0.0     0.0        0.0   \n",
              "\n",
              "tag                                zombies  \n",
              "title                                       \n",
              "(500) Days of Summer (2009)            0.0  \n",
              "...And Justice for All (1979)          0.0  \n",
              "10 Cloverfield Lane (2016)             0.0  \n",
              "10 Things I Hate About You (1999)      0.0  \n",
              "101 Dalmatians (1996)                  0.0  \n",
              "\n",
              "[5 rows x 1589 columns]"
            ],
            "text/html": [
              "\n",
              "  <div id=\"df-0cafd7da-bee9-42e4-b8b4-cf350a426d71\">\n",
              "    <div class=\"colab-df-container\">\n",
              "      <div>\n",
              "<style scoped>\n",
              "    .dataframe tbody tr th:only-of-type {\n",
              "        vertical-align: middle;\n",
              "    }\n",
              "\n",
              "    .dataframe tbody tr th {\n",
              "        vertical-align: top;\n",
              "    }\n",
              "\n",
              "    .dataframe thead th {\n",
              "        text-align: right;\n",
              "    }\n",
              "</style>\n",
              "<table border=\"1\" class=\"dataframe\">\n",
              "  <thead>\n",
              "    <tr style=\"text-align: right;\">\n",
              "      <th>tag</th>\n",
              "      <th>\"artsy\"</th>\n",
              "      <th>06 Oscar Nominated Best Movie - Animation</th>\n",
              "      <th>1900s</th>\n",
              "      <th>1920s</th>\n",
              "      <th>1950s</th>\n",
              "      <th>1960s</th>\n",
              "      <th>1970s</th>\n",
              "      <th>1980s</th>\n",
              "      <th>1990s</th>\n",
              "      <th>2001-like</th>\n",
              "      <th>...</th>\n",
              "      <th>women</th>\n",
              "      <th>wonderwoman</th>\n",
              "      <th>workplace</th>\n",
              "      <th>writing</th>\n",
              "      <th>wrongful imprisonment</th>\n",
              "      <th>wry</th>\n",
              "      <th>younger men</th>\n",
              "      <th>zither</th>\n",
              "      <th>zoe kazan</th>\n",
              "      <th>zombies</th>\n",
              "    </tr>\n",
              "    <tr>\n",
              "      <th>title</th>\n",
              "      <th></th>\n",
              "      <th></th>\n",
              "      <th></th>\n",
              "      <th></th>\n",
              "      <th></th>\n",
              "      <th></th>\n",
              "      <th></th>\n",
              "      <th></th>\n",
              "      <th></th>\n",
              "      <th></th>\n",
              "      <th></th>\n",
              "      <th></th>\n",
              "      <th></th>\n",
              "      <th></th>\n",
              "      <th></th>\n",
              "      <th></th>\n",
              "      <th></th>\n",
              "      <th></th>\n",
              "      <th></th>\n",
              "      <th></th>\n",
              "      <th></th>\n",
              "    </tr>\n",
              "  </thead>\n",
              "  <tbody>\n",
              "    <tr>\n",
              "      <th>(500) Days of Summer (2009)</th>\n",
              "      <td>0.0</td>\n",
              "      <td>0.0</td>\n",
              "      <td>0.0</td>\n",
              "      <td>0.0</td>\n",
              "      <td>0.0</td>\n",
              "      <td>0.0</td>\n",
              "      <td>0.0</td>\n",
              "      <td>0.0</td>\n",
              "      <td>0.0</td>\n",
              "      <td>0.0</td>\n",
              "      <td>...</td>\n",
              "      <td>0.0</td>\n",
              "      <td>0.0</td>\n",
              "      <td>0.0</td>\n",
              "      <td>0.0</td>\n",
              "      <td>0.0</td>\n",
              "      <td>0.0</td>\n",
              "      <td>0.0</td>\n",
              "      <td>0.0</td>\n",
              "      <td>0.0</td>\n",
              "      <td>0.0</td>\n",
              "    </tr>\n",
              "    <tr>\n",
              "      <th>...And Justice for All (1979)</th>\n",
              "      <td>0.0</td>\n",
              "      <td>0.0</td>\n",
              "      <td>0.0</td>\n",
              "      <td>0.0</td>\n",
              "      <td>0.0</td>\n",
              "      <td>0.0</td>\n",
              "      <td>0.0</td>\n",
              "      <td>0.0</td>\n",
              "      <td>0.0</td>\n",
              "      <td>0.0</td>\n",
              "      <td>...</td>\n",
              "      <td>0.0</td>\n",
              "      <td>0.0</td>\n",
              "      <td>0.0</td>\n",
              "      <td>0.0</td>\n",
              "      <td>0.0</td>\n",
              "      <td>0.0</td>\n",
              "      <td>0.0</td>\n",
              "      <td>0.0</td>\n",
              "      <td>0.0</td>\n",
              "      <td>0.0</td>\n",
              "    </tr>\n",
              "    <tr>\n",
              "      <th>10 Cloverfield Lane (2016)</th>\n",
              "      <td>0.0</td>\n",
              "      <td>0.0</td>\n",
              "      <td>0.0</td>\n",
              "      <td>0.0</td>\n",
              "      <td>0.0</td>\n",
              "      <td>0.0</td>\n",
              "      <td>0.0</td>\n",
              "      <td>0.0</td>\n",
              "      <td>0.0</td>\n",
              "      <td>0.0</td>\n",
              "      <td>...</td>\n",
              "      <td>0.0</td>\n",
              "      <td>0.0</td>\n",
              "      <td>0.0</td>\n",
              "      <td>0.0</td>\n",
              "      <td>0.0</td>\n",
              "      <td>0.0</td>\n",
              "      <td>0.0</td>\n",
              "      <td>0.0</td>\n",
              "      <td>0.0</td>\n",
              "      <td>0.0</td>\n",
              "    </tr>\n",
              "    <tr>\n",
              "      <th>10 Things I Hate About You (1999)</th>\n",
              "      <td>0.0</td>\n",
              "      <td>0.0</td>\n",
              "      <td>0.0</td>\n",
              "      <td>0.0</td>\n",
              "      <td>0.0</td>\n",
              "      <td>0.0</td>\n",
              "      <td>0.0</td>\n",
              "      <td>0.0</td>\n",
              "      <td>0.0</td>\n",
              "      <td>0.0</td>\n",
              "      <td>...</td>\n",
              "      <td>0.0</td>\n",
              "      <td>0.0</td>\n",
              "      <td>0.0</td>\n",
              "      <td>0.0</td>\n",
              "      <td>0.0</td>\n",
              "      <td>0.0</td>\n",
              "      <td>0.0</td>\n",
              "      <td>0.0</td>\n",
              "      <td>0.0</td>\n",
              "      <td>0.0</td>\n",
              "    </tr>\n",
              "    <tr>\n",
              "      <th>101 Dalmatians (1996)</th>\n",
              "      <td>0.0</td>\n",
              "      <td>0.0</td>\n",
              "      <td>0.0</td>\n",
              "      <td>0.0</td>\n",
              "      <td>0.0</td>\n",
              "      <td>0.0</td>\n",
              "      <td>0.0</td>\n",
              "      <td>0.0</td>\n",
              "      <td>0.0</td>\n",
              "      <td>0.0</td>\n",
              "      <td>...</td>\n",
              "      <td>0.0</td>\n",
              "      <td>0.0</td>\n",
              "      <td>0.0</td>\n",
              "      <td>0.0</td>\n",
              "      <td>0.0</td>\n",
              "      <td>0.0</td>\n",
              "      <td>0.0</td>\n",
              "      <td>0.0</td>\n",
              "      <td>0.0</td>\n",
              "      <td>0.0</td>\n",
              "    </tr>\n",
              "  </tbody>\n",
              "</table>\n",
              "<p>5 rows × 1589 columns</p>\n",
              "</div>\n",
              "      <button class=\"colab-df-convert\" onclick=\"convertToInteractive('df-0cafd7da-bee9-42e4-b8b4-cf350a426d71')\"\n",
              "              title=\"Convert this dataframe to an interactive table.\"\n",
              "              style=\"display:none;\">\n",
              "        \n",
              "  <svg xmlns=\"http://www.w3.org/2000/svg\" height=\"24px\"viewBox=\"0 0 24 24\"\n",
              "       width=\"24px\">\n",
              "    <path d=\"M0 0h24v24H0V0z\" fill=\"none\"/>\n",
              "    <path d=\"M18.56 5.44l.94 2.06.94-2.06 2.06-.94-2.06-.94-.94-2.06-.94 2.06-2.06.94zm-11 1L8.5 8.5l.94-2.06 2.06-.94-2.06-.94L8.5 2.5l-.94 2.06-2.06.94zm10 10l.94 2.06.94-2.06 2.06-.94-2.06-.94-.94-2.06-.94 2.06-2.06.94z\"/><path d=\"M17.41 7.96l-1.37-1.37c-.4-.4-.92-.59-1.43-.59-.52 0-1.04.2-1.43.59L10.3 9.45l-7.72 7.72c-.78.78-.78 2.05 0 2.83L4 21.41c.39.39.9.59 1.41.59.51 0 1.02-.2 1.41-.59l7.78-7.78 2.81-2.81c.8-.78.8-2.07 0-2.86zM5.41 20L4 18.59l7.72-7.72 1.47 1.35L5.41 20z\"/>\n",
              "  </svg>\n",
              "      </button>\n",
              "      \n",
              "  <style>\n",
              "    .colab-df-container {\n",
              "      display:flex;\n",
              "      flex-wrap:wrap;\n",
              "      gap: 12px;\n",
              "    }\n",
              "\n",
              "    .colab-df-convert {\n",
              "      background-color: #E8F0FE;\n",
              "      border: none;\n",
              "      border-radius: 50%;\n",
              "      cursor: pointer;\n",
              "      display: none;\n",
              "      fill: #1967D2;\n",
              "      height: 32px;\n",
              "      padding: 0 0 0 0;\n",
              "      width: 32px;\n",
              "    }\n",
              "\n",
              "    .colab-df-convert:hover {\n",
              "      background-color: #E2EBFA;\n",
              "      box-shadow: 0px 1px 2px rgba(60, 64, 67, 0.3), 0px 1px 3px 1px rgba(60, 64, 67, 0.15);\n",
              "      fill: #174EA6;\n",
              "    }\n",
              "\n",
              "    [theme=dark] .colab-df-convert {\n",
              "      background-color: #3B4455;\n",
              "      fill: #D2E3FC;\n",
              "    }\n",
              "\n",
              "    [theme=dark] .colab-df-convert:hover {\n",
              "      background-color: #434B5C;\n",
              "      box-shadow: 0px 1px 3px 1px rgba(0, 0, 0, 0.15);\n",
              "      filter: drop-shadow(0px 1px 2px rgba(0, 0, 0, 0.3));\n",
              "      fill: #FFFFFF;\n",
              "    }\n",
              "  </style>\n",
              "\n",
              "      <script>\n",
              "        const buttonEl =\n",
              "          document.querySelector('#df-0cafd7da-bee9-42e4-b8b4-cf350a426d71 button.colab-df-convert');\n",
              "        buttonEl.style.display =\n",
              "          google.colab.kernel.accessAllowed ? 'block' : 'none';\n",
              "\n",
              "        async function convertToInteractive(key) {\n",
              "          const element = document.querySelector('#df-0cafd7da-bee9-42e4-b8b4-cf350a426d71');\n",
              "          const dataTable =\n",
              "            await google.colab.kernel.invokeFunction('convertToInteractive',\n",
              "                                                     [key], {});\n",
              "          if (!dataTable) return;\n",
              "\n",
              "          const docLinkHtml = 'Like what you see? Visit the ' +\n",
              "            '<a target=\"_blank\" href=https://colab.research.google.com/notebooks/data_table.ipynb>data table notebook</a>'\n",
              "            + ' to learn more about interactive tables.';\n",
              "          element.innerHTML = '';\n",
              "          dataTable['output_type'] = 'display_data';\n",
              "          await google.colab.output.renderOutput(dataTable, element);\n",
              "          const docLink = document.createElement('div');\n",
              "          docLink.innerHTML = docLinkHtml;\n",
              "          element.appendChild(docLink);\n",
              "        }\n",
              "      </script>\n",
              "    </div>\n",
              "  </div>\n",
              "  "
            ]
          },
          "metadata": {},
          "execution_count": 8
        }
      ]
    },
    {
      "cell_type": "markdown",
      "source": [
        "Tornem a imprimir els tags de la pel·lícula *Step Brothers (2008)* i comprovem que efectivament a la posició (pi,tj) hi ha el nombre de vegades que **la pel·lícula pi ha rebut el tag tj**"
      ],
      "metadata": {
        "id": "m5rqPdTgxNgB"
      }
    },
    {
      "cell_type": "code",
      "source": [
        "pivot.loc['Step Brothers (2008)'][pivot.loc['Step Brothers (2008)']>0].sort_values(ascending=False)"
      ],
      "metadata": {
        "colab": {
          "base_uri": "https://localhost:8080/"
        },
        "id": "elBoOIoxt2a5",
        "outputId": "1139c198-cccb-45c8-ca33-7fd29888b3ac"
      },
      "execution_count": 9,
      "outputs": [
        {
          "output_type": "execute_result",
          "data": {
            "text/plain": [
              "tag\n",
              "funny              3.0\n",
              "will ferrell       3.0\n",
              "Highly quotable    1.0\n",
              "comedy             1.0\n",
              "Name: Step Brothers (2008), dtype: float64"
            ]
          },
          "metadata": {},
          "execution_count": 9
        }
      ]
    },
    {
      "cell_type": "markdown",
      "source": [
        "#b/ A partir d’aquesta matriu ens permeti introduir el codi d’una pel·lícula i ens proporcioni una recomanació de les N pel·lícules més similars. Aquesta recomanació l’ha de poder fer fent servir tres funcions de similitud diferents:\n",
        "- Similitud de Jaccard per a conjunts\n",
        "- Similitud de Jaccard per a multiconjunts (bags)\n",
        "- Similitud del cosinus"
      ],
      "metadata": {
        "id": "pHSIlE1zyIWW"
      }
    },
    {
      "cell_type": "markdown",
      "source": [
        "- Comencem calculant la similitud de **Jaccard per a conjunts**, per fer-ho treballarem amb un dataframe binari:"
      ],
      "metadata": {
        "id": "LRZ1cUm26ztK"
      }
    },
    {
      "cell_type": "code",
      "source": [
        "binary=pivot.applymap(lambda x: x if x==0 else 1)"
      ],
      "metadata": {
        "id": "HWiaVlCmOQuG"
      },
      "execution_count": 26,
      "outputs": []
    },
    {
      "cell_type": "code",
      "source": [
        "binary.head()"
      ],
      "metadata": {
        "colab": {
          "base_uri": "https://localhost:8080/",
          "height": 591
        },
        "id": "5UtTF4JgOXip",
        "outputId": "6b84b01e-9120-4e0f-d4eb-7ab0faccbf71"
      },
      "execution_count": 27,
      "outputs": [
        {
          "output_type": "execute_result",
          "data": {
            "text/plain": [
              "tag                                \"artsy\"  \\\n",
              "title                                        \n",
              "(500) Days of Summer (2009)            0.0   \n",
              "...And Justice for All (1979)          0.0   \n",
              "10 Cloverfield Lane (2016)             0.0   \n",
              "10 Things I Hate About You (1999)      0.0   \n",
              "101 Dalmatians (1996)                  0.0   \n",
              "\n",
              "tag                                06 Oscar Nominated Best Movie - Animation  \\\n",
              "title                                                                          \n",
              "(500) Days of Summer (2009)                                              0.0   \n",
              "...And Justice for All (1979)                                            0.0   \n",
              "10 Cloverfield Lane (2016)                                               0.0   \n",
              "10 Things I Hate About You (1999)                                        0.0   \n",
              "101 Dalmatians (1996)                                                    0.0   \n",
              "\n",
              "tag                                1900s  1920s  1950s  1960s  1970s  1980s  \\\n",
              "title                                                                         \n",
              "(500) Days of Summer (2009)          0.0    0.0    0.0    0.0    0.0    0.0   \n",
              "...And Justice for All (1979)        0.0    0.0    0.0    0.0    0.0    0.0   \n",
              "10 Cloverfield Lane (2016)           0.0    0.0    0.0    0.0    0.0    0.0   \n",
              "10 Things I Hate About You (1999)    0.0    0.0    0.0    0.0    0.0    0.0   \n",
              "101 Dalmatians (1996)                0.0    0.0    0.0    0.0    0.0    0.0   \n",
              "\n",
              "tag                                1990s  2001-like  ...  women  wonderwoman  \\\n",
              "title                                                ...                       \n",
              "(500) Days of Summer (2009)          0.0        0.0  ...    0.0          0.0   \n",
              "...And Justice for All (1979)        0.0        0.0  ...    0.0          0.0   \n",
              "10 Cloverfield Lane (2016)           0.0        0.0  ...    0.0          0.0   \n",
              "10 Things I Hate About You (1999)    0.0        0.0  ...    0.0          0.0   \n",
              "101 Dalmatians (1996)                0.0        0.0  ...    0.0          0.0   \n",
              "\n",
              "tag                                workplace  writing  wrongful imprisonment  \\\n",
              "title                                                                          \n",
              "(500) Days of Summer (2009)              0.0      0.0                    0.0   \n",
              "...And Justice for All (1979)            0.0      0.0                    0.0   \n",
              "10 Cloverfield Lane (2016)               0.0      0.0                    0.0   \n",
              "10 Things I Hate About You (1999)        0.0      0.0                    0.0   \n",
              "101 Dalmatians (1996)                    0.0      0.0                    0.0   \n",
              "\n",
              "tag                                wry  younger men  zither  zoe kazan  \\\n",
              "title                                                                    \n",
              "(500) Days of Summer (2009)        0.0          0.0     0.0        0.0   \n",
              "...And Justice for All (1979)      0.0          0.0     0.0        0.0   \n",
              "10 Cloverfield Lane (2016)         0.0          0.0     0.0        0.0   \n",
              "10 Things I Hate About You (1999)  0.0          0.0     0.0        0.0   \n",
              "101 Dalmatians (1996)              0.0          0.0     0.0        0.0   \n",
              "\n",
              "tag                                zombies  \n",
              "title                                       \n",
              "(500) Days of Summer (2009)            0.0  \n",
              "...And Justice for All (1979)          0.0  \n",
              "10 Cloverfield Lane (2016)             0.0  \n",
              "10 Things I Hate About You (1999)      0.0  \n",
              "101 Dalmatians (1996)                  0.0  \n",
              "\n",
              "[5 rows x 1589 columns]"
            ],
            "text/html": [
              "\n",
              "  <div id=\"df-a7257b8c-b2aa-49ea-abf7-d98b38245c60\">\n",
              "    <div class=\"colab-df-container\">\n",
              "      <div>\n",
              "<style scoped>\n",
              "    .dataframe tbody tr th:only-of-type {\n",
              "        vertical-align: middle;\n",
              "    }\n",
              "\n",
              "    .dataframe tbody tr th {\n",
              "        vertical-align: top;\n",
              "    }\n",
              "\n",
              "    .dataframe thead th {\n",
              "        text-align: right;\n",
              "    }\n",
              "</style>\n",
              "<table border=\"1\" class=\"dataframe\">\n",
              "  <thead>\n",
              "    <tr style=\"text-align: right;\">\n",
              "      <th>tag</th>\n",
              "      <th>\"artsy\"</th>\n",
              "      <th>06 Oscar Nominated Best Movie - Animation</th>\n",
              "      <th>1900s</th>\n",
              "      <th>1920s</th>\n",
              "      <th>1950s</th>\n",
              "      <th>1960s</th>\n",
              "      <th>1970s</th>\n",
              "      <th>1980s</th>\n",
              "      <th>1990s</th>\n",
              "      <th>2001-like</th>\n",
              "      <th>...</th>\n",
              "      <th>women</th>\n",
              "      <th>wonderwoman</th>\n",
              "      <th>workplace</th>\n",
              "      <th>writing</th>\n",
              "      <th>wrongful imprisonment</th>\n",
              "      <th>wry</th>\n",
              "      <th>younger men</th>\n",
              "      <th>zither</th>\n",
              "      <th>zoe kazan</th>\n",
              "      <th>zombies</th>\n",
              "    </tr>\n",
              "    <tr>\n",
              "      <th>title</th>\n",
              "      <th></th>\n",
              "      <th></th>\n",
              "      <th></th>\n",
              "      <th></th>\n",
              "      <th></th>\n",
              "      <th></th>\n",
              "      <th></th>\n",
              "      <th></th>\n",
              "      <th></th>\n",
              "      <th></th>\n",
              "      <th></th>\n",
              "      <th></th>\n",
              "      <th></th>\n",
              "      <th></th>\n",
              "      <th></th>\n",
              "      <th></th>\n",
              "      <th></th>\n",
              "      <th></th>\n",
              "      <th></th>\n",
              "      <th></th>\n",
              "      <th></th>\n",
              "    </tr>\n",
              "  </thead>\n",
              "  <tbody>\n",
              "    <tr>\n",
              "      <th>(500) Days of Summer (2009)</th>\n",
              "      <td>0.0</td>\n",
              "      <td>0.0</td>\n",
              "      <td>0.0</td>\n",
              "      <td>0.0</td>\n",
              "      <td>0.0</td>\n",
              "      <td>0.0</td>\n",
              "      <td>0.0</td>\n",
              "      <td>0.0</td>\n",
              "      <td>0.0</td>\n",
              "      <td>0.0</td>\n",
              "      <td>...</td>\n",
              "      <td>0.0</td>\n",
              "      <td>0.0</td>\n",
              "      <td>0.0</td>\n",
              "      <td>0.0</td>\n",
              "      <td>0.0</td>\n",
              "      <td>0.0</td>\n",
              "      <td>0.0</td>\n",
              "      <td>0.0</td>\n",
              "      <td>0.0</td>\n",
              "      <td>0.0</td>\n",
              "    </tr>\n",
              "    <tr>\n",
              "      <th>...And Justice for All (1979)</th>\n",
              "      <td>0.0</td>\n",
              "      <td>0.0</td>\n",
              "      <td>0.0</td>\n",
              "      <td>0.0</td>\n",
              "      <td>0.0</td>\n",
              "      <td>0.0</td>\n",
              "      <td>0.0</td>\n",
              "      <td>0.0</td>\n",
              "      <td>0.0</td>\n",
              "      <td>0.0</td>\n",
              "      <td>...</td>\n",
              "      <td>0.0</td>\n",
              "      <td>0.0</td>\n",
              "      <td>0.0</td>\n",
              "      <td>0.0</td>\n",
              "      <td>0.0</td>\n",
              "      <td>0.0</td>\n",
              "      <td>0.0</td>\n",
              "      <td>0.0</td>\n",
              "      <td>0.0</td>\n",
              "      <td>0.0</td>\n",
              "    </tr>\n",
              "    <tr>\n",
              "      <th>10 Cloverfield Lane (2016)</th>\n",
              "      <td>0.0</td>\n",
              "      <td>0.0</td>\n",
              "      <td>0.0</td>\n",
              "      <td>0.0</td>\n",
              "      <td>0.0</td>\n",
              "      <td>0.0</td>\n",
              "      <td>0.0</td>\n",
              "      <td>0.0</td>\n",
              "      <td>0.0</td>\n",
              "      <td>0.0</td>\n",
              "      <td>...</td>\n",
              "      <td>0.0</td>\n",
              "      <td>0.0</td>\n",
              "      <td>0.0</td>\n",
              "      <td>0.0</td>\n",
              "      <td>0.0</td>\n",
              "      <td>0.0</td>\n",
              "      <td>0.0</td>\n",
              "      <td>0.0</td>\n",
              "      <td>0.0</td>\n",
              "      <td>0.0</td>\n",
              "    </tr>\n",
              "    <tr>\n",
              "      <th>10 Things I Hate About You (1999)</th>\n",
              "      <td>0.0</td>\n",
              "      <td>0.0</td>\n",
              "      <td>0.0</td>\n",
              "      <td>0.0</td>\n",
              "      <td>0.0</td>\n",
              "      <td>0.0</td>\n",
              "      <td>0.0</td>\n",
              "      <td>0.0</td>\n",
              "      <td>0.0</td>\n",
              "      <td>0.0</td>\n",
              "      <td>...</td>\n",
              "      <td>0.0</td>\n",
              "      <td>0.0</td>\n",
              "      <td>0.0</td>\n",
              "      <td>0.0</td>\n",
              "      <td>0.0</td>\n",
              "      <td>0.0</td>\n",
              "      <td>0.0</td>\n",
              "      <td>0.0</td>\n",
              "      <td>0.0</td>\n",
              "      <td>0.0</td>\n",
              "    </tr>\n",
              "    <tr>\n",
              "      <th>101 Dalmatians (1996)</th>\n",
              "      <td>0.0</td>\n",
              "      <td>0.0</td>\n",
              "      <td>0.0</td>\n",
              "      <td>0.0</td>\n",
              "      <td>0.0</td>\n",
              "      <td>0.0</td>\n",
              "      <td>0.0</td>\n",
              "      <td>0.0</td>\n",
              "      <td>0.0</td>\n",
              "      <td>0.0</td>\n",
              "      <td>...</td>\n",
              "      <td>0.0</td>\n",
              "      <td>0.0</td>\n",
              "      <td>0.0</td>\n",
              "      <td>0.0</td>\n",
              "      <td>0.0</td>\n",
              "      <td>0.0</td>\n",
              "      <td>0.0</td>\n",
              "      <td>0.0</td>\n",
              "      <td>0.0</td>\n",
              "      <td>0.0</td>\n",
              "    </tr>\n",
              "  </tbody>\n",
              "</table>\n",
              "<p>5 rows × 1589 columns</p>\n",
              "</div>\n",
              "      <button class=\"colab-df-convert\" onclick=\"convertToInteractive('df-a7257b8c-b2aa-49ea-abf7-d98b38245c60')\"\n",
              "              title=\"Convert this dataframe to an interactive table.\"\n",
              "              style=\"display:none;\">\n",
              "        \n",
              "  <svg xmlns=\"http://www.w3.org/2000/svg\" height=\"24px\"viewBox=\"0 0 24 24\"\n",
              "       width=\"24px\">\n",
              "    <path d=\"M0 0h24v24H0V0z\" fill=\"none\"/>\n",
              "    <path d=\"M18.56 5.44l.94 2.06.94-2.06 2.06-.94-2.06-.94-.94-2.06-.94 2.06-2.06.94zm-11 1L8.5 8.5l.94-2.06 2.06-.94-2.06-.94L8.5 2.5l-.94 2.06-2.06.94zm10 10l.94 2.06.94-2.06 2.06-.94-2.06-.94-.94-2.06-.94 2.06-2.06.94z\"/><path d=\"M17.41 7.96l-1.37-1.37c-.4-.4-.92-.59-1.43-.59-.52 0-1.04.2-1.43.59L10.3 9.45l-7.72 7.72c-.78.78-.78 2.05 0 2.83L4 21.41c.39.39.9.59 1.41.59.51 0 1.02-.2 1.41-.59l7.78-7.78 2.81-2.81c.8-.78.8-2.07 0-2.86zM5.41 20L4 18.59l7.72-7.72 1.47 1.35L5.41 20z\"/>\n",
              "  </svg>\n",
              "      </button>\n",
              "      \n",
              "  <style>\n",
              "    .colab-df-container {\n",
              "      display:flex;\n",
              "      flex-wrap:wrap;\n",
              "      gap: 12px;\n",
              "    }\n",
              "\n",
              "    .colab-df-convert {\n",
              "      background-color: #E8F0FE;\n",
              "      border: none;\n",
              "      border-radius: 50%;\n",
              "      cursor: pointer;\n",
              "      display: none;\n",
              "      fill: #1967D2;\n",
              "      height: 32px;\n",
              "      padding: 0 0 0 0;\n",
              "      width: 32px;\n",
              "    }\n",
              "\n",
              "    .colab-df-convert:hover {\n",
              "      background-color: #E2EBFA;\n",
              "      box-shadow: 0px 1px 2px rgba(60, 64, 67, 0.3), 0px 1px 3px 1px rgba(60, 64, 67, 0.15);\n",
              "      fill: #174EA6;\n",
              "    }\n",
              "\n",
              "    [theme=dark] .colab-df-convert {\n",
              "      background-color: #3B4455;\n",
              "      fill: #D2E3FC;\n",
              "    }\n",
              "\n",
              "    [theme=dark] .colab-df-convert:hover {\n",
              "      background-color: #434B5C;\n",
              "      box-shadow: 0px 1px 3px 1px rgba(0, 0, 0, 0.15);\n",
              "      filter: drop-shadow(0px 1px 2px rgba(0, 0, 0, 0.3));\n",
              "      fill: #FFFFFF;\n",
              "    }\n",
              "  </style>\n",
              "\n",
              "      <script>\n",
              "        const buttonEl =\n",
              "          document.querySelector('#df-a7257b8c-b2aa-49ea-abf7-d98b38245c60 button.colab-df-convert');\n",
              "        buttonEl.style.display =\n",
              "          google.colab.kernel.accessAllowed ? 'block' : 'none';\n",
              "\n",
              "        async function convertToInteractive(key) {\n",
              "          const element = document.querySelector('#df-a7257b8c-b2aa-49ea-abf7-d98b38245c60');\n",
              "          const dataTable =\n",
              "            await google.colab.kernel.invokeFunction('convertToInteractive',\n",
              "                                                     [key], {});\n",
              "          if (!dataTable) return;\n",
              "\n",
              "          const docLinkHtml = 'Like what you see? Visit the ' +\n",
              "            '<a target=\"_blank\" href=https://colab.research.google.com/notebooks/data_table.ipynb>data table notebook</a>'\n",
              "            + ' to learn more about interactive tables.';\n",
              "          element.innerHTML = '';\n",
              "          dataTable['output_type'] = 'display_data';\n",
              "          await google.colab.output.renderOutput(dataTable, element);\n",
              "          const docLink = document.createElement('div');\n",
              "          docLink.innerHTML = docLinkHtml;\n",
              "          element.appendChild(docLink);\n",
              "        }\n",
              "      </script>\n",
              "    </div>\n",
              "  </div>\n",
              "  "
            ]
          },
          "metadata": {},
          "execution_count": 27
        }
      ]
    },
    {
      "cell_type": "markdown",
      "source": [
        "Calculem la distància de Jaccard entre tots els parells de pel·lícules i posteriorment la matriu de similituds:"
      ],
      "metadata": {
        "id": "BexqAxfPTss9"
      }
    },
    {
      "cell_type": "code",
      "source": [
        "jaccard_distances=pdist(binary.values, metric='jaccard')\n",
        "square_jaccard_distances=squareform(jaccard_distances)\n",
        "square_jaccard_distances\n",
        "square_jaccard_similarities=1-square_jaccard_distances\n",
        "square_jaccard_similarities"
      ],
      "metadata": {
        "colab": {
          "base_uri": "https://localhost:8080/"
        },
        "id": "2FZNIXV1Nzjj",
        "outputId": "e186a68d-7c8a-4653-8b17-93e9a6b8e6bb"
      },
      "execution_count": 28,
      "outputs": [
        {
          "output_type": "execute_result",
          "data": {
            "text/plain": [
              "array([[1., 0., 0., ..., 0., 0., 0.],\n",
              "       [0., 1., 0., ..., 0., 0., 0.],\n",
              "       [0., 0., 1., ..., 0., 0., 0.],\n",
              "       ...,\n",
              "       [0., 0., 0., ..., 1., 0., 0.],\n",
              "       [0., 0., 0., ..., 0., 1., 0.],\n",
              "       [0., 0., 0., ..., 0., 0., 1.]])"
            ]
          },
          "metadata": {},
          "execution_count": 28
        }
      ]
    },
    {
      "cell_type": "markdown",
      "source": [
        "Creem un dataframe amb la similitud de Jaccard entre tots els parells de pel·lícules:"
      ],
      "metadata": {
        "id": "JPn2jZcTRh8o"
      }
    },
    {
      "cell_type": "code",
      "source": [
        "df_jaccard=pd.DataFrame(square_jaccard_similarities, index=pivot.index,columns=pivot.index)"
      ],
      "metadata": {
        "id": "iTUyWO43RvET"
      },
      "execution_count": 29,
      "outputs": []
    },
    {
      "cell_type": "code",
      "source": [
        "df_jaccard.head()"
      ],
      "metadata": {
        "colab": {
          "base_uri": "https://localhost:8080/",
          "height": 626
        },
        "id": "oGUwmAX7SISM",
        "outputId": "7237c456-f6c6-4ee2-9c9c-aaf678763bbc"
      },
      "execution_count": 30,
      "outputs": [
        {
          "output_type": "execute_result",
          "data": {
            "text/plain": [
              "title                              (500) Days of Summer (2009)  \\\n",
              "title                                                            \n",
              "(500) Days of Summer (2009)                                1.0   \n",
              "...And Justice for All (1979)                              0.0   \n",
              "10 Cloverfield Lane (2016)                                 0.0   \n",
              "10 Things I Hate About You (1999)                          0.0   \n",
              "101 Dalmatians (1996)                                      0.0   \n",
              "\n",
              "title                              ...And Justice for All (1979)  \\\n",
              "title                                                              \n",
              "(500) Days of Summer (2009)                                  0.0   \n",
              "...And Justice for All (1979)                                1.0   \n",
              "10 Cloverfield Lane (2016)                                   0.0   \n",
              "10 Things I Hate About You (1999)                            0.0   \n",
              "101 Dalmatians (1996)                                        0.0   \n",
              "\n",
              "title                              10 Cloverfield Lane (2016)  \\\n",
              "title                                                           \n",
              "(500) Days of Summer (2009)                               0.0   \n",
              "...And Justice for All (1979)                             0.0   \n",
              "10 Cloverfield Lane (2016)                                1.0   \n",
              "10 Things I Hate About You (1999)                         0.0   \n",
              "101 Dalmatians (1996)                                     0.0   \n",
              "\n",
              "title                              10 Things I Hate About You (1999)  \\\n",
              "title                                                                  \n",
              "(500) Days of Summer (2009)                                      0.0   \n",
              "...And Justice for All (1979)                                    0.0   \n",
              "10 Cloverfield Lane (2016)                                       0.0   \n",
              "10 Things I Hate About You (1999)                                1.0   \n",
              "101 Dalmatians (1996)                                            0.0   \n",
              "\n",
              "title                              101 Dalmatians (1996)  \\\n",
              "title                                                      \n",
              "(500) Days of Summer (2009)                          0.0   \n",
              "...And Justice for All (1979)                        0.0   \n",
              "10 Cloverfield Lane (2016)                           0.0   \n",
              "10 Things I Hate About You (1999)                    0.0   \n",
              "101 Dalmatians (1996)                                1.0   \n",
              "\n",
              "title                              101 Dalmatians (One Hundred and One Dalmatians) (1961)  \\\n",
              "title                                                                                       \n",
              "(500) Days of Summer (2009)                                                      0.0        \n",
              "...And Justice for All (1979)                                                    0.0        \n",
              "10 Cloverfield Lane (2016)                                                       0.0        \n",
              "10 Things I Hate About You (1999)                                                0.0        \n",
              "101 Dalmatians (1996)                                                            0.0        \n",
              "\n",
              "title                              11'09\"01 - September 11 (2002)  \\\n",
              "title                                                               \n",
              "(500) Days of Summer (2009)                                   0.0   \n",
              "...And Justice for All (1979)                                 0.0   \n",
              "10 Cloverfield Lane (2016)                                    0.0   \n",
              "10 Things I Hate About You (1999)                             0.0   \n",
              "101 Dalmatians (1996)                                         0.0   \n",
              "\n",
              "title                              12 Angry Men (1957)  127 Hours (2010)  \\\n",
              "title                                                                      \n",
              "(500) Days of Summer (2009)                        0.0               0.0   \n",
              "...And Justice for All (1979)                      0.0               0.0   \n",
              "10 Cloverfield Lane (2016)                         0.0               0.0   \n",
              "10 Things I Hate About You (1999)                  0.0               0.0   \n",
              "101 Dalmatians (1996)                              0.0               0.0   \n",
              "\n",
              "title                              13 Going on 30 (2004)  ...  \\\n",
              "title                                                     ...   \n",
              "(500) Days of Summer (2009)                          0.0  ...   \n",
              "...And Justice for All (1979)                        0.0  ...   \n",
              "10 Cloverfield Lane (2016)                           0.0  ...   \n",
              "10 Things I Hate About You (1999)                    0.0  ...   \n",
              "101 Dalmatians (1996)                                0.0  ...   \n",
              "\n",
              "title                              Young Frankenstein (1974)  Z (1969)  \\\n",
              "title                                                                    \n",
              "(500) Days of Summer (2009)                              0.0       0.0   \n",
              "...And Justice for All (1979)                            0.0       0.0   \n",
              "10 Cloverfield Lane (2016)                               0.0       0.0   \n",
              "10 Things I Hate About You (1999)                        0.0       0.0   \n",
              "101 Dalmatians (1996)                                    0.0       0.0   \n",
              "\n",
              "title                              Zack and Miri Make a Porno (2008)  \\\n",
              "title                                                                  \n",
              "(500) Days of Summer (2009)                                      0.0   \n",
              "...And Justice for All (1979)                                    0.0   \n",
              "10 Cloverfield Lane (2016)                                       0.0   \n",
              "10 Things I Hate About You (1999)                                0.0   \n",
              "101 Dalmatians (1996)                                            0.0   \n",
              "\n",
              "title                              Zelary (2003)  Zelig (1983)  \\\n",
              "title                                                            \n",
              "(500) Days of Summer (2009)                  0.0           0.0   \n",
              "...And Justice for All (1979)                0.0           0.0   \n",
              "10 Cloverfield Lane (2016)                   0.0           0.0   \n",
              "10 Things I Hate About You (1999)            0.0           0.0   \n",
              "101 Dalmatians (1996)                        0.0           0.0   \n",
              "\n",
              "title                              Zero Dark Thirty (2012)  Zombieland (2009)  \\\n",
              "title                                                                           \n",
              "(500) Days of Summer (2009)                            0.0                0.0   \n",
              "...And Justice for All (1979)                          0.0                0.0   \n",
              "10 Cloverfield Lane (2016)                             0.0                0.0   \n",
              "10 Things I Hate About You (1999)                      0.0                0.0   \n",
              "101 Dalmatians (1996)                                  0.0                0.0   \n",
              "\n",
              "title                              Zoolander (2001)  Zulu (1964)  \\\n",
              "title                                                              \n",
              "(500) Days of Summer (2009)                     0.0          0.0   \n",
              "...And Justice for All (1979)                   0.0          0.0   \n",
              "10 Cloverfield Lane (2016)                      0.0          0.0   \n",
              "10 Things I Hate About You (1999)               0.0          0.0   \n",
              "101 Dalmatians (1996)                           0.0          0.0   \n",
              "\n",
              "title                              eXistenZ (1999)  \n",
              "title                                               \n",
              "(500) Days of Summer (2009)                    0.0  \n",
              "...And Justice for All (1979)                  0.0  \n",
              "10 Cloverfield Lane (2016)                     0.0  \n",
              "10 Things I Hate About You (1999)              0.0  \n",
              "101 Dalmatians (1996)                          0.0  \n",
              "\n",
              "[5 rows x 1572 columns]"
            ],
            "text/html": [
              "\n",
              "  <div id=\"df-7463a96c-e30c-4ed6-a622-026a3f594444\">\n",
              "    <div class=\"colab-df-container\">\n",
              "      <div>\n",
              "<style scoped>\n",
              "    .dataframe tbody tr th:only-of-type {\n",
              "        vertical-align: middle;\n",
              "    }\n",
              "\n",
              "    .dataframe tbody tr th {\n",
              "        vertical-align: top;\n",
              "    }\n",
              "\n",
              "    .dataframe thead th {\n",
              "        text-align: right;\n",
              "    }\n",
              "</style>\n",
              "<table border=\"1\" class=\"dataframe\">\n",
              "  <thead>\n",
              "    <tr style=\"text-align: right;\">\n",
              "      <th>title</th>\n",
              "      <th>(500) Days of Summer (2009)</th>\n",
              "      <th>...And Justice for All (1979)</th>\n",
              "      <th>10 Cloverfield Lane (2016)</th>\n",
              "      <th>10 Things I Hate About You (1999)</th>\n",
              "      <th>101 Dalmatians (1996)</th>\n",
              "      <th>101 Dalmatians (One Hundred and One Dalmatians) (1961)</th>\n",
              "      <th>11'09\"01 - September 11 (2002)</th>\n",
              "      <th>12 Angry Men (1957)</th>\n",
              "      <th>127 Hours (2010)</th>\n",
              "      <th>13 Going on 30 (2004)</th>\n",
              "      <th>...</th>\n",
              "      <th>Young Frankenstein (1974)</th>\n",
              "      <th>Z (1969)</th>\n",
              "      <th>Zack and Miri Make a Porno (2008)</th>\n",
              "      <th>Zelary (2003)</th>\n",
              "      <th>Zelig (1983)</th>\n",
              "      <th>Zero Dark Thirty (2012)</th>\n",
              "      <th>Zombieland (2009)</th>\n",
              "      <th>Zoolander (2001)</th>\n",
              "      <th>Zulu (1964)</th>\n",
              "      <th>eXistenZ (1999)</th>\n",
              "    </tr>\n",
              "    <tr>\n",
              "      <th>title</th>\n",
              "      <th></th>\n",
              "      <th></th>\n",
              "      <th></th>\n",
              "      <th></th>\n",
              "      <th></th>\n",
              "      <th></th>\n",
              "      <th></th>\n",
              "      <th></th>\n",
              "      <th></th>\n",
              "      <th></th>\n",
              "      <th></th>\n",
              "      <th></th>\n",
              "      <th></th>\n",
              "      <th></th>\n",
              "      <th></th>\n",
              "      <th></th>\n",
              "      <th></th>\n",
              "      <th></th>\n",
              "      <th></th>\n",
              "      <th></th>\n",
              "      <th></th>\n",
              "    </tr>\n",
              "  </thead>\n",
              "  <tbody>\n",
              "    <tr>\n",
              "      <th>(500) Days of Summer (2009)</th>\n",
              "      <td>1.0</td>\n",
              "      <td>0.0</td>\n",
              "      <td>0.0</td>\n",
              "      <td>0.0</td>\n",
              "      <td>0.0</td>\n",
              "      <td>0.0</td>\n",
              "      <td>0.0</td>\n",
              "      <td>0.0</td>\n",
              "      <td>0.0</td>\n",
              "      <td>0.0</td>\n",
              "      <td>...</td>\n",
              "      <td>0.0</td>\n",
              "      <td>0.0</td>\n",
              "      <td>0.0</td>\n",
              "      <td>0.0</td>\n",
              "      <td>0.0</td>\n",
              "      <td>0.0</td>\n",
              "      <td>0.0</td>\n",
              "      <td>0.0</td>\n",
              "      <td>0.0</td>\n",
              "      <td>0.0</td>\n",
              "    </tr>\n",
              "    <tr>\n",
              "      <th>...And Justice for All (1979)</th>\n",
              "      <td>0.0</td>\n",
              "      <td>1.0</td>\n",
              "      <td>0.0</td>\n",
              "      <td>0.0</td>\n",
              "      <td>0.0</td>\n",
              "      <td>0.0</td>\n",
              "      <td>0.0</td>\n",
              "      <td>0.0</td>\n",
              "      <td>0.0</td>\n",
              "      <td>0.0</td>\n",
              "      <td>...</td>\n",
              "      <td>0.0</td>\n",
              "      <td>0.0</td>\n",
              "      <td>0.0</td>\n",
              "      <td>0.0</td>\n",
              "      <td>0.0</td>\n",
              "      <td>0.0</td>\n",
              "      <td>0.0</td>\n",
              "      <td>0.0</td>\n",
              "      <td>0.0</td>\n",
              "      <td>0.0</td>\n",
              "    </tr>\n",
              "    <tr>\n",
              "      <th>10 Cloverfield Lane (2016)</th>\n",
              "      <td>0.0</td>\n",
              "      <td>0.0</td>\n",
              "      <td>1.0</td>\n",
              "      <td>0.0</td>\n",
              "      <td>0.0</td>\n",
              "      <td>0.0</td>\n",
              "      <td>0.0</td>\n",
              "      <td>0.0</td>\n",
              "      <td>0.0</td>\n",
              "      <td>0.0</td>\n",
              "      <td>...</td>\n",
              "      <td>0.0</td>\n",
              "      <td>0.0</td>\n",
              "      <td>0.0</td>\n",
              "      <td>0.0</td>\n",
              "      <td>0.0</td>\n",
              "      <td>0.0</td>\n",
              "      <td>0.0</td>\n",
              "      <td>0.0</td>\n",
              "      <td>0.0</td>\n",
              "      <td>0.0</td>\n",
              "    </tr>\n",
              "    <tr>\n",
              "      <th>10 Things I Hate About You (1999)</th>\n",
              "      <td>0.0</td>\n",
              "      <td>0.0</td>\n",
              "      <td>0.0</td>\n",
              "      <td>1.0</td>\n",
              "      <td>0.0</td>\n",
              "      <td>0.0</td>\n",
              "      <td>0.0</td>\n",
              "      <td>0.0</td>\n",
              "      <td>0.0</td>\n",
              "      <td>0.0</td>\n",
              "      <td>...</td>\n",
              "      <td>0.0</td>\n",
              "      <td>0.0</td>\n",
              "      <td>0.0</td>\n",
              "      <td>0.0</td>\n",
              "      <td>0.0</td>\n",
              "      <td>0.0</td>\n",
              "      <td>0.0</td>\n",
              "      <td>0.0</td>\n",
              "      <td>0.0</td>\n",
              "      <td>0.0</td>\n",
              "    </tr>\n",
              "    <tr>\n",
              "      <th>101 Dalmatians (1996)</th>\n",
              "      <td>0.0</td>\n",
              "      <td>0.0</td>\n",
              "      <td>0.0</td>\n",
              "      <td>0.0</td>\n",
              "      <td>1.0</td>\n",
              "      <td>0.0</td>\n",
              "      <td>0.0</td>\n",
              "      <td>0.0</td>\n",
              "      <td>0.0</td>\n",
              "      <td>0.0</td>\n",
              "      <td>...</td>\n",
              "      <td>0.0</td>\n",
              "      <td>0.0</td>\n",
              "      <td>0.0</td>\n",
              "      <td>0.0</td>\n",
              "      <td>0.0</td>\n",
              "      <td>0.0</td>\n",
              "      <td>0.0</td>\n",
              "      <td>0.0</td>\n",
              "      <td>0.0</td>\n",
              "      <td>0.0</td>\n",
              "    </tr>\n",
              "  </tbody>\n",
              "</table>\n",
              "<p>5 rows × 1572 columns</p>\n",
              "</div>\n",
              "      <button class=\"colab-df-convert\" onclick=\"convertToInteractive('df-7463a96c-e30c-4ed6-a622-026a3f594444')\"\n",
              "              title=\"Convert this dataframe to an interactive table.\"\n",
              "              style=\"display:none;\">\n",
              "        \n",
              "  <svg xmlns=\"http://www.w3.org/2000/svg\" height=\"24px\"viewBox=\"0 0 24 24\"\n",
              "       width=\"24px\">\n",
              "    <path d=\"M0 0h24v24H0V0z\" fill=\"none\"/>\n",
              "    <path d=\"M18.56 5.44l.94 2.06.94-2.06 2.06-.94-2.06-.94-.94-2.06-.94 2.06-2.06.94zm-11 1L8.5 8.5l.94-2.06 2.06-.94-2.06-.94L8.5 2.5l-.94 2.06-2.06.94zm10 10l.94 2.06.94-2.06 2.06-.94-2.06-.94-.94-2.06-.94 2.06-2.06.94z\"/><path d=\"M17.41 7.96l-1.37-1.37c-.4-.4-.92-.59-1.43-.59-.52 0-1.04.2-1.43.59L10.3 9.45l-7.72 7.72c-.78.78-.78 2.05 0 2.83L4 21.41c.39.39.9.59 1.41.59.51 0 1.02-.2 1.41-.59l7.78-7.78 2.81-2.81c.8-.78.8-2.07 0-2.86zM5.41 20L4 18.59l7.72-7.72 1.47 1.35L5.41 20z\"/>\n",
              "  </svg>\n",
              "      </button>\n",
              "      \n",
              "  <style>\n",
              "    .colab-df-container {\n",
              "      display:flex;\n",
              "      flex-wrap:wrap;\n",
              "      gap: 12px;\n",
              "    }\n",
              "\n",
              "    .colab-df-convert {\n",
              "      background-color: #E8F0FE;\n",
              "      border: none;\n",
              "      border-radius: 50%;\n",
              "      cursor: pointer;\n",
              "      display: none;\n",
              "      fill: #1967D2;\n",
              "      height: 32px;\n",
              "      padding: 0 0 0 0;\n",
              "      width: 32px;\n",
              "    }\n",
              "\n",
              "    .colab-df-convert:hover {\n",
              "      background-color: #E2EBFA;\n",
              "      box-shadow: 0px 1px 2px rgba(60, 64, 67, 0.3), 0px 1px 3px 1px rgba(60, 64, 67, 0.15);\n",
              "      fill: #174EA6;\n",
              "    }\n",
              "\n",
              "    [theme=dark] .colab-df-convert {\n",
              "      background-color: #3B4455;\n",
              "      fill: #D2E3FC;\n",
              "    }\n",
              "\n",
              "    [theme=dark] .colab-df-convert:hover {\n",
              "      background-color: #434B5C;\n",
              "      box-shadow: 0px 1px 3px 1px rgba(0, 0, 0, 0.15);\n",
              "      filter: drop-shadow(0px 1px 2px rgba(0, 0, 0, 0.3));\n",
              "      fill: #FFFFFF;\n",
              "    }\n",
              "  </style>\n",
              "\n",
              "      <script>\n",
              "        const buttonEl =\n",
              "          document.querySelector('#df-7463a96c-e30c-4ed6-a622-026a3f594444 button.colab-df-convert');\n",
              "        buttonEl.style.display =\n",
              "          google.colab.kernel.accessAllowed ? 'block' : 'none';\n",
              "\n",
              "        async function convertToInteractive(key) {\n",
              "          const element = document.querySelector('#df-7463a96c-e30c-4ed6-a622-026a3f594444');\n",
              "          const dataTable =\n",
              "            await google.colab.kernel.invokeFunction('convertToInteractive',\n",
              "                                                     [key], {});\n",
              "          if (!dataTable) return;\n",
              "\n",
              "          const docLinkHtml = 'Like what you see? Visit the ' +\n",
              "            '<a target=\"_blank\" href=https://colab.research.google.com/notebooks/data_table.ipynb>data table notebook</a>'\n",
              "            + ' to learn more about interactive tables.';\n",
              "          element.innerHTML = '';\n",
              "          dataTable['output_type'] = 'display_data';\n",
              "          await google.colab.output.renderOutput(dataTable, element);\n",
              "          const docLink = document.createElement('div');\n",
              "          docLink.innerHTML = docLinkHtml;\n",
              "          element.appendChild(docLink);\n",
              "        }\n",
              "      </script>\n",
              "    </div>\n",
              "  </div>\n",
              "  "
            ]
          },
          "metadata": {},
          "execution_count": 30
        }
      ]
    },
    {
      "cell_type": "markdown",
      "source": [
        "Cerquem una recomanació de 10 pel·lícules similars a *Godfather: Part II, The (1974)* per exemple:"
      ],
      "metadata": {
        "id": "GJbpwZY_Swff"
      }
    },
    {
      "cell_type": "code",
      "source": [
        "pelicula=str(input())\n",
        "#Godfather: Part II, The (1974)\n",
        "df_jaccard[pelicula].nlargest(14)[1:]"
      ],
      "metadata": {
        "colab": {
          "base_uri": "https://localhost:8080/"
        },
        "id": "Jb9G7WpkSS-9",
        "outputId": "1ebd9641-c087-4e48-8673-799cfe261045"
      },
      "execution_count": 31,
      "outputs": [
        {
          "name": "stdout",
          "output_type": "stream",
          "text": [
            "Godfather: Part II, The (1974)\n"
          ]
        },
        {
          "output_type": "execute_result",
          "data": {
            "text/plain": [
              "title\n",
              "Casino (1995)                      0.500000\n",
              "Donnie Brasco (1997)               0.500000\n",
              "Godfather, The (1972)              0.500000\n",
              "Goodfellas (1990)                  0.500000\n",
              "Married to the Mob (1988)          0.500000\n",
              "Miller's Crossing (1990)           0.500000\n",
              "My Blue Heaven (1990)              0.500000\n",
              "Scarface (1983)                    0.500000\n",
              "Carlito's Way (1993)               0.250000\n",
              "Godfather: Part III, The (1990)    0.166667\n",
              "Insomnia (2002)                    0.142857\n",
              "Pulp Fiction (1994)                0.005747\n",
              "(500) Days of Summer (2009)        0.000000\n",
              "Name: Godfather: Part II, The (1974), dtype: float64"
            ]
          },
          "metadata": {},
          "execution_count": 31
        }
      ]
    },
    {
      "cell_type": "markdown",
      "source": [
        "Totes les pel·lícules tenen a veure amb la mafia, per tant funciona bé."
      ],
      "metadata": {
        "id": "dLZ_zSdCVSYn"
      }
    },
    {
      "cell_type": "markdown",
      "source": [
        "- Procedim a calcular la similitud de Jaccard per a multiconjunts (bags)"
      ],
      "metadata": {
        "id": "ebIkHXDzUxlu"
      }
    },
    {
      "cell_type": "markdown",
      "source": [
        "Fem una copia del DataFrame del primer apartat:"
      ],
      "metadata": {
        "id": "tkxemTpV16xV"
      }
    },
    {
      "cell_type": "code",
      "source": [
        "bag=pivot.copy()\n",
        "\n",
        "bag=bag.astype(int)\n",
        "print(bag.shape)\n",
        "bag.head()"
      ],
      "metadata": {
        "colab": {
          "base_uri": "https://localhost:8080/",
          "height": 608
        },
        "id": "D2m0UxQyaKlj",
        "outputId": "49a2d782-62be-4195-bd6c-6cb3b939974a"
      },
      "execution_count": 10,
      "outputs": [
        {
          "output_type": "stream",
          "name": "stdout",
          "text": [
            "(1572, 1589)\n"
          ]
        },
        {
          "output_type": "execute_result",
          "data": {
            "text/plain": [
              "tag                                \"artsy\"  \\\n",
              "title                                        \n",
              "(500) Days of Summer (2009)              0   \n",
              "...And Justice for All (1979)            0   \n",
              "10 Cloverfield Lane (2016)               0   \n",
              "10 Things I Hate About You (1999)        0   \n",
              "101 Dalmatians (1996)                    0   \n",
              "\n",
              "tag                                06 Oscar Nominated Best Movie - Animation  \\\n",
              "title                                                                          \n",
              "(500) Days of Summer (2009)                                                0   \n",
              "...And Justice for All (1979)                                              0   \n",
              "10 Cloverfield Lane (2016)                                                 0   \n",
              "10 Things I Hate About You (1999)                                          0   \n",
              "101 Dalmatians (1996)                                                      0   \n",
              "\n",
              "tag                                1900s  1920s  1950s  1960s  1970s  1980s  \\\n",
              "title                                                                         \n",
              "(500) Days of Summer (2009)            0      0      0      0      0      0   \n",
              "...And Justice for All (1979)          0      0      0      0      0      0   \n",
              "10 Cloverfield Lane (2016)             0      0      0      0      0      0   \n",
              "10 Things I Hate About You (1999)      0      0      0      0      0      0   \n",
              "101 Dalmatians (1996)                  0      0      0      0      0      0   \n",
              "\n",
              "tag                                1990s  2001-like  ...  women  wonderwoman  \\\n",
              "title                                                ...                       \n",
              "(500) Days of Summer (2009)            0          0  ...      0            0   \n",
              "...And Justice for All (1979)          0          0  ...      0            0   \n",
              "10 Cloverfield Lane (2016)             0          0  ...      0            0   \n",
              "10 Things I Hate About You (1999)      0          0  ...      0            0   \n",
              "101 Dalmatians (1996)                  0          0  ...      0            0   \n",
              "\n",
              "tag                                workplace  writing  wrongful imprisonment  \\\n",
              "title                                                                          \n",
              "(500) Days of Summer (2009)                0        0                      0   \n",
              "...And Justice for All (1979)              0        0                      0   \n",
              "10 Cloverfield Lane (2016)                 0        0                      0   \n",
              "10 Things I Hate About You (1999)          0        0                      0   \n",
              "101 Dalmatians (1996)                      0        0                      0   \n",
              "\n",
              "tag                                wry  younger men  zither  zoe kazan  \\\n",
              "title                                                                    \n",
              "(500) Days of Summer (2009)          0            0       0          0   \n",
              "...And Justice for All (1979)        0            0       0          0   \n",
              "10 Cloverfield Lane (2016)           0            0       0          0   \n",
              "10 Things I Hate About You (1999)    0            0       0          0   \n",
              "101 Dalmatians (1996)                0            0       0          0   \n",
              "\n",
              "tag                                zombies  \n",
              "title                                       \n",
              "(500) Days of Summer (2009)              0  \n",
              "...And Justice for All (1979)            0  \n",
              "10 Cloverfield Lane (2016)               0  \n",
              "10 Things I Hate About You (1999)        0  \n",
              "101 Dalmatians (1996)                    0  \n",
              "\n",
              "[5 rows x 1589 columns]"
            ],
            "text/html": [
              "\n",
              "  <div id=\"df-3ce74fe7-453f-4ad4-8ecc-32ca3cf90812\">\n",
              "    <div class=\"colab-df-container\">\n",
              "      <div>\n",
              "<style scoped>\n",
              "    .dataframe tbody tr th:only-of-type {\n",
              "        vertical-align: middle;\n",
              "    }\n",
              "\n",
              "    .dataframe tbody tr th {\n",
              "        vertical-align: top;\n",
              "    }\n",
              "\n",
              "    .dataframe thead th {\n",
              "        text-align: right;\n",
              "    }\n",
              "</style>\n",
              "<table border=\"1\" class=\"dataframe\">\n",
              "  <thead>\n",
              "    <tr style=\"text-align: right;\">\n",
              "      <th>tag</th>\n",
              "      <th>\"artsy\"</th>\n",
              "      <th>06 Oscar Nominated Best Movie - Animation</th>\n",
              "      <th>1900s</th>\n",
              "      <th>1920s</th>\n",
              "      <th>1950s</th>\n",
              "      <th>1960s</th>\n",
              "      <th>1970s</th>\n",
              "      <th>1980s</th>\n",
              "      <th>1990s</th>\n",
              "      <th>2001-like</th>\n",
              "      <th>...</th>\n",
              "      <th>women</th>\n",
              "      <th>wonderwoman</th>\n",
              "      <th>workplace</th>\n",
              "      <th>writing</th>\n",
              "      <th>wrongful imprisonment</th>\n",
              "      <th>wry</th>\n",
              "      <th>younger men</th>\n",
              "      <th>zither</th>\n",
              "      <th>zoe kazan</th>\n",
              "      <th>zombies</th>\n",
              "    </tr>\n",
              "    <tr>\n",
              "      <th>title</th>\n",
              "      <th></th>\n",
              "      <th></th>\n",
              "      <th></th>\n",
              "      <th></th>\n",
              "      <th></th>\n",
              "      <th></th>\n",
              "      <th></th>\n",
              "      <th></th>\n",
              "      <th></th>\n",
              "      <th></th>\n",
              "      <th></th>\n",
              "      <th></th>\n",
              "      <th></th>\n",
              "      <th></th>\n",
              "      <th></th>\n",
              "      <th></th>\n",
              "      <th></th>\n",
              "      <th></th>\n",
              "      <th></th>\n",
              "      <th></th>\n",
              "      <th></th>\n",
              "    </tr>\n",
              "  </thead>\n",
              "  <tbody>\n",
              "    <tr>\n",
              "      <th>(500) Days of Summer (2009)</th>\n",
              "      <td>0</td>\n",
              "      <td>0</td>\n",
              "      <td>0</td>\n",
              "      <td>0</td>\n",
              "      <td>0</td>\n",
              "      <td>0</td>\n",
              "      <td>0</td>\n",
              "      <td>0</td>\n",
              "      <td>0</td>\n",
              "      <td>0</td>\n",
              "      <td>...</td>\n",
              "      <td>0</td>\n",
              "      <td>0</td>\n",
              "      <td>0</td>\n",
              "      <td>0</td>\n",
              "      <td>0</td>\n",
              "      <td>0</td>\n",
              "      <td>0</td>\n",
              "      <td>0</td>\n",
              "      <td>0</td>\n",
              "      <td>0</td>\n",
              "    </tr>\n",
              "    <tr>\n",
              "      <th>...And Justice for All (1979)</th>\n",
              "      <td>0</td>\n",
              "      <td>0</td>\n",
              "      <td>0</td>\n",
              "      <td>0</td>\n",
              "      <td>0</td>\n",
              "      <td>0</td>\n",
              "      <td>0</td>\n",
              "      <td>0</td>\n",
              "      <td>0</td>\n",
              "      <td>0</td>\n",
              "      <td>...</td>\n",
              "      <td>0</td>\n",
              "      <td>0</td>\n",
              "      <td>0</td>\n",
              "      <td>0</td>\n",
              "      <td>0</td>\n",
              "      <td>0</td>\n",
              "      <td>0</td>\n",
              "      <td>0</td>\n",
              "      <td>0</td>\n",
              "      <td>0</td>\n",
              "    </tr>\n",
              "    <tr>\n",
              "      <th>10 Cloverfield Lane (2016)</th>\n",
              "      <td>0</td>\n",
              "      <td>0</td>\n",
              "      <td>0</td>\n",
              "      <td>0</td>\n",
              "      <td>0</td>\n",
              "      <td>0</td>\n",
              "      <td>0</td>\n",
              "      <td>0</td>\n",
              "      <td>0</td>\n",
              "      <td>0</td>\n",
              "      <td>...</td>\n",
              "      <td>0</td>\n",
              "      <td>0</td>\n",
              "      <td>0</td>\n",
              "      <td>0</td>\n",
              "      <td>0</td>\n",
              "      <td>0</td>\n",
              "      <td>0</td>\n",
              "      <td>0</td>\n",
              "      <td>0</td>\n",
              "      <td>0</td>\n",
              "    </tr>\n",
              "    <tr>\n",
              "      <th>10 Things I Hate About You (1999)</th>\n",
              "      <td>0</td>\n",
              "      <td>0</td>\n",
              "      <td>0</td>\n",
              "      <td>0</td>\n",
              "      <td>0</td>\n",
              "      <td>0</td>\n",
              "      <td>0</td>\n",
              "      <td>0</td>\n",
              "      <td>0</td>\n",
              "      <td>0</td>\n",
              "      <td>...</td>\n",
              "      <td>0</td>\n",
              "      <td>0</td>\n",
              "      <td>0</td>\n",
              "      <td>0</td>\n",
              "      <td>0</td>\n",
              "      <td>0</td>\n",
              "      <td>0</td>\n",
              "      <td>0</td>\n",
              "      <td>0</td>\n",
              "      <td>0</td>\n",
              "    </tr>\n",
              "    <tr>\n",
              "      <th>101 Dalmatians (1996)</th>\n",
              "      <td>0</td>\n",
              "      <td>0</td>\n",
              "      <td>0</td>\n",
              "      <td>0</td>\n",
              "      <td>0</td>\n",
              "      <td>0</td>\n",
              "      <td>0</td>\n",
              "      <td>0</td>\n",
              "      <td>0</td>\n",
              "      <td>0</td>\n",
              "      <td>...</td>\n",
              "      <td>0</td>\n",
              "      <td>0</td>\n",
              "      <td>0</td>\n",
              "      <td>0</td>\n",
              "      <td>0</td>\n",
              "      <td>0</td>\n",
              "      <td>0</td>\n",
              "      <td>0</td>\n",
              "      <td>0</td>\n",
              "      <td>0</td>\n",
              "    </tr>\n",
              "  </tbody>\n",
              "</table>\n",
              "<p>5 rows × 1589 columns</p>\n",
              "</div>\n",
              "      <button class=\"colab-df-convert\" onclick=\"convertToInteractive('df-3ce74fe7-453f-4ad4-8ecc-32ca3cf90812')\"\n",
              "              title=\"Convert this dataframe to an interactive table.\"\n",
              "              style=\"display:none;\">\n",
              "        \n",
              "  <svg xmlns=\"http://www.w3.org/2000/svg\" height=\"24px\"viewBox=\"0 0 24 24\"\n",
              "       width=\"24px\">\n",
              "    <path d=\"M0 0h24v24H0V0z\" fill=\"none\"/>\n",
              "    <path d=\"M18.56 5.44l.94 2.06.94-2.06 2.06-.94-2.06-.94-.94-2.06-.94 2.06-2.06.94zm-11 1L8.5 8.5l.94-2.06 2.06-.94-2.06-.94L8.5 2.5l-.94 2.06-2.06.94zm10 10l.94 2.06.94-2.06 2.06-.94-2.06-.94-.94-2.06-.94 2.06-2.06.94z\"/><path d=\"M17.41 7.96l-1.37-1.37c-.4-.4-.92-.59-1.43-.59-.52 0-1.04.2-1.43.59L10.3 9.45l-7.72 7.72c-.78.78-.78 2.05 0 2.83L4 21.41c.39.39.9.59 1.41.59.51 0 1.02-.2 1.41-.59l7.78-7.78 2.81-2.81c.8-.78.8-2.07 0-2.86zM5.41 20L4 18.59l7.72-7.72 1.47 1.35L5.41 20z\"/>\n",
              "  </svg>\n",
              "      </button>\n",
              "      \n",
              "  <style>\n",
              "    .colab-df-container {\n",
              "      display:flex;\n",
              "      flex-wrap:wrap;\n",
              "      gap: 12px;\n",
              "    }\n",
              "\n",
              "    .colab-df-convert {\n",
              "      background-color: #E8F0FE;\n",
              "      border: none;\n",
              "      border-radius: 50%;\n",
              "      cursor: pointer;\n",
              "      display: none;\n",
              "      fill: #1967D2;\n",
              "      height: 32px;\n",
              "      padding: 0 0 0 0;\n",
              "      width: 32px;\n",
              "    }\n",
              "\n",
              "    .colab-df-convert:hover {\n",
              "      background-color: #E2EBFA;\n",
              "      box-shadow: 0px 1px 2px rgba(60, 64, 67, 0.3), 0px 1px 3px 1px rgba(60, 64, 67, 0.15);\n",
              "      fill: #174EA6;\n",
              "    }\n",
              "\n",
              "    [theme=dark] .colab-df-convert {\n",
              "      background-color: #3B4455;\n",
              "      fill: #D2E3FC;\n",
              "    }\n",
              "\n",
              "    [theme=dark] .colab-df-convert:hover {\n",
              "      background-color: #434B5C;\n",
              "      box-shadow: 0px 1px 3px 1px rgba(0, 0, 0, 0.15);\n",
              "      filter: drop-shadow(0px 1px 2px rgba(0, 0, 0, 0.3));\n",
              "      fill: #FFFFFF;\n",
              "    }\n",
              "  </style>\n",
              "\n",
              "      <script>\n",
              "        const buttonEl =\n",
              "          document.querySelector('#df-3ce74fe7-453f-4ad4-8ecc-32ca3cf90812 button.colab-df-convert');\n",
              "        buttonEl.style.display =\n",
              "          google.colab.kernel.accessAllowed ? 'block' : 'none';\n",
              "\n",
              "        async function convertToInteractive(key) {\n",
              "          const element = document.querySelector('#df-3ce74fe7-453f-4ad4-8ecc-32ca3cf90812');\n",
              "          const dataTable =\n",
              "            await google.colab.kernel.invokeFunction('convertToInteractive',\n",
              "                                                     [key], {});\n",
              "          if (!dataTable) return;\n",
              "\n",
              "          const docLinkHtml = 'Like what you see? Visit the ' +\n",
              "            '<a target=\"_blank\" href=https://colab.research.google.com/notebooks/data_table.ipynb>data table notebook</a>'\n",
              "            + ' to learn more about interactive tables.';\n",
              "          element.innerHTML = '';\n",
              "          dataTable['output_type'] = 'display_data';\n",
              "          await google.colab.output.renderOutput(dataTable, element);\n",
              "          const docLink = document.createElement('div');\n",
              "          docLink.innerHTML = docLinkHtml;\n",
              "          element.appendChild(docLink);\n",
              "        }\n",
              "      </script>\n",
              "    </div>\n",
              "  </div>\n",
              "  "
            ]
          },
          "metadata": {},
          "execution_count": 10
        }
      ]
    },
    {
      "cell_type": "markdown",
      "source": [
        "Calculem la **bag of words** de cada pel·lícula i l'afegim en una nova columna. Per fer-ho, apliquem minúscula a tots els tags i eliminem els espais dels tags on n'hi hagi, així doncs, per exemple el tag **Al Pacino** quedarà representat a la bag of words com **alpacino**:"
      ],
      "metadata": {
        "id": "_ePSLpCnX37Q"
      }
    },
    {
      "cell_type": "code",
      "source": [
        "l=[]\n",
        "for index, row in bag.iterrows():\n",
        "  words = ''\n",
        "  for col in bag.columns:\n",
        "    if row[col] > 0:\n",
        "      for i in range(1,row[col]+1):\n",
        "        string=col.lower().replace(' ','')#apliquem lowercase al tag i eliminem espais en cas que n'hi hagi\n",
        "        words += ' '+string+' '\n",
        "  l.append(words)\n",
        "print(len(l))"
      ],
      "metadata": {
        "colab": {
          "base_uri": "https://localhost:8080/"
        },
        "id": "NlX-kDeUwFXm",
        "outputId": "40cf4c6e-2935-4872-ef71-cca447dfaee1"
      },
      "execution_count": 23,
      "outputs": [
        {
          "output_type": "stream",
          "name": "stdout",
          "text": [
            "1572\n"
          ]
        }
      ]
    },
    {
      "cell_type": "code",
      "source": [
        "bag['Bag_of_words']=l"
      ],
      "metadata": {
        "id": "6asXWdk4C-Dp"
      },
      "execution_count": 24,
      "outputs": []
    },
    {
      "cell_type": "markdown",
      "source": [
        "Comprovem que a la **bag of words** de les pel·lícules hi figuren tots els tags:"
      ],
      "metadata": {
        "id": "qM2jLlKBEvfr"
      }
    },
    {
      "cell_type": "code",
      "source": [
        "bag.loc[pelicula]['Bag_of_words']"
      ],
      "metadata": {
        "colab": {
          "base_uri": "https://localhost:8080/",
          "height": 35
        },
        "id": "e4WrAGeI1d-q",
        "outputId": "5350a39c-c024-492d-cf0c-ac96b84e59cc"
      },
      "execution_count": 32,
      "outputs": [
        {
          "output_type": "execute_result",
          "data": {
            "text/plain": [
              "' alpacino  mafia  mafia '"
            ],
            "application/vnd.google.colaboratory.intrinsic+json": {
              "type": "string"
            }
          },
          "metadata": {},
          "execution_count": 32
        }
      ]
    },
    {
      "cell_type": "code",
      "source": [
        "pivot.loc[pelicula][pivot.loc[pelicula]>0].sort_values(ascending=False)"
      ],
      "metadata": {
        "colab": {
          "base_uri": "https://localhost:8080/"
        },
        "id": "XJA1k25EEUnj",
        "outputId": "469f9503-9b19-483e-93e7-9241ab90d3f9"
      },
      "execution_count": 33,
      "outputs": [
        {
          "output_type": "execute_result",
          "data": {
            "text/plain": [
              "tag\n",
              "Mafia        2.0\n",
              "Al Pacino    1.0\n",
              "Name: Godfather: Part II, The (1974), dtype: float64"
            ]
          },
          "metadata": {},
          "execution_count": 33
        }
      ]
    },
    {
      "cell_type": "markdown",
      "source": [
        "Eliminem espais a davant i a darrera de l'string així com espais múltiples entre tags i creem la bag of words com una llista on cada posició es un tag:"
      ],
      "metadata": {
        "id": "KHgYmMLwLELq"
      }
    },
    {
      "cell_type": "code",
      "source": [
        "bag['Bag_of_words'] = bag['Bag_of_words'].str.strip().str.replace('   ', ' ').str.replace('  ', ' ')"
      ],
      "metadata": {
        "id": "bQbKGGsjODL7"
      },
      "execution_count": 34,
      "outputs": []
    },
    {
      "cell_type": "code",
      "source": [
        "bag.loc[pelicula]['Bag_of_words'].split()"
      ],
      "metadata": {
        "colab": {
          "base_uri": "https://localhost:8080/"
        },
        "id": "7d7sptxYOKm7",
        "outputId": "50dae8bf-1785-44d5-f8f2-948d27365aec"
      },
      "execution_count": 35,
      "outputs": [
        {
          "output_type": "execute_result",
          "data": {
            "text/plain": [
              "['alpacino', 'mafia', 'mafia']"
            ]
          },
          "metadata": {},
          "execution_count": 35
        }
      ]
    },
    {
      "cell_type": "markdown",
      "source": [
        "Definim una funció per calcular la distància de Jaccard multiset."
      ],
      "metadata": {
        "id": "yKWPvATFbdDP"
      }
    },
    {
      "cell_type": "code",
      "source": [
        "#Multiset jaccard distance\n",
        "def jaccard_multiset(A,B):\n",
        "  num=0 #Numerador de la fracció\n",
        "  den=0 #Denominador de la fracció\n",
        "  for i in set(A):\n",
        "    den+=A.count(i)+B.count(i)\n",
        "    if A.count(i)<=B.count(i):\n",
        "      num+=A.count(i)\n",
        "    else:\n",
        "      num+=B.count(i)\n",
        "  jaccard_multi=num/den\n",
        "  return jaccard_multi"
      ],
      "metadata": {
        "id": "sFOcFsVrX8H-"
      },
      "execution_count": null,
      "outputs": []
    },
    {
      "cell_type": "markdown",
      "source": [
        "Afegim una columna amb els títols de les pel·lícules:"
      ],
      "metadata": {
        "id": "G1sYT5Zhfotn"
      }
    },
    {
      "cell_type": "code",
      "source": [
        "bag['title']=bag.index"
      ],
      "metadata": {
        "id": "AwsVXRTVffO_"
      },
      "execution_count": 36,
      "outputs": []
    },
    {
      "cell_type": "markdown",
      "source": [
        "Calculem la similitud de jaccard entre la *bag of words* de la pel·lícula especificada i la resta de pel·lícules, guardem la informació en un diccionari i imprimim les **N** pel·lícules amb similitud més alta:"
      ],
      "metadata": {
        "id": "5uUTWzPZhFHA"
      }
    },
    {
      "cell_type": "code",
      "source": [
        "from operator import itemgetter\n",
        "N =14\n",
        "d={}\n",
        "for index, row in bag.iterrows():\n",
        "  j=jaccard_multiset(bag.loc[pelicula]['Bag_of_words'].split(),row['Bag_of_words'].split())\n",
        "  d[row['title']]=j\n",
        "dict(sorted(d.items(), key = itemgetter(1), reverse = True)[1:N])  "
      ],
      "metadata": {
        "colab": {
          "base_uri": "https://localhost:8080/"
        },
        "id": "otRww48qdxyf",
        "outputId": "d1bd1b57-2297-45c0-d100-b56591047489"
      },
      "execution_count": null,
      "outputs": [
        {
          "output_type": "execute_result",
          "data": {
            "text/plain": [
              "{\"Carlito's Way (1993)\": 0.4,\n",
              " 'Godfather: Part III, The (1990)': 0.4,\n",
              " 'American Gangster (2007)': 0.25,\n",
              " 'Casino (1995)': 0.25,\n",
              " 'Donnie Brasco (1997)': 0.25,\n",
              " 'Godfather, The (1972)': 0.25,\n",
              " 'Goodfellas (1990)': 0.25,\n",
              " 'Insomnia (2002)': 0.25,\n",
              " 'Married to the Mob (1988)': 0.25,\n",
              " \"Miller's Crossing (1990)\": 0.25,\n",
              " 'My Blue Heaven (1990)': 0.25,\n",
              " 'Pulp Fiction (1994)': 0.25,\n",
              " 'Scarface (1983)': 0.25}"
            ]
          },
          "metadata": {},
          "execution_count": 110
        }
      ]
    },
    {
      "cell_type": "markdown",
      "source": [
        "Veiem com les pel·lícules amb més similitud són molt similars a seleccionades en la similitud per conjunts, l'ordre està alterat degut a que es té en compte el número de vegades que apareix cada tag a la bag of words, per exemple apareix *American Gangster* a la posició 3, mentre que en l'anterior ranking no apareixia. Hi ha un número major de pel·lícules amb similitud > 0. En la meva opinió aquestes recomanacions són millors que les anteriors. "
      ],
      "metadata": {
        "id": "w3PElAXliY4Q"
      }
    },
    {
      "cell_type": "markdown",
      "source": [
        "- Procedim a calcular la similitud del cosinus."
      ],
      "metadata": {
        "id": "QxvbpH7FjBnp"
      }
    },
    {
      "cell_type": "markdown",
      "source": [
        "Creem un vector de representació de la **bag of words**:"
      ],
      "metadata": {
        "id": "l5tQOivtjjaY"
      }
    },
    {
      "cell_type": "code",
      "source": [
        "count = CountVectorizer()\n",
        "count_matrix = count.fit_transform(bag['Bag_of_words'])\n",
        "count_matrix"
      ],
      "metadata": {
        "colab": {
          "base_uri": "https://localhost:8080/"
        },
        "id": "XLf-AFqTjMBZ",
        "outputId": "38545b7c-6306-4ec9-e6bd-26813e0fda0a"
      },
      "execution_count": null,
      "outputs": [
        {
          "output_type": "execute_result",
          "data": {
            "text/plain": [
              "<1572x1505 sparse matrix of type '<class 'numpy.int64'>'\n",
              "\twith 3689 stored elements in Compressed Sparse Row format>"
            ]
          },
          "metadata": {},
          "execution_count": 111
        }
      ]
    },
    {
      "cell_type": "markdown",
      "source": [
        "Calculem la similitud del cosinus entre tots els parells de pel·lícules:"
      ],
      "metadata": {
        "id": "k_pPFRLXj1o5"
      }
    },
    {
      "cell_type": "code",
      "source": [
        "cosine_sim = cosine_similarity(count_matrix, count_matrix)\n",
        "print(cosine_sim)"
      ],
      "metadata": {
        "colab": {
          "base_uri": "https://localhost:8080/"
        },
        "id": "DoQpBVdMj6Cg",
        "outputId": "8ec4e40d-378b-4c15-cf51-4384c330655d"
      },
      "execution_count": null,
      "outputs": [
        {
          "output_type": "stream",
          "name": "stdout",
          "text": [
            "[[1. 0. 0. ... 0. 0. 0.]\n",
            " [0. 1. 0. ... 0. 0. 0.]\n",
            " [0. 0. 1. ... 0. 0. 0.]\n",
            " ...\n",
            " [0. 0. 0. ... 1. 0. 0.]\n",
            " [0. 0. 0. ... 0. 1. 0.]\n",
            " [0. 0. 0. ... 0. 0. 1.]]\n"
          ]
        }
      ]
    },
    {
      "cell_type": "markdown",
      "source": [
        "Creem un dataframe amb la **similitud del cosinus** entre tots els parells de pel·lícules:"
      ],
      "metadata": {
        "id": "Db40b2eqkFSb"
      }
    },
    {
      "cell_type": "code",
      "source": [
        "df_cosinus=pd.DataFrame(cosine_sim, index=bag.index,columns=bag.index)"
      ],
      "metadata": {
        "id": "8e4FurXIkLJB"
      },
      "execution_count": null,
      "outputs": []
    },
    {
      "cell_type": "markdown",
      "source": [
        "Imprimim les pel·lícules més similars:"
      ],
      "metadata": {
        "id": "1yvw56nfkblh"
      }
    },
    {
      "cell_type": "code",
      "source": [
        "df_cosinus[pelicula].nlargest(14)[1:]"
      ],
      "metadata": {
        "colab": {
          "base_uri": "https://localhost:8080/"
        },
        "id": "tF6eT8MqkfXZ",
        "outputId": "a7253c47-fbf3-4a29-c90c-610d4cefd42b"
      },
      "execution_count": null,
      "outputs": [
        {
          "output_type": "execute_result",
          "data": {
            "text/plain": [
              "title\n",
              "Casino (1995)                      0.894427\n",
              "Donnie Brasco (1997)               0.894427\n",
              "Godfather, The (1972)              0.894427\n",
              "Goodfellas (1990)                  0.894427\n",
              "Married to the Mob (1988)          0.894427\n",
              "Miller's Crossing (1990)           0.894427\n",
              "My Blue Heaven (1990)              0.894427\n",
              "Carlito's Way (1993)               0.774597\n",
              "Godfather: Part III, The (1990)    0.600000\n",
              "American Gangster (2007)           0.447214\n",
              "Scarface (1983)                    0.447214\n",
              "Insomnia (2002)                    0.141421\n",
              "Pulp Fiction (1994)                0.059235\n",
              "Name: Godfather: Part II, The (1974), dtype: float64"
            ]
          },
          "metadata": {},
          "execution_count": 114
        }
      ]
    },
    {
      "cell_type": "markdown",
      "source": [
        "El ranking és molt similar al calculat amb la **similitud de Jaccard per conjunts**, en aquest cas entra al Top 10 *American Gangster (2007)* i desapareix *Scarface (1983)*. "
      ],
      "metadata": {
        "id": "_4MqQjkBmFui"
      }
    },
    {
      "cell_type": "markdown",
      "source": [
        "Finalment ho condensem tot en una funció:"
      ],
      "metadata": {
        "id": "32vQmvV8qYcy"
      }
    },
    {
      "cell_type": "code",
      "source": [
        "pelicula=str(input())\n",
        "#Godfather: Part II, The (1974)\n",
        "def recomanador(pelicula):\n",
        "  print('Recomanacions similars a la pel·lícula:',pelicula)\n",
        "  print('--------------------------------------------------------')\n",
        "  print('Recomanacions segons similitud de Jaccard per a conjunts')\n",
        "  print('--------------------------------------------------------')\n",
        "  print(df_jaccard[pelicula].nlargest(14)[1:])\n",
        "  print('--------------------------------------------------------')\n",
        "  print('Recomanacions segons similitud de Jaccard per a multiconjunts (bags)')\n",
        "  print('--------------------------------------------------------')\n",
        "  N =14\n",
        "  d={}\n",
        "  for index, row in bag.iterrows():\n",
        "    j=jaccard_multiset(bag.loc[pelicula]['Bag_of_words'].split(),row['Bag_of_words'].split())\n",
        "    d[row['title']]=j\n",
        "  for i in dict(sorted(d.items(), key = itemgetter(1), reverse = True)[1:N]):\n",
        "    print(i)\n",
        "  print('--------------------------------------------------------')  \n",
        "  print('Recomanacions segons similitud del cosinus')\n",
        "  print('--------------------------------------------------------')  \n",
        "  print(df_cosinus[pelicula].nlargest(14)[1:])\n",
        "  #print(list(dict(sorted(d.items(), key = itemgetter(1), reverse = True)[1:N])))\n",
        "\n",
        "recomanador(pelicula)"
      ],
      "metadata": {
        "colab": {
          "base_uri": "https://localhost:8080/"
        },
        "id": "uAFOZfKroEA8",
        "outputId": "97127ee7-3f17-47a9-d6b1-3fb52c540c12"
      },
      "execution_count": null,
      "outputs": [
        {
          "output_type": "stream",
          "name": "stdout",
          "text": [
            "Godfather: Part II, The (1974)\n",
            "Recomanacions similars a la pel·lícula: Godfather: Part II, The (1974)\n",
            "--------------------------------------------------------\n",
            "Recomanacions segons similitud de Jaccard per a conjunts\n",
            "--------------------------------------------------------\n",
            "title\n",
            "Casino (1995)                      0.500000\n",
            "Donnie Brasco (1997)               0.500000\n",
            "Godfather, The (1972)              0.500000\n",
            "Goodfellas (1990)                  0.500000\n",
            "Married to the Mob (1988)          0.500000\n",
            "Miller's Crossing (1990)           0.500000\n",
            "My Blue Heaven (1990)              0.500000\n",
            "Scarface (1983)                    0.500000\n",
            "Carlito's Way (1993)               0.250000\n",
            "Godfather: Part III, The (1990)    0.166667\n",
            "Insomnia (2002)                    0.142857\n",
            "Pulp Fiction (1994)                0.005747\n",
            "(500) Days of Summer (2009)        0.000000\n",
            "Name: Godfather: Part II, The (1974), dtype: float64\n",
            "--------------------------------------------------------\n",
            "Recomanacions segons similitud de Jaccard per a multiconjunts (bags)\n",
            "--------------------------------------------------------\n",
            "Carlito's Way (1993)\n",
            "Godfather: Part III, The (1990)\n",
            "American Gangster (2007)\n",
            "Casino (1995)\n",
            "Donnie Brasco (1997)\n",
            "Godfather, The (1972)\n",
            "Goodfellas (1990)\n",
            "Insomnia (2002)\n",
            "Married to the Mob (1988)\n",
            "Miller's Crossing (1990)\n",
            "My Blue Heaven (1990)\n",
            "Pulp Fiction (1994)\n",
            "Scarface (1983)\n",
            "--------------------------------------------------------\n",
            "Recomanacions segons similitud del cosinus\n",
            "--------------------------------------------------------\n",
            "title\n",
            "Casino (1995)                      0.894427\n",
            "Donnie Brasco (1997)               0.894427\n",
            "Godfather, The (1972)              0.894427\n",
            "Goodfellas (1990)                  0.894427\n",
            "Married to the Mob (1988)          0.894427\n",
            "Miller's Crossing (1990)           0.894427\n",
            "My Blue Heaven (1990)              0.894427\n",
            "Carlito's Way (1993)               0.774597\n",
            "Godfather: Part III, The (1990)    0.600000\n",
            "American Gangster (2007)           0.447214\n",
            "Scarface (1983)                    0.447214\n",
            "Insomnia (2002)                    0.141421\n",
            "Pulp Fiction (1994)                0.059235\n",
            "Name: Godfather: Part II, The (1974), dtype: float64\n"
          ]
        }
      ]
    },
    {
      "cell_type": "markdown",
      "source": [
        "#c) Permeti demanar recomanacions per un usuari determinat basades en el seu perfil. Us heu de pensar vosaltres la manera de construir el perfil."
      ],
      "metadata": {
        "id": "BFD9K4F4nUja"
      }
    },
    {
      "cell_type": "markdown",
      "source": [
        "## He fet servir 2 mètodes per construir el perfil d'usuari i fer-ne recomanacions, aquest és el primer:"
      ],
      "metadata": {
        "id": "ZPaEw7Ma733q"
      }
    },
    {
      "cell_type": "markdown",
      "source": [
        "Aquest *approach* es basa en que l'usuari introdueixi els títols de les pel·lícules que li han agradat, a partir d'aquests títols es construeix una *bag of words* amb els tags de les pel·lícules que han agradat a l'usuari, a partir d'aquesta *bag of words* es calcula la similitud amb els tags de totes les pel·lícules que l'usuari no ha vist mitjançant el mètode de *similitud del cosinus* i es recomanen les més similars:"
      ],
      "metadata": {
        "id": "7n9G2BtgHhTF"
      }
    },
    {
      "cell_type": "code",
      "source": [
        "for i in bag['title']:\n",
        "  print(i)"
      ],
      "metadata": {
        "id": "rDRrNfHT8bw0"
      },
      "execution_count": null,
      "outputs": []
    },
    {
      "cell_type": "markdown",
      "source": [
        "L'usuari introdueix els títols de les pel·lícules que li han agradat i aquests es guarden en una llista **perfil**:"
      ],
      "metadata": {
        "id": "dWo3ijvpIgDC"
      }
    },
    {
      "cell_type": "code",
      "source": [
        "likes = input(\"Introdueix pel·lícules que t'agradin separades per coma:\")\n",
        "#West Side Story (1961),Titanic (1997)\n",
        "perfil = likes.split(\",\")\n",
        "if all(x in bag['title'] for x in perfil) == False:\n",
        "      perfil=None\n",
        "      print('La pel·lícula no figura a la base de dades.')"
      ],
      "metadata": {
        "colab": {
          "base_uri": "https://localhost:8080/"
        },
        "id": "mTI99mB184qj",
        "outputId": "36b20d38-885b-4c13-9333-3fe354176b67"
      },
      "execution_count": null,
      "outputs": [
        {
          "name": "stdout",
          "output_type": "stream",
          "text": [
            "Introdueix pel·lícules que t'agradin separades per coma:West Side Story (1961),Titanic (1997)\n"
          ]
        }
      ]
    },
    {
      "cell_type": "code",
      "source": [
        "perfil"
      ],
      "metadata": {
        "colab": {
          "base_uri": "https://localhost:8080/"
        },
        "id": "y5TrCW6Q9qbY",
        "outputId": "4eea7199-d9fc-4ad6-80bb-c4ad0070720c"
      },
      "execution_count": null,
      "outputs": [
        {
          "output_type": "execute_result",
          "data": {
            "text/plain": [
              "['West Side Story (1961)', 'Titanic (1997)']"
            ]
          },
          "metadata": {},
          "execution_count": 118
        }
      ]
    },
    {
      "cell_type": "code",
      "source": [
        "usuari = bag.reindex(perfil)\n",
        "usuari['Bag_of_words']"
      ],
      "metadata": {
        "colab": {
          "base_uri": "https://localhost:8080/"
        },
        "id": "I5m4r8S9-SQr",
        "outputId": "cfd59948-43e3-4130-d26c-984c71d115b5"
      },
      "execution_count": null,
      "outputs": [
        {
          "output_type": "execute_result",
          "data": {
            "text/plain": [
              "title\n",
              "West Side Story (1961)                gangs\n",
              "Titanic (1997)            romance shipwreck\n",
              "Name: Bag_of_words, dtype: object"
            ]
          },
          "metadata": {},
          "execution_count": 119
        }
      ]
    },
    {
      "cell_type": "markdown",
      "source": [
        "Creem una bag of words amb els tags de les pel·lícules que l'usuari ha introduït:"
      ],
      "metadata": {
        "id": "UMjdGtU2I46a"
      }
    },
    {
      "cell_type": "code",
      "source": [
        "bag_usuari=''\n",
        "\n",
        "for i in perfil:\n",
        "  bag_usuari+=usuari.loc[i]['Bag_of_words']+' '\n",
        "\n",
        "print(bag_usuari)\n"
      ],
      "metadata": {
        "colab": {
          "base_uri": "https://localhost:8080/"
        },
        "id": "jvLLau0jA1E3",
        "outputId": "1da66564-3d8d-4ab6-c69f-e05aa03ac316"
      },
      "execution_count": null,
      "outputs": [
        {
          "output_type": "stream",
          "name": "stdout",
          "text": [
            "gangs romance shipwreck \n"
          ]
        }
      ]
    },
    {
      "cell_type": "markdown",
      "source": [
        "Creem un DataFrame amb les pel·lícules i *bag of words* que no figuren a la llista introduïda per l'usuari. Afegim el perfil d'usuari al DataFrame com si fos una pel·lícula més."
      ],
      "metadata": {
        "id": "kqQXcMwMJT9S"
      }
    },
    {
      "cell_type": "code",
      "source": [
        "non_user_movies=bag.drop(perfil,axis=0)\n",
        "non_user_movies=non_user_movies[['Bag_of_words']]\n",
        "non_user_movies.loc['perfil']=bag_usuari"
      ],
      "metadata": {
        "id": "7f6rChFiC86_"
      },
      "execution_count": null,
      "outputs": []
    },
    {
      "cell_type": "code",
      "source": [
        "non_user_movies['Bag_of_words']"
      ],
      "metadata": {
        "colab": {
          "base_uri": "https://localhost:8080/"
        },
        "id": "4FI45vjBErEZ",
        "outputId": "0675e40c-09c2-41a2-c152-b86f60bff98d"
      },
      "execution_count": null,
      "outputs": [
        {
          "output_type": "execute_result",
          "data": {
            "text/plain": [
              "title\n",
              "(500) Days of Summer (2009)          funny zooeydeschanel artistic humorous inspiri...\n",
              "...And Justice for All (1979)                                                  lawyers\n",
              "10 Cloverfield Lane (2016)                                             creepy suspense\n",
              "10 Things I Hate About You (1999)                                    shakespearesortof\n",
              "101 Dalmatians (1996)                                                      dogs remake\n",
              "                                                           ...                        \n",
              "Zombieland (2009)                    billmurray emmastone jesseeisenberg woodyharre...\n",
              "Zoolander (2001)                     davidbowie willferrell benstiller comedy goofy...\n",
              "Zulu (1964)                                                                     africa\n",
              "eXistenZ (1999)                                                         virtualreality\n",
              "perfil                                                        gangs romance shipwreck \n",
              "Name: Bag_of_words, Length: 1571, dtype: object"
            ]
          },
          "metadata": {},
          "execution_count": 122
        }
      ]
    },
    {
      "cell_type": "markdown",
      "source": [
        "Vectoritzem la columna *bag of words* i apliquem la similitud del cosinus entre totes les files del DataFrame:"
      ],
      "metadata": {
        "id": "QtZhQ0jiKCVz"
      }
    },
    {
      "cell_type": "code",
      "source": [
        "count = CountVectorizer()\n",
        "count_matrix_pusuari = count.fit_transform(non_user_movies['Bag_of_words'])\n",
        "count_matrix_pusuari"
      ],
      "metadata": {
        "colab": {
          "base_uri": "https://localhost:8080/"
        },
        "id": "QcBKwzclEWdF",
        "outputId": "2e56f008-d65b-4929-d0d8-a6db116e1f70"
      },
      "execution_count": null,
      "outputs": [
        {
          "output_type": "execute_result",
          "data": {
            "text/plain": [
              "<1571x1505 sparse matrix of type '<class 'numpy.int64'>'\n",
              "\twith 3689 stored elements in Compressed Sparse Row format>"
            ]
          },
          "metadata": {},
          "execution_count": 123
        }
      ]
    },
    {
      "cell_type": "code",
      "source": [
        "cosine_sim_pusuari = cosine_similarity(count_matrix_pusuari, count_matrix_pusuari)\n",
        "print(cosine_sim_pusuari)"
      ],
      "metadata": {
        "colab": {
          "base_uri": "https://localhost:8080/"
        },
        "id": "EplIFsbUGOxu",
        "outputId": "c1a653c0-4de3-4a34-abae-87497e3a0a50"
      },
      "execution_count": null,
      "outputs": [
        {
          "output_type": "stream",
          "name": "stdout",
          "text": [
            "[[1.         0.         0.         ... 0.         0.         0.20412415]\n",
            " [0.         1.         0.         ... 0.         0.         0.        ]\n",
            " [0.         0.         1.         ... 0.         0.         0.        ]\n",
            " ...\n",
            " [0.         0.         0.         ... 1.         0.         0.        ]\n",
            " [0.         0.         0.         ... 0.         1.         0.        ]\n",
            " [0.20412415 0.         0.         ... 0.         0.         1.        ]]\n"
          ]
        }
      ]
    },
    {
      "cell_type": "markdown",
      "source": [
        "Creem un DataFrame amb resultats i imprimim les pel·lícules més similars al **perfil**:"
      ],
      "metadata": {
        "id": "z2X8itZ2K31j"
      }
    },
    {
      "cell_type": "code",
      "source": [
        "df_cosinus_pusuari=pd.DataFrame(cosine_sim_pusuari, index=non_user_movies.index,columns=non_user_movies.index)"
      ],
      "metadata": {
        "id": "bWtwXrtdGgDc"
      },
      "execution_count": null,
      "outputs": []
    },
    {
      "cell_type": "code",
      "source": [
        "df_cosinus_pusuari['perfil'].nlargest(6)[1:6]"
      ],
      "metadata": {
        "colab": {
          "base_uri": "https://localhost:8080/"
        },
        "outputId": "7a0fc669-a60f-4503-a11b-7b3b595c72e2",
        "id": "6rtVMl4iGgDd"
      },
      "execution_count": null,
      "outputs": [
        {
          "output_type": "execute_result",
          "data": {
            "text/plain": [
              "title\n",
              "Better Luck Tomorrow (2002)     0.577350\n",
              "Notebook, The (2004)            0.333333\n",
              "Town, The (2010)                0.288675\n",
              "Stranger than Fiction (2006)    0.235702\n",
              "(500) Days of Summer (2009)     0.204124\n",
              "Name: perfil, dtype: float64"
            ]
          },
          "metadata": {},
          "execution_count": 126
        }
      ]
    },
    {
      "cell_type": "markdown",
      "source": [
        "## Segon mètode per construir el perfil d'usuari:"
      ],
      "metadata": {
        "id": "-J8L5M6XHRoB"
      }
    },
    {
      "cell_type": "markdown",
      "source": [
        "Aquest segon *approach* es basa en construir un perfil d'usuari a partir dels tags de les pel·lícules que li agraden i calcular la similitud d'aquest perfil amb totes les pel·lícules mitjançant la similitud de Jaccard per conjunts."
      ],
      "metadata": {
        "id": "sCxQYI4azGf2"
      }
    },
    {
      "cell_type": "markdown",
      "source": [
        "Creem una llista amb tots els tags diferents que s'han donat a les pel·lícules, anomenada **etiquetes**:"
      ],
      "metadata": {
        "id": "RsENEq4rz1nU"
      }
    },
    {
      "cell_type": "code",
      "source": [
        "etiquetes=list(pivot.columns)\n",
        "len(set(etiquetes))"
      ],
      "metadata": {
        "colab": {
          "base_uri": "https://localhost:8080/"
        },
        "id": "wdvvkOSMsq2T",
        "outputId": "d93eb8e2-0bad-4ad2-9359-27c07c8a1e0b"
      },
      "execution_count": null,
      "outputs": [
        {
          "output_type": "execute_result",
          "data": {
            "text/plain": [
              "1589"
            ]
          },
          "metadata": {},
          "execution_count": 127
        }
      ]
    },
    {
      "cell_type": "code",
      "source": [
        "etiquetes"
      ],
      "metadata": {
        "id": "6vyKoa5Ds1Ij"
      },
      "execution_count": null,
      "outputs": []
    },
    {
      "cell_type": "markdown",
      "source": [
        "Definim un *perfil d'usuari* com una llista d'etiquetes, on hi ha les etiquetes característiques de les pel·lícules que agraden a l'usuari:"
      ],
      "metadata": {
        "id": "GBq1VitEz-h1"
      }
    },
    {
      "cell_type": "code",
      "source": [
        "perfil = ['New York','New York City']"
      ],
      "metadata": {
        "id": "F7Tk2Cxlv45s"
      },
      "execution_count": null,
      "outputs": []
    },
    {
      "cell_type": "markdown",
      "source": [
        "Fem una copia del DataFrame binari utilitzat per calcular la similitud de Jaccard per conjunts:"
      ],
      "metadata": {
        "id": "pA272DKR0YP9"
      }
    },
    {
      "cell_type": "code",
      "source": [
        "personalized=binary.copy()"
      ],
      "metadata": {
        "id": "wRgfXG9HwLDL"
      },
      "execution_count": null,
      "outputs": []
    },
    {
      "cell_type": "markdown",
      "source": [
        "Emplenem una llista binària amb un 1 a les columnes del DataFrame que corresponen a l'etiqueta i afegim la llista al dataframe com si fos una pel·lícula més."
      ],
      "metadata": {
        "id": "-etAUZWzymM2"
      }
    },
    {
      "cell_type": "code",
      "source": [
        "profile=[]\n",
        "for col in personalized.columns:\n",
        "  if col in perfil:\n",
        "    profile.append(1)\n",
        "  else:\n",
        "    profile.append(0)\n",
        "\n",
        "len(profile)"
      ],
      "metadata": {
        "colab": {
          "base_uri": "https://localhost:8080/"
        },
        "id": "qVBZHsQmwjCE",
        "outputId": "478a98bf-4b63-41d5-d831-81f2736535e0"
      },
      "execution_count": null,
      "outputs": [
        {
          "output_type": "execute_result",
          "data": {
            "text/plain": [
              "1589"
            ]
          },
          "metadata": {},
          "execution_count": 131
        }
      ]
    },
    {
      "cell_type": "code",
      "source": [
        "personalized.loc['perfil'] = profile"
      ],
      "metadata": {
        "id": "HZ5nf9nhxnNW"
      },
      "execution_count": null,
      "outputs": []
    },
    {
      "cell_type": "markdown",
      "source": [
        "Busquem les pel·lícules que tenen més similitud amb les etiquetes especificades per l'usuari segons el métode de Jaccard de similitud per conjunts d'igual manera que hem fet al primer punt de l'apartat anterior i les imprimim:"
      ],
      "metadata": {
        "id": "N3lSGUysy6-F"
      }
    },
    {
      "cell_type": "code",
      "source": [
        "jaccard_d=pdist(personalized.values, metric='jaccard')\n",
        "square_jaccard_d=squareform(jaccard_d)\n",
        "square_jaccard_s=1-square_jaccard_d\n",
        "df_j=pd.DataFrame(square_jaccard_s, index=personalized.index,columns=personalized.index)\n",
        "df_j['perfil'].nlargest(9)[1:]"
      ],
      "metadata": {
        "colab": {
          "base_uri": "https://localhost:8080/"
        },
        "id": "n-j-pqh_xwts",
        "outputId": "f3f20fa1-29ba-4d75-e395-a386327eda88"
      },
      "execution_count": null,
      "outputs": [
        {
          "output_type": "execute_result",
          "data": {
            "text/plain": [
              "title\n",
              "Annie Hall (1977)                  0.500000\n",
              "Crossing Delancey (1988)           0.500000\n",
              "Moonstruck (1987)                  0.500000\n",
              "When Harry Met Sally... (1989)     0.500000\n",
              "Caveman's Valentine, The (2001)    0.333333\n",
              "Kids (1995)                        0.250000\n",
              "Dark Days (2000)                   0.142857\n",
              "Friends with Benefits (2011)       0.100000\n",
              "Name: perfil, dtype: float64"
            ]
          },
          "metadata": {},
          "execution_count": 133
        }
      ]
    },
    {
      "cell_type": "markdown",
      "source": [
        "Finalment fem un wrap de tot en una sola funció i l'invoquem amb els tags *New York i New York City*"
      ],
      "metadata": {
        "id": "VIkKlGLn3dF2"
      }
    },
    {
      "cell_type": "code",
      "source": [
        "def pelicules_similars():\n",
        "  p = input(\"Introdueix una o vàries etiquetes separades per coma:\")\n",
        "  perfil = p.split(\",\")\n",
        "  if all(x in list(etiquetes) for x in perfil) == False:\n",
        "        print('Etiqueta errònea')\n",
        "  else:\n",
        "    personalized=binary.copy()\n",
        "    profile=[]\n",
        "    for col in personalized.columns:\n",
        "      if col in perfil:\n",
        "        profile.append(1)\n",
        "      else:\n",
        "        profile.append(0)\n",
        "    personalized.loc['perfil'] = profile\n",
        "    jaccard_d=pdist(personalized.values, metric='jaccard')\n",
        "    square_jaccard_d=squareform(jaccard_d)\n",
        "    square_jaccard_s=1-square_jaccard_d\n",
        "    df_j=pd.DataFrame(square_jaccard_s, index=personalized.index,columns=personalized.index)\n",
        "    return df_j['perfil'].nlargest(9)[1:]"
      ],
      "metadata": {
        "id": "dwSA-D3X13re"
      },
      "execution_count": null,
      "outputs": []
    },
    {
      "cell_type": "code",
      "source": [
        "#New York,New York City\n",
        "recomanacions = pelicules_similars()\n",
        "print(recomanacions)"
      ],
      "metadata": {
        "colab": {
          "base_uri": "https://localhost:8080/"
        },
        "id": "CVLtHyGq2hUF",
        "outputId": "155ffc51-526d-48cb-cc53-c15b11a6b748"
      },
      "execution_count": null,
      "outputs": [
        {
          "output_type": "stream",
          "name": "stdout",
          "text": [
            "Introdueix una o vàries etiquetes separades per coma:New York,New York City\n",
            "title\n",
            "Annie Hall (1977)                  0.500000\n",
            "Crossing Delancey (1988)           0.500000\n",
            "Moonstruck (1987)                  0.500000\n",
            "When Harry Met Sally... (1989)     0.500000\n",
            "Caveman's Valentine, The (2001)    0.333333\n",
            "Kids (1995)                        0.250000\n",
            "Dark Days (2000)                   0.142857\n",
            "Friends with Benefits (2011)       0.100000\n",
            "Name: perfil, dtype: float64\n"
          ]
        }
      ]
    },
    {
      "cell_type": "markdown",
      "source": [
        "#d/ Opcionalment, implementeu un recomanador basat en el mètode Naive Bayes explicat a classe que, donat un usuari, li recomani les pel·lícules que es més probable que li agradin donats els tags de les pel·lícules que li han agradat (les ha qualificat amb bona puntuació) i les que no (amb puntuació baixa)\n"
      ],
      "metadata": {
        "id": "b_sG40i34Zgm"
      }
    },
    {
      "cell_type": "code",
      "source": [
        "import numpy as np"
      ],
      "metadata": {
        "id": "6IscsLhg-CjF"
      },
      "execution_count": 11,
      "outputs": []
    },
    {
      "cell_type": "code",
      "source": [
        "ratings = pd.read_csv(\"/content/drive/MyDrive/Advanced ML/ratings.csv\")\n",
        "print('ratings shape:',ratings.shape)\n",
        "print(ratings.columns)\n",
        "ratings.head()"
      ],
      "metadata": {
        "colab": {
          "base_uri": "https://localhost:8080/",
          "height": 241
        },
        "id": "gvXTRdAi-c2i",
        "outputId": "6ddc5c41-55f1-4a51-b3a2-d87f3f6ba577"
      },
      "execution_count": 12,
      "outputs": [
        {
          "output_type": "stream",
          "name": "stdout",
          "text": [
            "ratings shape: (100836, 4)\n",
            "Index(['userId', 'movieId', 'rating', 'timestamp'], dtype='object')\n"
          ]
        },
        {
          "output_type": "execute_result",
          "data": {
            "text/plain": [
              "   userId  movieId  rating  timestamp\n",
              "0       1        1     4.0  964982703\n",
              "1       1        3     4.0  964981247\n",
              "2       1        6     4.0  964982224\n",
              "3       1       47     5.0  964983815\n",
              "4       1       50     5.0  964982931"
            ],
            "text/html": [
              "\n",
              "  <div id=\"df-c8b9ec7e-700b-4422-9fde-6b35bceeb572\">\n",
              "    <div class=\"colab-df-container\">\n",
              "      <div>\n",
              "<style scoped>\n",
              "    .dataframe tbody tr th:only-of-type {\n",
              "        vertical-align: middle;\n",
              "    }\n",
              "\n",
              "    .dataframe tbody tr th {\n",
              "        vertical-align: top;\n",
              "    }\n",
              "\n",
              "    .dataframe thead th {\n",
              "        text-align: right;\n",
              "    }\n",
              "</style>\n",
              "<table border=\"1\" class=\"dataframe\">\n",
              "  <thead>\n",
              "    <tr style=\"text-align: right;\">\n",
              "      <th></th>\n",
              "      <th>userId</th>\n",
              "      <th>movieId</th>\n",
              "      <th>rating</th>\n",
              "      <th>timestamp</th>\n",
              "    </tr>\n",
              "  </thead>\n",
              "  <tbody>\n",
              "    <tr>\n",
              "      <th>0</th>\n",
              "      <td>1</td>\n",
              "      <td>1</td>\n",
              "      <td>4.0</td>\n",
              "      <td>964982703</td>\n",
              "    </tr>\n",
              "    <tr>\n",
              "      <th>1</th>\n",
              "      <td>1</td>\n",
              "      <td>3</td>\n",
              "      <td>4.0</td>\n",
              "      <td>964981247</td>\n",
              "    </tr>\n",
              "    <tr>\n",
              "      <th>2</th>\n",
              "      <td>1</td>\n",
              "      <td>6</td>\n",
              "      <td>4.0</td>\n",
              "      <td>964982224</td>\n",
              "    </tr>\n",
              "    <tr>\n",
              "      <th>3</th>\n",
              "      <td>1</td>\n",
              "      <td>47</td>\n",
              "      <td>5.0</td>\n",
              "      <td>964983815</td>\n",
              "    </tr>\n",
              "    <tr>\n",
              "      <th>4</th>\n",
              "      <td>1</td>\n",
              "      <td>50</td>\n",
              "      <td>5.0</td>\n",
              "      <td>964982931</td>\n",
              "    </tr>\n",
              "  </tbody>\n",
              "</table>\n",
              "</div>\n",
              "      <button class=\"colab-df-convert\" onclick=\"convertToInteractive('df-c8b9ec7e-700b-4422-9fde-6b35bceeb572')\"\n",
              "              title=\"Convert this dataframe to an interactive table.\"\n",
              "              style=\"display:none;\">\n",
              "        \n",
              "  <svg xmlns=\"http://www.w3.org/2000/svg\" height=\"24px\"viewBox=\"0 0 24 24\"\n",
              "       width=\"24px\">\n",
              "    <path d=\"M0 0h24v24H0V0z\" fill=\"none\"/>\n",
              "    <path d=\"M18.56 5.44l.94 2.06.94-2.06 2.06-.94-2.06-.94-.94-2.06-.94 2.06-2.06.94zm-11 1L8.5 8.5l.94-2.06 2.06-.94-2.06-.94L8.5 2.5l-.94 2.06-2.06.94zm10 10l.94 2.06.94-2.06 2.06-.94-2.06-.94-.94-2.06-.94 2.06-2.06.94z\"/><path d=\"M17.41 7.96l-1.37-1.37c-.4-.4-.92-.59-1.43-.59-.52 0-1.04.2-1.43.59L10.3 9.45l-7.72 7.72c-.78.78-.78 2.05 0 2.83L4 21.41c.39.39.9.59 1.41.59.51 0 1.02-.2 1.41-.59l7.78-7.78 2.81-2.81c.8-.78.8-2.07 0-2.86zM5.41 20L4 18.59l7.72-7.72 1.47 1.35L5.41 20z\"/>\n",
              "  </svg>\n",
              "      </button>\n",
              "      \n",
              "  <style>\n",
              "    .colab-df-container {\n",
              "      display:flex;\n",
              "      flex-wrap:wrap;\n",
              "      gap: 12px;\n",
              "    }\n",
              "\n",
              "    .colab-df-convert {\n",
              "      background-color: #E8F0FE;\n",
              "      border: none;\n",
              "      border-radius: 50%;\n",
              "      cursor: pointer;\n",
              "      display: none;\n",
              "      fill: #1967D2;\n",
              "      height: 32px;\n",
              "      padding: 0 0 0 0;\n",
              "      width: 32px;\n",
              "    }\n",
              "\n",
              "    .colab-df-convert:hover {\n",
              "      background-color: #E2EBFA;\n",
              "      box-shadow: 0px 1px 2px rgba(60, 64, 67, 0.3), 0px 1px 3px 1px rgba(60, 64, 67, 0.15);\n",
              "      fill: #174EA6;\n",
              "    }\n",
              "\n",
              "    [theme=dark] .colab-df-convert {\n",
              "      background-color: #3B4455;\n",
              "      fill: #D2E3FC;\n",
              "    }\n",
              "\n",
              "    [theme=dark] .colab-df-convert:hover {\n",
              "      background-color: #434B5C;\n",
              "      box-shadow: 0px 1px 3px 1px rgba(0, 0, 0, 0.15);\n",
              "      filter: drop-shadow(0px 1px 2px rgba(0, 0, 0, 0.3));\n",
              "      fill: #FFFFFF;\n",
              "    }\n",
              "  </style>\n",
              "\n",
              "      <script>\n",
              "        const buttonEl =\n",
              "          document.querySelector('#df-c8b9ec7e-700b-4422-9fde-6b35bceeb572 button.colab-df-convert');\n",
              "        buttonEl.style.display =\n",
              "          google.colab.kernel.accessAllowed ? 'block' : 'none';\n",
              "\n",
              "        async function convertToInteractive(key) {\n",
              "          const element = document.querySelector('#df-c8b9ec7e-700b-4422-9fde-6b35bceeb572');\n",
              "          const dataTable =\n",
              "            await google.colab.kernel.invokeFunction('convertToInteractive',\n",
              "                                                     [key], {});\n",
              "          if (!dataTable) return;\n",
              "\n",
              "          const docLinkHtml = 'Like what you see? Visit the ' +\n",
              "            '<a target=\"_blank\" href=https://colab.research.google.com/notebooks/data_table.ipynb>data table notebook</a>'\n",
              "            + ' to learn more about interactive tables.';\n",
              "          element.innerHTML = '';\n",
              "          dataTable['output_type'] = 'display_data';\n",
              "          await google.colab.output.renderOutput(dataTable, element);\n",
              "          const docLink = document.createElement('div');\n",
              "          docLink.innerHTML = docLinkHtml;\n",
              "          element.appendChild(docLink);\n",
              "        }\n",
              "      </script>\n",
              "    </div>\n",
              "  </div>\n",
              "  "
            ]
          },
          "metadata": {},
          "execution_count": 12
        }
      ]
    },
    {
      "cell_type": "markdown",
      "source": [
        "Afegim la columna *titles* al DataFrame *ratings*"
      ],
      "metadata": {
        "id": "QUsiCKqg_89v"
      }
    },
    {
      "cell_type": "code",
      "source": [
        "ratings = pd.merge(ratings[['userId','movieId','rating']],movies[['movieId','title']],on=['movieId'],how='left')\n",
        "ratings.head()"
      ],
      "metadata": {
        "colab": {
          "base_uri": "https://localhost:8080/",
          "height": 206
        },
        "id": "B5MvyARF_ZVg",
        "outputId": "a6100ca7-aa42-4772-8da1-809d202f8fc4"
      },
      "execution_count": 13,
      "outputs": [
        {
          "output_type": "execute_result",
          "data": {
            "text/plain": [
              "   userId  movieId  rating                        title\n",
              "0       1        1     4.0             Toy Story (1995)\n",
              "1       1        3     4.0      Grumpier Old Men (1995)\n",
              "2       1        6     4.0                  Heat (1995)\n",
              "3       1       47     5.0  Seven (a.k.a. Se7en) (1995)\n",
              "4       1       50     5.0   Usual Suspects, The (1995)"
            ],
            "text/html": [
              "\n",
              "  <div id=\"df-1d10bc50-d9f3-4118-a5b9-029c593ecc21\">\n",
              "    <div class=\"colab-df-container\">\n",
              "      <div>\n",
              "<style scoped>\n",
              "    .dataframe tbody tr th:only-of-type {\n",
              "        vertical-align: middle;\n",
              "    }\n",
              "\n",
              "    .dataframe tbody tr th {\n",
              "        vertical-align: top;\n",
              "    }\n",
              "\n",
              "    .dataframe thead th {\n",
              "        text-align: right;\n",
              "    }\n",
              "</style>\n",
              "<table border=\"1\" class=\"dataframe\">\n",
              "  <thead>\n",
              "    <tr style=\"text-align: right;\">\n",
              "      <th></th>\n",
              "      <th>userId</th>\n",
              "      <th>movieId</th>\n",
              "      <th>rating</th>\n",
              "      <th>title</th>\n",
              "    </tr>\n",
              "  </thead>\n",
              "  <tbody>\n",
              "    <tr>\n",
              "      <th>0</th>\n",
              "      <td>1</td>\n",
              "      <td>1</td>\n",
              "      <td>4.0</td>\n",
              "      <td>Toy Story (1995)</td>\n",
              "    </tr>\n",
              "    <tr>\n",
              "      <th>1</th>\n",
              "      <td>1</td>\n",
              "      <td>3</td>\n",
              "      <td>4.0</td>\n",
              "      <td>Grumpier Old Men (1995)</td>\n",
              "    </tr>\n",
              "    <tr>\n",
              "      <th>2</th>\n",
              "      <td>1</td>\n",
              "      <td>6</td>\n",
              "      <td>4.0</td>\n",
              "      <td>Heat (1995)</td>\n",
              "    </tr>\n",
              "    <tr>\n",
              "      <th>3</th>\n",
              "      <td>1</td>\n",
              "      <td>47</td>\n",
              "      <td>5.0</td>\n",
              "      <td>Seven (a.k.a. Se7en) (1995)</td>\n",
              "    </tr>\n",
              "    <tr>\n",
              "      <th>4</th>\n",
              "      <td>1</td>\n",
              "      <td>50</td>\n",
              "      <td>5.0</td>\n",
              "      <td>Usual Suspects, The (1995)</td>\n",
              "    </tr>\n",
              "  </tbody>\n",
              "</table>\n",
              "</div>\n",
              "      <button class=\"colab-df-convert\" onclick=\"convertToInteractive('df-1d10bc50-d9f3-4118-a5b9-029c593ecc21')\"\n",
              "              title=\"Convert this dataframe to an interactive table.\"\n",
              "              style=\"display:none;\">\n",
              "        \n",
              "  <svg xmlns=\"http://www.w3.org/2000/svg\" height=\"24px\"viewBox=\"0 0 24 24\"\n",
              "       width=\"24px\">\n",
              "    <path d=\"M0 0h24v24H0V0z\" fill=\"none\"/>\n",
              "    <path d=\"M18.56 5.44l.94 2.06.94-2.06 2.06-.94-2.06-.94-.94-2.06-.94 2.06-2.06.94zm-11 1L8.5 8.5l.94-2.06 2.06-.94-2.06-.94L8.5 2.5l-.94 2.06-2.06.94zm10 10l.94 2.06.94-2.06 2.06-.94-2.06-.94-.94-2.06-.94 2.06-2.06.94z\"/><path d=\"M17.41 7.96l-1.37-1.37c-.4-.4-.92-.59-1.43-.59-.52 0-1.04.2-1.43.59L10.3 9.45l-7.72 7.72c-.78.78-.78 2.05 0 2.83L4 21.41c.39.39.9.59 1.41.59.51 0 1.02-.2 1.41-.59l7.78-7.78 2.81-2.81c.8-.78.8-2.07 0-2.86zM5.41 20L4 18.59l7.72-7.72 1.47 1.35L5.41 20z\"/>\n",
              "  </svg>\n",
              "      </button>\n",
              "      \n",
              "  <style>\n",
              "    .colab-df-container {\n",
              "      display:flex;\n",
              "      flex-wrap:wrap;\n",
              "      gap: 12px;\n",
              "    }\n",
              "\n",
              "    .colab-df-convert {\n",
              "      background-color: #E8F0FE;\n",
              "      border: none;\n",
              "      border-radius: 50%;\n",
              "      cursor: pointer;\n",
              "      display: none;\n",
              "      fill: #1967D2;\n",
              "      height: 32px;\n",
              "      padding: 0 0 0 0;\n",
              "      width: 32px;\n",
              "    }\n",
              "\n",
              "    .colab-df-convert:hover {\n",
              "      background-color: #E2EBFA;\n",
              "      box-shadow: 0px 1px 2px rgba(60, 64, 67, 0.3), 0px 1px 3px 1px rgba(60, 64, 67, 0.15);\n",
              "      fill: #174EA6;\n",
              "    }\n",
              "\n",
              "    [theme=dark] .colab-df-convert {\n",
              "      background-color: #3B4455;\n",
              "      fill: #D2E3FC;\n",
              "    }\n",
              "\n",
              "    [theme=dark] .colab-df-convert:hover {\n",
              "      background-color: #434B5C;\n",
              "      box-shadow: 0px 1px 3px 1px rgba(0, 0, 0, 0.15);\n",
              "      filter: drop-shadow(0px 1px 2px rgba(0, 0, 0, 0.3));\n",
              "      fill: #FFFFFF;\n",
              "    }\n",
              "  </style>\n",
              "\n",
              "      <script>\n",
              "        const buttonEl =\n",
              "          document.querySelector('#df-1d10bc50-d9f3-4118-a5b9-029c593ecc21 button.colab-df-convert');\n",
              "        buttonEl.style.display =\n",
              "          google.colab.kernel.accessAllowed ? 'block' : 'none';\n",
              "\n",
              "        async function convertToInteractive(key) {\n",
              "          const element = document.querySelector('#df-1d10bc50-d9f3-4118-a5b9-029c593ecc21');\n",
              "          const dataTable =\n",
              "            await google.colab.kernel.invokeFunction('convertToInteractive',\n",
              "                                                     [key], {});\n",
              "          if (!dataTable) return;\n",
              "\n",
              "          const docLinkHtml = 'Like what you see? Visit the ' +\n",
              "            '<a target=\"_blank\" href=https://colab.research.google.com/notebooks/data_table.ipynb>data table notebook</a>'\n",
              "            + ' to learn more about interactive tables.';\n",
              "          element.innerHTML = '';\n",
              "          dataTable['output_type'] = 'display_data';\n",
              "          await google.colab.output.renderOutput(dataTable, element);\n",
              "          const docLink = document.createElement('div');\n",
              "          docLink.innerHTML = docLinkHtml;\n",
              "          element.appendChild(docLink);\n",
              "        }\n",
              "      </script>\n",
              "    </div>\n",
              "  </div>\n",
              "  "
            ]
          },
          "metadata": {},
          "execution_count": 13
        }
      ]
    },
    {
      "cell_type": "markdown",
      "source": [
        "Creem un DataFrame on els **indexs són les Id dels usuaris**, les **columnes són els títols** i els **valors, el rating** que l'usuari ha donat a la pel·lícula."
      ],
      "metadata": {
        "id": "MCl4QG5SADJ-"
      }
    },
    {
      "cell_type": "code",
      "source": [
        "users_title=ratings.pivot_table(values='rating',index='userId',columns='title')\n",
        "print(users_title.shape)\n",
        "users_title.head()"
      ],
      "metadata": {
        "colab": {
          "base_uri": "https://localhost:8080/",
          "height": 469
        },
        "id": "VhSVQGVD_grE",
        "outputId": "18d9914f-f1d8-4dc9-f0e7-691dfa6c3e7d"
      },
      "execution_count": 16,
      "outputs": [
        {
          "output_type": "stream",
          "name": "stdout",
          "text": [
            "(610, 9719)\n"
          ]
        },
        {
          "output_type": "execute_result",
          "data": {
            "text/plain": [
              "title   '71 (2014)  'Hellboy': The Seeds of Creation (2004)  \\\n",
              "userId                                                        \n",
              "1              NaN                                      NaN   \n",
              "2              NaN                                      NaN   \n",
              "3              NaN                                      NaN   \n",
              "4              NaN                                      NaN   \n",
              "5              NaN                                      NaN   \n",
              "\n",
              "title   'Round Midnight (1986)  'Salem's Lot (2004)  \\\n",
              "userId                                                \n",
              "1                          NaN                  NaN   \n",
              "2                          NaN                  NaN   \n",
              "3                          NaN                  NaN   \n",
              "4                          NaN                  NaN   \n",
              "5                          NaN                  NaN   \n",
              "\n",
              "title   'Til There Was You (1997)  'Tis the Season for Love (2015)  \\\n",
              "userId                                                               \n",
              "1                             NaN                              NaN   \n",
              "2                             NaN                              NaN   \n",
              "3                             NaN                              NaN   \n",
              "4                             NaN                              NaN   \n",
              "5                             NaN                              NaN   \n",
              "\n",
              "title   'burbs, The (1989)  'night Mother (1986)  (500) Days of Summer (2009)  \\\n",
              "userId                                                                          \n",
              "1                      NaN                   NaN                          NaN   \n",
              "2                      NaN                   NaN                          NaN   \n",
              "3                      NaN                   NaN                          NaN   \n",
              "4                      NaN                   NaN                          NaN   \n",
              "5                      NaN                   NaN                          NaN   \n",
              "\n",
              "title   *batteries not included (1987)  ...  Zulu (2013)  [REC] (2007)  \\\n",
              "userId                                  ...                              \n",
              "1                                  NaN  ...          NaN           NaN   \n",
              "2                                  NaN  ...          NaN           NaN   \n",
              "3                                  NaN  ...          NaN           NaN   \n",
              "4                                  NaN  ...          NaN           NaN   \n",
              "5                                  NaN  ...          NaN           NaN   \n",
              "\n",
              "title   [REC]² (2009)  [REC]³ 3 Génesis (2012)  \\\n",
              "userId                                           \n",
              "1                 NaN                      NaN   \n",
              "2                 NaN                      NaN   \n",
              "3                 NaN                      NaN   \n",
              "4                 NaN                      NaN   \n",
              "5                 NaN                      NaN   \n",
              "\n",
              "title   anohana: The Flower We Saw That Day - The Movie (2013)  \\\n",
              "userId                                                           \n",
              "1                                                     NaN        \n",
              "2                                                     NaN        \n",
              "3                                                     NaN        \n",
              "4                                                     NaN        \n",
              "5                                                     NaN        \n",
              "\n",
              "title   eXistenZ (1999)  xXx (2002)  xXx: State of the Union (2005)  \\\n",
              "userId                                                                \n",
              "1                   NaN         NaN                             NaN   \n",
              "2                   NaN         NaN                             NaN   \n",
              "3                   NaN         NaN                             NaN   \n",
              "4                   NaN         NaN                             NaN   \n",
              "5                   NaN         NaN                             NaN   \n",
              "\n",
              "title   ¡Three Amigos! (1986)  À nous la liberté (Freedom for Us) (1931)  \n",
              "userId                                                                    \n",
              "1                         4.0                                        NaN  \n",
              "2                         NaN                                        NaN  \n",
              "3                         NaN                                        NaN  \n",
              "4                         NaN                                        NaN  \n",
              "5                         NaN                                        NaN  \n",
              "\n",
              "[5 rows x 9719 columns]"
            ],
            "text/html": [
              "\n",
              "  <div id=\"df-3ce6631e-e49a-45b1-9011-260cc13e80d0\">\n",
              "    <div class=\"colab-df-container\">\n",
              "      <div>\n",
              "<style scoped>\n",
              "    .dataframe tbody tr th:only-of-type {\n",
              "        vertical-align: middle;\n",
              "    }\n",
              "\n",
              "    .dataframe tbody tr th {\n",
              "        vertical-align: top;\n",
              "    }\n",
              "\n",
              "    .dataframe thead th {\n",
              "        text-align: right;\n",
              "    }\n",
              "</style>\n",
              "<table border=\"1\" class=\"dataframe\">\n",
              "  <thead>\n",
              "    <tr style=\"text-align: right;\">\n",
              "      <th>title</th>\n",
              "      <th>'71 (2014)</th>\n",
              "      <th>'Hellboy': The Seeds of Creation (2004)</th>\n",
              "      <th>'Round Midnight (1986)</th>\n",
              "      <th>'Salem's Lot (2004)</th>\n",
              "      <th>'Til There Was You (1997)</th>\n",
              "      <th>'Tis the Season for Love (2015)</th>\n",
              "      <th>'burbs, The (1989)</th>\n",
              "      <th>'night Mother (1986)</th>\n",
              "      <th>(500) Days of Summer (2009)</th>\n",
              "      <th>*batteries not included (1987)</th>\n",
              "      <th>...</th>\n",
              "      <th>Zulu (2013)</th>\n",
              "      <th>[REC] (2007)</th>\n",
              "      <th>[REC]² (2009)</th>\n",
              "      <th>[REC]³ 3 Génesis (2012)</th>\n",
              "      <th>anohana: The Flower We Saw That Day - The Movie (2013)</th>\n",
              "      <th>eXistenZ (1999)</th>\n",
              "      <th>xXx (2002)</th>\n",
              "      <th>xXx: State of the Union (2005)</th>\n",
              "      <th>¡Three Amigos! (1986)</th>\n",
              "      <th>À nous la liberté (Freedom for Us) (1931)</th>\n",
              "    </tr>\n",
              "    <tr>\n",
              "      <th>userId</th>\n",
              "      <th></th>\n",
              "      <th></th>\n",
              "      <th></th>\n",
              "      <th></th>\n",
              "      <th></th>\n",
              "      <th></th>\n",
              "      <th></th>\n",
              "      <th></th>\n",
              "      <th></th>\n",
              "      <th></th>\n",
              "      <th></th>\n",
              "      <th></th>\n",
              "      <th></th>\n",
              "      <th></th>\n",
              "      <th></th>\n",
              "      <th></th>\n",
              "      <th></th>\n",
              "      <th></th>\n",
              "      <th></th>\n",
              "      <th></th>\n",
              "      <th></th>\n",
              "    </tr>\n",
              "  </thead>\n",
              "  <tbody>\n",
              "    <tr>\n",
              "      <th>1</th>\n",
              "      <td>NaN</td>\n",
              "      <td>NaN</td>\n",
              "      <td>NaN</td>\n",
              "      <td>NaN</td>\n",
              "      <td>NaN</td>\n",
              "      <td>NaN</td>\n",
              "      <td>NaN</td>\n",
              "      <td>NaN</td>\n",
              "      <td>NaN</td>\n",
              "      <td>NaN</td>\n",
              "      <td>...</td>\n",
              "      <td>NaN</td>\n",
              "      <td>NaN</td>\n",
              "      <td>NaN</td>\n",
              "      <td>NaN</td>\n",
              "      <td>NaN</td>\n",
              "      <td>NaN</td>\n",
              "      <td>NaN</td>\n",
              "      <td>NaN</td>\n",
              "      <td>4.0</td>\n",
              "      <td>NaN</td>\n",
              "    </tr>\n",
              "    <tr>\n",
              "      <th>2</th>\n",
              "      <td>NaN</td>\n",
              "      <td>NaN</td>\n",
              "      <td>NaN</td>\n",
              "      <td>NaN</td>\n",
              "      <td>NaN</td>\n",
              "      <td>NaN</td>\n",
              "      <td>NaN</td>\n",
              "      <td>NaN</td>\n",
              "      <td>NaN</td>\n",
              "      <td>NaN</td>\n",
              "      <td>...</td>\n",
              "      <td>NaN</td>\n",
              "      <td>NaN</td>\n",
              "      <td>NaN</td>\n",
              "      <td>NaN</td>\n",
              "      <td>NaN</td>\n",
              "      <td>NaN</td>\n",
              "      <td>NaN</td>\n",
              "      <td>NaN</td>\n",
              "      <td>NaN</td>\n",
              "      <td>NaN</td>\n",
              "    </tr>\n",
              "    <tr>\n",
              "      <th>3</th>\n",
              "      <td>NaN</td>\n",
              "      <td>NaN</td>\n",
              "      <td>NaN</td>\n",
              "      <td>NaN</td>\n",
              "      <td>NaN</td>\n",
              "      <td>NaN</td>\n",
              "      <td>NaN</td>\n",
              "      <td>NaN</td>\n",
              "      <td>NaN</td>\n",
              "      <td>NaN</td>\n",
              "      <td>...</td>\n",
              "      <td>NaN</td>\n",
              "      <td>NaN</td>\n",
              "      <td>NaN</td>\n",
              "      <td>NaN</td>\n",
              "      <td>NaN</td>\n",
              "      <td>NaN</td>\n",
              "      <td>NaN</td>\n",
              "      <td>NaN</td>\n",
              "      <td>NaN</td>\n",
              "      <td>NaN</td>\n",
              "    </tr>\n",
              "    <tr>\n",
              "      <th>4</th>\n",
              "      <td>NaN</td>\n",
              "      <td>NaN</td>\n",
              "      <td>NaN</td>\n",
              "      <td>NaN</td>\n",
              "      <td>NaN</td>\n",
              "      <td>NaN</td>\n",
              "      <td>NaN</td>\n",
              "      <td>NaN</td>\n",
              "      <td>NaN</td>\n",
              "      <td>NaN</td>\n",
              "      <td>...</td>\n",
              "      <td>NaN</td>\n",
              "      <td>NaN</td>\n",
              "      <td>NaN</td>\n",
              "      <td>NaN</td>\n",
              "      <td>NaN</td>\n",
              "      <td>NaN</td>\n",
              "      <td>NaN</td>\n",
              "      <td>NaN</td>\n",
              "      <td>NaN</td>\n",
              "      <td>NaN</td>\n",
              "    </tr>\n",
              "    <tr>\n",
              "      <th>5</th>\n",
              "      <td>NaN</td>\n",
              "      <td>NaN</td>\n",
              "      <td>NaN</td>\n",
              "      <td>NaN</td>\n",
              "      <td>NaN</td>\n",
              "      <td>NaN</td>\n",
              "      <td>NaN</td>\n",
              "      <td>NaN</td>\n",
              "      <td>NaN</td>\n",
              "      <td>NaN</td>\n",
              "      <td>...</td>\n",
              "      <td>NaN</td>\n",
              "      <td>NaN</td>\n",
              "      <td>NaN</td>\n",
              "      <td>NaN</td>\n",
              "      <td>NaN</td>\n",
              "      <td>NaN</td>\n",
              "      <td>NaN</td>\n",
              "      <td>NaN</td>\n",
              "      <td>NaN</td>\n",
              "      <td>NaN</td>\n",
              "    </tr>\n",
              "  </tbody>\n",
              "</table>\n",
              "<p>5 rows × 9719 columns</p>\n",
              "</div>\n",
              "      <button class=\"colab-df-convert\" onclick=\"convertToInteractive('df-3ce6631e-e49a-45b1-9011-260cc13e80d0')\"\n",
              "              title=\"Convert this dataframe to an interactive table.\"\n",
              "              style=\"display:none;\">\n",
              "        \n",
              "  <svg xmlns=\"http://www.w3.org/2000/svg\" height=\"24px\"viewBox=\"0 0 24 24\"\n",
              "       width=\"24px\">\n",
              "    <path d=\"M0 0h24v24H0V0z\" fill=\"none\"/>\n",
              "    <path d=\"M18.56 5.44l.94 2.06.94-2.06 2.06-.94-2.06-.94-.94-2.06-.94 2.06-2.06.94zm-11 1L8.5 8.5l.94-2.06 2.06-.94-2.06-.94L8.5 2.5l-.94 2.06-2.06.94zm10 10l.94 2.06.94-2.06 2.06-.94-2.06-.94-.94-2.06-.94 2.06-2.06.94z\"/><path d=\"M17.41 7.96l-1.37-1.37c-.4-.4-.92-.59-1.43-.59-.52 0-1.04.2-1.43.59L10.3 9.45l-7.72 7.72c-.78.78-.78 2.05 0 2.83L4 21.41c.39.39.9.59 1.41.59.51 0 1.02-.2 1.41-.59l7.78-7.78 2.81-2.81c.8-.78.8-2.07 0-2.86zM5.41 20L4 18.59l7.72-7.72 1.47 1.35L5.41 20z\"/>\n",
              "  </svg>\n",
              "      </button>\n",
              "      \n",
              "  <style>\n",
              "    .colab-df-container {\n",
              "      display:flex;\n",
              "      flex-wrap:wrap;\n",
              "      gap: 12px;\n",
              "    }\n",
              "\n",
              "    .colab-df-convert {\n",
              "      background-color: #E8F0FE;\n",
              "      border: none;\n",
              "      border-radius: 50%;\n",
              "      cursor: pointer;\n",
              "      display: none;\n",
              "      fill: #1967D2;\n",
              "      height: 32px;\n",
              "      padding: 0 0 0 0;\n",
              "      width: 32px;\n",
              "    }\n",
              "\n",
              "    .colab-df-convert:hover {\n",
              "      background-color: #E2EBFA;\n",
              "      box-shadow: 0px 1px 2px rgba(60, 64, 67, 0.3), 0px 1px 3px 1px rgba(60, 64, 67, 0.15);\n",
              "      fill: #174EA6;\n",
              "    }\n",
              "\n",
              "    [theme=dark] .colab-df-convert {\n",
              "      background-color: #3B4455;\n",
              "      fill: #D2E3FC;\n",
              "    }\n",
              "\n",
              "    [theme=dark] .colab-df-convert:hover {\n",
              "      background-color: #434B5C;\n",
              "      box-shadow: 0px 1px 3px 1px rgba(0, 0, 0, 0.15);\n",
              "      filter: drop-shadow(0px 1px 2px rgba(0, 0, 0, 0.3));\n",
              "      fill: #FFFFFF;\n",
              "    }\n",
              "  </style>\n",
              "\n",
              "      <script>\n",
              "        const buttonEl =\n",
              "          document.querySelector('#df-3ce6631e-e49a-45b1-9011-260cc13e80d0 button.colab-df-convert');\n",
              "        buttonEl.style.display =\n",
              "          google.colab.kernel.accessAllowed ? 'block' : 'none';\n",
              "\n",
              "        async function convertToInteractive(key) {\n",
              "          const element = document.querySelector('#df-3ce6631e-e49a-45b1-9011-260cc13e80d0');\n",
              "          const dataTable =\n",
              "            await google.colab.kernel.invokeFunction('convertToInteractive',\n",
              "                                                     [key], {});\n",
              "          if (!dataTable) return;\n",
              "\n",
              "          const docLinkHtml = 'Like what you see? Visit the ' +\n",
              "            '<a target=\"_blank\" href=https://colab.research.google.com/notebooks/data_table.ipynb>data table notebook</a>'\n",
              "            + ' to learn more about interactive tables.';\n",
              "          element.innerHTML = '';\n",
              "          dataTable['output_type'] = 'display_data';\n",
              "          await google.colab.output.renderOutput(dataTable, element);\n",
              "          const docLink = document.createElement('div');\n",
              "          docLink.innerHTML = docLinkHtml;\n",
              "          element.appendChild(docLink);\n",
              "        }\n",
              "      </script>\n",
              "    </div>\n",
              "  </div>\n",
              "  "
            ]
          },
          "metadata": {},
          "execution_count": 16
        }
      ]
    },
    {
      "cell_type": "markdown",
      "source": [
        "Donat un usuari (agafem el primer a mode d'exemple), iterem entre totes les pel·lícules i guardem les que ha puntuat per sobre del 2.5 (equivalent a 5 sobre 10) en una llista de pel·lícules que li han agradat, també guardem les puntuades per sota del 2.5 en un altre llista de pel·lícules que no li han agradat."
      ],
      "metadata": {
        "id": "Pnyu7h1KBTb1"
      }
    },
    {
      "cell_type": "code",
      "source": [
        "Id=1\n",
        "like_films=[]\n",
        "dislike_films=[]\n",
        "for col in users_title.loc[Id][users_title.loc[Id].notnull()].index:\n",
        "  if users_title.loc[Id][col]>=2.5:\n",
        "    like_films.append(col)\n",
        "  else:\n",
        "    dislike_films.append(col)\n",
        "\n",
        "print('Pel·lícules que li han agradat: ',len(like_films))\n",
        "print('Pel·lícules que no li han agradat: ',len(dislike_films))"
      ],
      "metadata": {
        "colab": {
          "base_uri": "https://localhost:8080/"
        },
        "id": "cVy_hEegB0xB",
        "outputId": "20c62afa-0f49-4b93-97d4-ed07ac746ccf"
      },
      "execution_count": 52,
      "outputs": [
        {
          "output_type": "stream",
          "name": "stdout",
          "text": [
            "Pel·lícules que li han agradat:  226\n",
            "Pel·lícules que no li han agradat:  6\n"
          ]
        }
      ]
    },
    {
      "cell_type": "markdown",
      "source": [
        "Com que no totes les pel·lícules puntuades per l'usuari tenen tags, filtrem les llistes per a que només hi apareixin pel·lícules amb tags:"
      ],
      "metadata": {
        "id": "xBm82QB2LGJx"
      }
    },
    {
      "cell_type": "code",
      "source": [
        "from itertools import compress\n",
        "\n",
        "mask=[x in bag['title'] for x in dislike_films]\n",
        "dislike_films=list(compress(dislike_films, mask))\n",
        "print('Pel·lícules amb tags que no li han agradat: ',len(dislike_films))\n",
        "\n",
        "mask=[x in bag['title'] for x in like_films]\n",
        "like_films=list(compress(like_films, mask))\n",
        "print('Pel·lícules amb tags que li han agradat: ',len(like_films))"
      ],
      "metadata": {
        "colab": {
          "base_uri": "https://localhost:8080/"
        },
        "id": "mW4qO_wyJqYC",
        "outputId": "64c32afb-c022-4d10-bbef-80a40d9e9f71"
      },
      "execution_count": 37,
      "outputs": [
        {
          "output_type": "stream",
          "name": "stdout",
          "text": [
            "Pel·lícules amb tags que no li han agradat:  2\n",
            "Pel·lícules amb tags que li han agradat:  112\n"
          ]
        }
      ]
    },
    {
      "cell_type": "markdown",
      "source": [
        "Calculem la bag of words de les pel·lícules que no li han agradat:"
      ],
      "metadata": {
        "id": "21M1YvOcMoUr"
      }
    },
    {
      "cell_type": "code",
      "source": [
        "bag_dislike=''\n",
        "\n",
        "for i in dislike_films:\n",
        "  bag_dislike+=bag.loc[i]['Bag_of_words']+' '\n",
        "\n",
        "print(bag_dislike)"
      ],
      "metadata": {
        "colab": {
          "base_uri": "https://localhost:8080/"
        },
        "id": "vHV8y_smMXoX",
        "outputId": "daf4deec-1811-441f-bef9-40892ad4362e"
      },
      "execution_count": 38,
      "outputs": [
        {
          "output_type": "stream",
          "name": "stdout",
          "text": [
            "alfredhitchcock alfredhitchcock normanbates blackandwhite imdbtop250 psychology remade suspenseful tense europe judelaw basedonabook creepy disturbing murder murder obsession psychology secrets serialkiller suspense \n"
          ]
        }
      ]
    },
    {
      "cell_type": "markdown",
      "source": [
        "D'igual manera, calculem la bag of words de les pel·lícules que li han agradat:"
      ],
      "metadata": {
        "id": "h9cVG0PVM5ep"
      }
    },
    {
      "cell_type": "code",
      "source": [
        "bag_like=''\n",
        "\n",
        "for i in like_films:\n",
        "  bag_like+=bag.loc[i]['Bag_of_words']+' '\n",
        "\n",
        "print(bag_like)"
      ],
      "metadata": {
        "colab": {
          "base_uri": "https://localhost:8080/"
        },
        "id": "0YuA9wtkM_fC",
        "outputId": "9f38d21d-f9c8-4af9-a5a2-099f62228263"
      },
      "execution_count": 39,
      "outputs": [
        {
          "output_type": "stream",
          "name": "stdout",
          "text": [
            "swashbuckler disney aliens edwardnorton emotional politics racism thought-provoking vietnam timetravel superhero superhero children coenbrothers cultclassic highlyquotable jeffbridges johngoodman juliannemoore nudity(fullfrontal) philipseymourhoffman stevebuscemi blackcomedy bowling classic coenbrothers comedy crime cultfilm darkcomedy deadpan drugs funny greatdialogue greatsoundtrack imdbtop250 kidnapping marijuana off-beatcomedy quirky ransom rug sarcasm satirical violence adamsandler school stoplookingatmeswan darkhumor easygoing silly saturdaynightlive crime off-beatcomedy quirky medieval oscar(bestcinematography) scotland beautifulscenery epic historical inspirational melgibson revenge swordfight rosebud tomclancy cynical generationx hilarious independentfilm quirky witty brainwashing australia americanindians nativeamericans comicbook kevinsmith irreverent jayandsilentbob religion satire disney aliens moviebusiness freaks england kingarthur transplants disney coenbrothers kidnapping stevebuscemi basedonatruestory darkcomedy court military bradpitt chuckpalahniuk davidfincher edwardnorton nudity(topless) palahnuik terrorism action atmospheric basedonabook challenging classic clever complicated consumerism crime dark darkcomedy darkcomedy darkcomedy disturbing doublelife fighting greatacting helenabonhamcarter imaginaryfriend imdbtop250 mentalillness mind-blowing mindfuck narrated philosophical philosophy postmodern powerfulending psychological psychologicalthriller psychology psychology quirky satirical schizophrenia socialcommentary societalcriticism stylized surreal thought-provoking thought-provoking twist twistending twistending violence violence violent vietnam bittersweet bubbagumpshrimp emotional heartwarming lieutenantdan shrimp stupidisasstupiddoes touching innetflixqueue basedonatvshow vietnam anti-war mystery mystery mindfuck plottwist psychological suspense twistending twistending ghosts ghosts epic romans rome russellcrowe ancientrome history imdbtop250 revenge mafia stephenking hitmen reunion moldy old shakespeare disney peterpan aliens holygrail archaeology archaeology animation robots politics president disney dinosaur police hawkeye jamesfennimorecooper tolkein classic alternateuniverse martialarts philosophy postapocalyptic sci-fi aliens basedonatvshow england kingarthur montypython britishcomedy bible parody religion politics crossdressing divorce menindrag police vampires stapler workplace disney disney twistending vietnam arnoldschwarzenegger jesseventura aliens aliens dialogue guns macho sci-fi sci-fi scificult scificult inigomontoya six-fingeredman 1990s awesome blackcomedy harveykeitel highlyquotable johntravolta mafia palmed'or quentintarantino quentintarantino quotable rogeravary samuell.jackson stevebuscemi tarantino tarantino umathurman achronological action actionpacked aggressive amazing amazingdialogues anthology assassin atmospheric badass badlanguage bad-ass bible biblicalreferences bigboyswithguns bignameactors blackhumor blackhumour blood bloodsplatters bloody brucewillis brutality casualviolence characterdevelopment characters classic classicmovie coke comedy conversation cool coolstyle crime crimescenescrubbing cult cultclassic cultfilm cultfilm dance dancing dark darkcomedy darkhumor dialogue different diner disjointedtimeline disturbing drama drugoverdose drugs drugs drugs&music ensemblecast entertaining entirelydialogue episodic exciting fastpaced fast-paced filmnoir film-noir foullanguage fun funny gangster gangsters genius goldenwatch gooddialogue gooddialogue goodmusic gore greatacting greatdialogue greatsoundtrack greatsoundtrack gritty guns heroin hitmen hitmen hitman homosexuality humour iconic imdbtop250 innovative intellectual intelligent intense interesting intertwiningstorylines interwovenstorylines ironic irony killer-as-protagonist losangeles masterpiece meaninglessviolence milkshake mobster mobsters monologue motherfucker multiplestories multiplestorylines neo-noir noir non-linear non-linear non-lineartimeline nonlinear nonlinearnarrative nonlinearstoryline nonlineartimeline notablesoundtrack offensive organisedcrime organizedcrime original originalplot outoforder parody philosophical popculturereferences psychological pulp quirky r:disturbingviolentcontentincludingrape r:disturbingviolentimages r:graphicsexuality r:someviolence r:strongbloodyviolence r:stronglanguage r:sustainedstrongstylizedviolence r:violence random rape retro royalwithcheese sarcasm satire sexy smartwriting sophisticated soundtrack splatter storytelling stylish stylized suspense thought-provoking thriller travolta twistending unique unpredictable unusual veryfunny violence violent witty stevenspielberg adventure archaeology archaeology arkofthecovenant indianajones indianajones treasurehunt quentintarantino quentintarantino tarantino ensemblecast heist humorous neo-noir nonlinear religion stylized violence alcatraz michaelbay terrorism boxing sports alternateendings worldwarii holocaust basedonatruestory biography disturbing holocaust moving thought-provoking slasher spoof mice mystery serialkiller twistending horror stanleykubrick stephenking atmospheric disturbing jacknicholson masterpiece psychological suspense hanniballector disturbing drama gothic psychology suspense nuns spying beatpoetry treyparker adulthumor controversial crudehumor freespeech parody satire southpark bugsbunny prequel theforce epic epic nerd robotsandandroids starwars starwars action classic classic classicsci-fi classicsci-fi classicsci-fi darthvader engrossingadventure greatsoundtrack lukeskywalker oldiebutgoodie sci-fi sci-fi sci-fi space spaceaction spaceaction spaceadventure spaceepic spaceopera georgelucas harrisonford iamyourfather classic music originalplot sci-fi sequel space spaceopera darthvader lukeskywalker spaceopera timetravel superhero superhero disney kingarthur action sci-fi artificialintelligence robots robots specialeffects tense timetravel music knights fun pixar pixar disaster heist mindfuck suspense thriller tricky twistending darkcomedy darkhumor 1980s liveaction/animation dorothy toto action comicbook hughjackman marvel superhero superhero spoof \n"
          ]
        }
      ]
    },
    {
      "cell_type": "markdown",
      "source": [
        "Creem una llista amb el total de pel·lícules puntuades amb tags:"
      ],
      "metadata": {
        "id": "PWyE9Ge3QKBH"
      }
    },
    {
      "cell_type": "code",
      "source": [
        "rated_films=like_films+dislike_films\n",
        "print(len(rated_films))"
      ],
      "metadata": {
        "colab": {
          "base_uri": "https://localhost:8080/"
        },
        "id": "OH8pUIubNU_J",
        "outputId": "eaed0437-bcc0-46d8-a913-58cdc0c28688"
      },
      "execution_count": 40,
      "outputs": [
        {
          "output_type": "stream",
          "name": "stdout",
          "text": [
            "114\n"
          ]
        }
      ]
    },
    {
      "cell_type": "markdown",
      "source": [
        "Fem un subset del DataFrame **bag** amb les pel·lícules que **no ha puntuat** l'usuari:"
      ],
      "metadata": {
        "id": "4ryB1xYgNoga"
      }
    },
    {
      "cell_type": "code",
      "source": [
        "non_rated_movies=bag.drop(rated_films,axis=0)\n",
        "len(non_rated_movies)"
      ],
      "metadata": {
        "colab": {
          "base_uri": "https://localhost:8080/"
        },
        "id": "ZMHxGobRNoEJ",
        "outputId": "001c1b32-a6ed-465f-f358-576937f5f59f"
      },
      "execution_count": 41,
      "outputs": [
        {
          "output_type": "execute_result",
          "data": {
            "text/plain": [
              "1458"
            ]
          },
          "metadata": {},
          "execution_count": 41
        }
      ]
    },
    {
      "cell_type": "markdown",
      "source": [
        "Calculem la probabilitat **P(tag|SPAM)** de tots els tags de la **bag_dislike**, utilitzem un factor suavitzador de Laplace **k=1** i els afegim a un diccionari en format {'tag':prob}"
      ],
      "metadata": {
        "id": "lPkChu4Cz3cX"
      }
    },
    {
      "cell_type": "code",
      "source": [
        "dict_spamicity = {}\n",
        "total_spam = len(bag_dislike.split())\n",
        "k=1\n",
        "for t in set(bag_dislike.split()):\n",
        "#  print(f\"Number of tags {t} in spam films: {bag_dislike.split().count(t)}\")\n",
        "  spamicity = (bag_dislike.split().count(t)+k)/(total_spam+k*len(set(bag_dislike.split()+bag_like.split()))) #p(tag|SPAM)\n",
        "#  print(f\"Spamicity of the word '{t}': {spamicity} \\n\")\n",
        "  dict_spamicity[t] = spamicity\n",
        "\n",
        "print(dict_spamicity)"
      ],
      "metadata": {
        "colab": {
          "base_uri": "https://localhost:8080/"
        },
        "id": "FO5TEmrpZrVH",
        "outputId": "43e74241-6474-4921-c217-03f98408c2cc"
      },
      "execution_count": 42,
      "outputs": [
        {
          "output_type": "stream",
          "name": "stdout",
          "text": [
            "{'murder': 0.007177033492822967, 'normanbates': 0.004784688995215311, 'europe': 0.004784688995215311, 'serialkiller': 0.004784688995215311, 'creepy': 0.004784688995215311, 'psychology': 0.007177033492822967, 'basedonabook': 0.004784688995215311, 'secrets': 0.004784688995215311, 'suspense': 0.004784688995215311, 'remade': 0.004784688995215311, 'imdbtop250': 0.004784688995215311, 'alfredhitchcock': 0.007177033492822967, 'disturbing': 0.004784688995215311, 'obsession': 0.004784688995215311, 'blackandwhite': 0.004784688995215311, 'tense': 0.004784688995215311, 'judelaw': 0.004784688995215311, 'suspenseful': 0.004784688995215311}\n"
          ]
        }
      ]
    },
    {
      "cell_type": "markdown",
      "source": [
        "Calculem la probabilitat **P(tag|HAM)** de tots els tags de la **bag_like**, utilitzem un factor suavitzador de Laplace **k=1** i els afegim a un diccionari en format {'tag':prob}"
      ],
      "metadata": {
        "id": "T08nlIPxSqOR"
      }
    },
    {
      "cell_type": "code",
      "source": [
        "dict_hamicity = {}\n",
        "total_ham = len(bag_like.split())\n",
        "for t in set(bag_like.split()):         \n",
        "#  print(f\"Number of tags {t} in ham films: {bag_like.split().count(t)}\") #contador del tag\n",
        "  Hamicity = (bag_like.split().count(t)+k)/(total_ham+k*len(set(bag_dislike.split()+bag_like.split()))) #p(tag|HAM)\n",
        "#  print(f\"Hamicity of the word '{t}': {Hamicity} \")\n",
        "  dict_hamicity[t] = Hamicity\n",
        "\n",
        "print(dict_hamicity)"
      ],
      "metadata": {
        "colab": {
          "base_uri": "https://localhost:8080/"
        },
        "id": "miZEIzCpEOhH",
        "outputId": "05263244-3369-4d52-c729-9e4b4b0eaaff"
      },
      "execution_count": 43,
      "outputs": [
        {
          "output_type": "stream",
          "name": "stdout",
          "text": [
            "{'adamsandler': 0.0020639834881320948, 'transplants': 0.0020639834881320948, 'rome': 0.0020639834881320948, 'police': 0.0030959752321981426, 'starwars': 0.0030959752321981426, 'shakespeare': 0.0020639834881320948, 'consumerism': 0.0020639834881320948, 'dialogue': 0.0030959752321981426, 'brainwashing': 0.0020639834881320948, 'nudity(fullfrontal)': 0.0020639834881320948, 'veryfunny': 0.0020639834881320948, 'pulp': 0.0020639834881320948, 'beautifulscenery': 0.0020639834881320948, 'dinosaur': 0.0020639834881320948, 'complicated': 0.0020639834881320948, 'tarantino': 0.0041279669762641896, 'vietnam': 0.005159958720330237, 'r:strongbloodyviolence': 0.0020639834881320948, 'clever': 0.0020639834881320948, 'moldy': 0.0020639834881320948, 'coolstyle': 0.0020639834881320948, 'southpark': 0.0020639834881320948, 'entertaining': 0.0020639834881320948, 'interwovenstorylines': 0.0020639834881320948, 'stevenspielberg': 0.0020639834881320948, 'court': 0.0020639834881320948, 'classic': 0.008255933952528379, 'animation': 0.0020639834881320948, 'religion': 0.0041279669762641896, 'heist': 0.0030959752321981426, 'rape': 0.0020639834881320948, 'cynical': 0.0020639834881320948, 'imdbtop250': 0.005159958720330237, 'jacknicholson': 0.0020639834881320948, 'edwardnorton': 0.0030959752321981426, 'drugs': 0.0041279669762641896, 'fast-paced': 0.0020639834881320948, 'badlanguage': 0.0020639834881320948, 'offensive': 0.0020639834881320948, 'nonlinearstoryline': 0.0020639834881320948, 'bad-ass': 0.0020639834881320948, 'iconic': 0.0020639834881320948, 'multiplestorylines': 0.0020639834881320948, 'helenabonhamcarter': 0.0020639834881320948, 'greatdialogue': 0.0030959752321981426, 'saturdaynightlive': 0.0020639834881320948, 'crimescenescrubbing': 0.0020639834881320948, 'spaceaction': 0.0030959752321981426, 'menindrag': 0.0020639834881320948, 'reunion': 0.0020639834881320948, 'indianajones': 0.0030959752321981426, 'fighting': 0.0020639834881320948, 'historical': 0.0020639834881320948, 'space': 0.0030959752321981426, 'action': 0.006191950464396285, 'killer-as-protagonist': 0.0020639834881320948, 'assassin': 0.0020639834881320948, 'disturbing': 0.006191950464396285, 'quentintarantino': 0.005159958720330237, 'divorce': 0.0020639834881320948, 'characterdevelopment': 0.0020639834881320948, 'powerfulending': 0.0020639834881320948, 'societalcriticism': 0.0020639834881320948, 'masterpiece': 0.0030959752321981426, 'mystery': 0.0041279669762641896, 'interesting': 0.0020639834881320948, 'spaceopera': 0.0041279669762641896, 'violence': 0.006191950464396285, 'non-linear': 0.0030959752321981426, 'smartwriting': 0.0020639834881320948, 'disney': 0.009287925696594427, 'philipseymourhoffman': 0.0020639834881320948, 'bloody': 0.0020639834881320948, 'freaks': 0.0020639834881320948, 'romans': 0.0020639834881320948, 'non-lineartimeline': 0.0020639834881320948, 'gore': 0.0020639834881320948, 'losangeles': 0.0020639834881320948, 'terrorism': 0.0030959752321981426, 'stevebuscemi': 0.0041279669762641896, 'plottwist': 0.0020639834881320948, 'treyparker': 0.0020639834881320948, 'bigboyswithguns': 0.0020639834881320948, 'surreal': 0.0020639834881320948, 'satirical': 0.0030959752321981426, 'macho': 0.0020639834881320948, 'goldenwatch': 0.0020639834881320948, 'twist': 0.0020639834881320948, 'children': 0.0020639834881320948, 'boxing': 0.0020639834881320948, 'homosexuality': 0.0020639834881320948, 'bowling': 0.0020639834881320948, 'intense': 0.0020639834881320948, 'prequel': 0.0020639834881320948, 'robots': 0.0041279669762641896, 'bittersweet': 0.0020639834881320948, 'scotland': 0.0020639834881320948, 'anti-war': 0.0020639834881320948, 'spaceepic': 0.0020639834881320948, 'johngoodman': 0.0020639834881320948, 'jesseventura': 0.0020639834881320948, 'school': 0.0020639834881320948, 'basedonabook': 0.0020639834881320948, 'cultclassic': 0.0030959752321981426, 'bubbagumpshrimp': 0.0020639834881320948, 'sarcasm': 0.0030959752321981426, 'quotable': 0.0020639834881320948, 'pixar': 0.0030959752321981426, 'greatsoundtrack': 0.005159958720330237, 'genius': 0.0020639834881320948, 'sophisticated': 0.0020639834881320948, 'montypython': 0.0020639834881320948, 'rosebud': 0.0020639834881320948, 'spaceadventure': 0.0020639834881320948, 'popculturereferences': 0.0020639834881320948, 'swordfight': 0.0020639834881320948, 'samuell.jackson': 0.0020639834881320948, 'artificialintelligence': 0.0020639834881320948, 'kidnapping': 0.0030959752321981426, 'jayandsilentbob': 0.0020639834881320948, 'freespeech': 0.0020639834881320948, 'bradpitt': 0.0020639834881320948, 'oscar(bestcinematography)': 0.0020639834881320948, 'highlyquotable': 0.0030959752321981426, 'notablesoundtrack': 0.0020639834881320948, 'innetflixqueue': 0.0020639834881320948, 'bignameactors': 0.0020639834881320948, 'sci-fi': 0.009287925696594427, 'shrimp': 0.0020639834881320948, 'noir': 0.0020639834881320948, 'film-noir': 0.0020639834881320948, 'martialarts': 0.0020639834881320948, 'worldwarii': 0.0020639834881320948, 'iamyourfather': 0.0020639834881320948, 'bible': 0.0030959752321981426, 'timetravel': 0.0041279669762641896, 'umathurman': 0.0020639834881320948, 'australia': 0.0020639834881320948, 'six-fingeredman': 0.0020639834881320948, 'episodic': 0.0020639834881320948, 'challenging': 0.0020639834881320948, 'adulthumor': 0.0020639834881320948, 'biography': 0.0020639834881320948, 'satire': 0.0041279669762641896, 'gooddialogue': 0.0030959752321981426, 'stapler': 0.0020639834881320948, 'darthvader': 0.0030959752321981426, 'r:disturbingviolentcontentincludingrape': 0.0020639834881320948, 'racism': 0.0020639834881320948, 'witty': 0.0030959752321981426, 'archaeology': 0.005159958720330237, 'philosophical': 0.0030959752321981426, 'stylized': 0.0041279669762641896, 'storytelling': 0.0020639834881320948, 'generationx': 0.0020639834881320948, 'ghosts': 0.0030959752321981426, 'inspirational': 0.0020639834881320948, 'lukeskywalker': 0.0030959752321981426, 'harveykeitel': 0.0020639834881320948, 'americanindians': 0.0020639834881320948, 'unusual': 0.0020639834881320948, 'arkofthecovenant': 0.0020639834881320948, 'foullanguage': 0.0020639834881320948, \"palmed'or\": 0.0020639834881320948, 'disjointedtimeline': 0.0020639834881320948, 'rogeravary': 0.0020639834881320948, 'arnoldschwarzenegger': 0.0020639834881320948, 'stupidisasstupiddoes': 0.0020639834881320948, 'socialcommentary': 0.0020639834881320948, 'fun': 0.0030959752321981426, 'ransom': 0.0020639834881320948, 'brucewillis': 0.0020639834881320948, 'jamesfennimorecooper': 0.0020639834881320948, 'dancing': 0.0020639834881320948, 'crossdressing': 0.0020639834881320948, 'specialeffects': 0.0020639834881320948, 'intertwiningstorylines': 0.0020639834881320948, 'stylish': 0.0020639834881320948, 'neo-noir': 0.0030959752321981426, 'bugsbunny': 0.0020639834881320948, 'alternateuniverse': 0.0020639834881320948, 'actionpacked': 0.0020639834881320948, 'suspense': 0.006191950464396285, 'melgibson': 0.0020639834881320948, 'originalplot': 0.0030959752321981426, 'r:violence': 0.0020639834881320948, 'peterpan': 0.0020639834881320948, 'conversation': 0.0020639834881320948, 'holygrail': 0.0020639834881320948, 'badass': 0.0020639834881320948, 'goodmusic': 0.0020639834881320948, 'medieval': 0.0020639834881320948, 'knights': 0.0020639834881320948, 'parody': 0.0041279669762641896, 'quirky': 0.006191950464396285, 'mafia': 0.0030959752321981426, 'amazingdialogues': 0.0020639834881320948, 'dance': 0.0020639834881320948, 'atmospheric': 0.0041279669762641896, 'violent': 0.0030959752321981426, 'aggressive': 0.0020639834881320948, 'adventure': 0.0020639834881320948, 'entirelydialogue': 0.0020639834881320948, 'r:stronglanguage': 0.0020639834881320948, 'humorous': 0.0020639834881320948, 'history': 0.0020639834881320948, 'filmnoir': 0.0020639834881320948, 'alternateendings': 0.0020639834881320948, 'hawkeye': 0.0020639834881320948, 'old': 0.0020639834881320948, 'davidfincher': 0.0020639834881320948, 'multiplestories': 0.0020639834881320948, 'outoforder': 0.0020639834881320948, 'anthology': 0.0020639834881320948, 'cult': 0.0020639834881320948, 'engrossingadventure': 0.0020639834881320948, 'psychology': 0.0041279669762641896, 'mind-blowing': 0.0020639834881320948, 'music': 0.0030959752321981426, 'heroin': 0.0020639834881320948, 'organizedcrime': 0.0020639834881320948, 'moving': 0.0020639834881320948, 'drama': 0.0030959752321981426, 'georgelucas': 0.0020639834881320948, 'intelligent': 0.0020639834881320948, 'epic': 0.005159958720330237, 'soundtrack': 0.0020639834881320948, 'scificult': 0.0030959752321981426, 'crudehumor': 0.0020639834881320948, 'oldiebutgoodie': 0.0020639834881320948, 'r:someviolence': 0.0020639834881320948, 'ensemblecast': 0.0030959752321981426, 'aliens': 0.007223942208462332, 'britishcomedy': 0.0020639834881320948, 'moviebusiness': 0.0020639834881320948, 'emotional': 0.0030959752321981426, 'schizophrenia': 0.0020639834881320948, 'fastpaced': 0.0020639834881320948, 'original': 0.0020639834881320948, 'england': 0.0030959752321981426, 'president': 0.0020639834881320948, 'biblicalreferences': 0.0020639834881320948, 'royalwithcheese': 0.0020639834881320948, 'controversial': 0.0020639834881320948, 'unique': 0.0020639834881320948, 'imaginaryfriend': 0.0020639834881320948, 'off-beatcomedy': 0.0030959752321981426, 'retro': 0.0020639834881320948, 'milkshake': 0.0020639834881320948, 'nuns': 0.0020639834881320948, 'travolta': 0.0020639834881320948, 'spying': 0.0020639834881320948, 'cool': 0.0020639834881320948, 'nonlineartimeline': 0.0020639834881320948, 'crime': 0.005159958720330237, 'slasher': 0.0020639834881320948, 'drugoverdose': 0.0020639834881320948, 'monologue': 0.0020639834881320948, 'palahnuik': 0.0020639834881320948, 'robotsandandroids': 0.0020639834881320948, 'dark': 0.0030959752321981426, 'hilarious': 0.0020639834881320948, 'narrated': 0.0020639834881320948, 'rug': 0.0020639834881320948, 'liveaction/animation': 0.0020639834881320948, 'comedy': 0.0030959752321981426, 'spoof': 0.0030959752321981426, 'twistending': 0.009287925696594427, 'classicmovie': 0.0020639834881320948, 'chuckpalahniuk': 0.0020639834881320948, 'kingarthur': 0.0041279669762641896, 'marijuana': 0.0020639834881320948, 'unpredictable': 0.0020639834881320948, 'touching': 0.0020639834881320948, 'dorothy': 0.0020639834881320948, 'gritty': 0.0020639834881320948, 'psychological': 0.005159958720330237, 'brutality': 0.0020639834881320948, 'ironic': 0.0020639834881320948, 'sports': 0.0020639834881320948, 'classicsci-fi': 0.0041279669762641896, 'postapocalyptic': 0.0020639834881320948, 'alcatraz': 0.0020639834881320948, 'bloodsplatters': 0.0020639834881320948, 'politics': 0.0041279669762641896, 'random': 0.0020639834881320948, 'funny': 0.0030959752321981426, 'independentfilm': 0.0020639834881320948, 'cultfilm': 0.0041279669762641896, 'heartwarming': 0.0020639834881320948, 'nativeamericans': 0.0020639834881320948, 'drugs&music': 0.0020639834881320948, 'horror': 0.0020639834881320948, 'intellectual': 0.0020639834881320948, 'superhero': 0.007223942208462332, 'military': 0.0020639834881320948, '1990s': 0.0020639834881320948, 'diner': 0.0020639834881320948, 'beatpoetry': 0.0020639834881320948, 'philosophy': 0.0030959752321981426, 'workplace': 0.0020639834881320948, 'michaelbay': 0.0020639834881320948, 'stoplookingatmeswan': 0.0020639834881320948, 'marvel': 0.0020639834881320948, 'tomclancy': 0.0020639834881320948, 'coenbrothers': 0.0041279669762641896, 'thriller': 0.0030959752321981426, 'silly': 0.0020639834881320948, 'revenge': 0.0030959752321981426, 'blackcomedy': 0.0030959752321981426, 'guns': 0.0030959752321981426, 'organisedcrime': 0.0020639834881320948, 'hitmen': 0.0041279669762641896, 'tricky': 0.0020639834881320948, 'postmodern': 0.0020639834881320948, 'doublelife': 0.0020639834881320948, 'psychologicalthriller': 0.0020639834881320948, 'mobsters': 0.0020639834881320948, 'russellcrowe': 0.0020639834881320948, 'swashbuckler': 0.0020639834881320948, 'blackhumour': 0.0020639834881320948, '1980s': 0.0020639834881320948, 'jeffbridges': 0.0020639834881320948, 'characters': 0.0020639834881320948, 'achronological': 0.0020639834881320948, 'r:disturbingviolentimages': 0.0020639834881320948, 'motherfucker': 0.0020639834881320948, 'casualviolence': 0.0020639834881320948, 'meaninglessviolence': 0.0020639834881320948, 'treasurehunt': 0.0020639834881320948, 'gothic': 0.0020639834881320948, 'disaster': 0.0020639834881320948, 'mentalillness': 0.0020639834881320948, 'irony': 0.0020639834881320948, 'r:graphicsexuality': 0.0020639834881320948, 'blackhumor': 0.0020639834881320948, 'comicbook': 0.0030959752321981426, 'gangster': 0.0020639834881320948, 'coke': 0.0020639834881320948, 'ancientrome': 0.0020639834881320948, 'gangsters': 0.0020639834881320948, 'different': 0.0020639834881320948, 'johntravolta': 0.0020639834881320948, 'vampires': 0.0020639834881320948, 'tense': 0.0020639834881320948, 'innovative': 0.0020639834881320948, 'nonlinear': 0.0030959752321981426, 'serialkiller': 0.0020639834881320948, 'tolkein': 0.0020639834881320948, 'sequel': 0.0020639834881320948, 'deadpan': 0.0020639834881320948, 'irreverent': 0.0020639834881320948, 'darkcomedy': 0.008255933952528379, 'mindfuck': 0.0041279669762641896, 'greatacting': 0.0030959752321981426, 'inigomontoya': 0.0020639834881320948, 'basedonatvshow': 0.0030959752321981426, 'easygoing': 0.0020639834881320948, 'exciting': 0.0020639834881320948, 'nerd': 0.0020639834881320948, 'harrisonford': 0.0020639834881320948, 'thought-provoking': 0.006191950464396285, 'stanleykubrick': 0.0020639834881320948, 'theforce': 0.0020639834881320948, 'kevinsmith': 0.0020639834881320948, 'hughjackman': 0.0020639834881320948, 'hitman': 0.0020639834881320948, 'nudity(topless)': 0.0020639834881320948, 'mobster': 0.0020639834881320948, 'holocaust': 0.0030959752321981426, 'lieutenantdan': 0.0020639834881320948, 'mice': 0.0020639834881320948, 'blood': 0.0020639834881320948, 'amazing': 0.0020639834881320948, 'sexy': 0.0020639834881320948, 'nonlinearnarrative': 0.0020639834881320948, 'splatter': 0.0020639834881320948, 'toto': 0.0020639834881320948, 'juliannemoore': 0.0020639834881320948, 'r:sustainedstrongstylizedviolence': 0.0020639834881320948, 'darkhumor': 0.0041279669762641896, 'humour': 0.0020639834881320948, 'hanniballector': 0.0020639834881320948, 'awesome': 0.0020639834881320948, 'basedonatruestory': 0.0030959752321981426, 'stephenking': 0.0030959752321981426}\n"
          ]
        }
      ]
    },
    {
      "cell_type": "markdown",
      "source": [
        "Calculem la **p(SPAM)** i la **p(HAM)** de les pel·lícules amb **factor de suavització k=1**"
      ],
      "metadata": {
        "id": "TF4c_kaATaEp"
      }
    },
    {
      "cell_type": "code",
      "source": [
        "prob_spam=(len(dislike_films)+k)/(len(rated_films)+k*2) #p(SPAM)\n",
        "print(prob_spam)\n",
        "\n",
        "prob_ham=(len(like_films)+k)/(len(rated_films)+k*2) #p(HAM)\n",
        "print(prob_ham)"
      ],
      "metadata": {
        "colab": {
          "base_uri": "https://localhost:8080/"
        },
        "id": "Qkb77kymWosc",
        "outputId": "194d5c61-4b6a-4fc6-c285-5dee0309b30b"
      },
      "execution_count": 44,
      "outputs": [
        {
          "output_type": "stream",
          "name": "stdout",
          "text": [
            "0.02586206896551724\n",
            "0.9741379310344828\n"
          ]
        }
      ]
    },
    {
      "cell_type": "markdown",
      "source": [
        "Extraiem una pel·lícula del dataset a mode d'exemple:"
      ],
      "metadata": {
        "id": "Fnxoj1UPTw3X"
      }
    },
    {
      "cell_type": "code",
      "source": [
        "exemple = non_rated_movies.loc['12 Angry Men (1957)']['Bag_of_words']"
      ],
      "metadata": {
        "id": "EEBR7ynwf7yz"
      },
      "execution_count": 45,
      "outputs": []
    },
    {
      "cell_type": "markdown",
      "source": [
        "Iterem entre els tags de la pel·lícula i enmagatzemem en una llista els que apareixen a qualsevol de les dues *bag of words*, la d'spam o la de ham. No tenim en compte els tags que no apareixen a les bags."
      ],
      "metadata": {
        "id": "E0sJgN-RjjFz"
      }
    },
    {
      "cell_type": "code",
      "source": [
        "words_ = []\n",
        "for word in exemple.split():\n",
        "    if word in set(bag_like.split()):\n",
        "        print(f\"'{word}', ok\")\n",
        "        words_.append(word)\n",
        "    elif word in set(bag_dislike.split()):\n",
        "        print(f\"'{word}', ok\")\n",
        "        words_.append(word)\n",
        "    else:\n",
        "        print(f\"'{word}', el tag no apareix a les bags of words\")\n",
        "print(words_)"
      ],
      "metadata": {
        "colab": {
          "base_uri": "https://localhost:8080/"
        },
        "id": "Bh6bACUWiwVH",
        "outputId": "eaad41a2-13c9-4101-a56d-b2f5e18ddd97"
      },
      "execution_count": 46,
      "outputs": [
        {
          "output_type": "stream",
          "name": "stdout",
          "text": [
            "'motivational', el tag no apareix a les bags of words\n",
            "'claustrophobic', el tag no apareix a les bags of words\n",
            "'confrontational', el tag no apareix a les bags of words\n",
            "'court', ok\n",
            "'earnest', el tag no apareix a les bags of words\n",
            "'gooddialogue', ok\n",
            "'greatscreenplay', el tag no apareix a les bags of words\n",
            "'gritty', ok\n",
            "'thought-provoking', ok\n",
            "['court', 'gooddialogue', 'gritty', 'thought-provoking']\n"
          ]
        }
      ]
    },
    {
      "cell_type": "markdown",
      "source": [
        "Definim una funció que, donada la llista de tags d'una pel·lícula, calculi la probabilitat d'spam i ham de cada tag **P(SPAM|tag) i P(HAM|tag)** amb un factor suavitzador *k=1* i enmagatzemi totes les probabilitats en una llista. També definim una segona funció que multipliqui les probabilitats de cada llista i retorni **P(SPAM|pel·lícula) i P(HAM|pel·lícula)**. Finalment classifiquem la pel·lícula com a spam si la probabilitat d'spam és superior a PHI vegades la probabilitat de ham **P(SPAM|pel·lícula)>PHI*P(HAM|pel·lícula)**,\n",
        "adoptem **PHI=1.5**"
      ],
      "metadata": {
        "id": "IsPNSmdqqLUG"
      }
    },
    {
      "cell_type": "code",
      "source": [
        "def mult(list_) :        # funcio multiplicació probabilitats\n",
        "    total_prob = 1\n",
        "    for i in list_: \n",
        "         total_prob = total_prob * i  \n",
        "    return total_prob\n",
        "    \n",
        "def Bayes(film):\n",
        "  k=1\n",
        "  PHI=1.5 \n",
        "  probs_spam = []\n",
        "  probs_ham = []\n",
        "  for word in film:#iterem entre tots els tags\n",
        "    Pr_S = prob_spam #p(SPAM)\n",
        "    try:\n",
        "      pr_WS = dict_spamicity[word] #P(tag|SPAM)\n",
        "    except KeyError:\n",
        "      pr_WS = (bag_dislike.split().count(word)+k)/(total_spam+k*len(set(bag_dislike.split()+bag_like.split()))) #P(tag|SPAM)\n",
        "\n",
        "    Pr_H = prob_ham #p(HAM)\n",
        "    try:    \n",
        "      pr_WH = dict_hamicity[word] #P(tag|HAM) \n",
        "    except KeyError:\n",
        "      pr_WH = (bag_like.split().count(word)+k)/(total_ham+k*len(set(bag_dislike.split()+bag_like.split()))) #P(tag|HAM)\n",
        "\n",
        "    prob_word_is_spam_BAYES = (pr_WS*Pr_S)/((pr_WS*Pr_S)+(pr_WH*Pr_H)) #P(SPAM|tag)=(P(tag|SPAM)*p(SPAM))/(P(tag|SPAM)*p(SPAM)+P(tag|HAM)*p(HAM))\n",
        "    prob_word_is_ham_BAYES = (pr_WH*Pr_S)/((pr_WS*Pr_S)+(pr_WH*Pr_H)) #P(HAM|tag)=(P(tag|HAM)*p(HAM))/(P(tag|SPAM)*p(SPAM)+P(tag|HAM)*p(HAM))\n",
        "#    print(prob_word_is_spam_BAYES)\n",
        "    probs_spam.append(prob_word_is_spam_BAYES)\n",
        "    probs_ham.append(prob_word_is_ham_BAYES)\n",
        "  final_classification_spam = mult(probs_spam)\n",
        "  final_classification_ham = mult(probs_ham)\n",
        "  print('P(SPAM|pel·lícula): ',final_classification_spam)\n",
        "  print('P(HAM|pel·lícula): ',final_classification_ham)\n",
        "  if final_classification_spam > PHI*final_classification_ham:\n",
        "    return False\n",
        "  else:\n",
        "    return True"
      ],
      "metadata": {
        "id": "rSXlcHZBk_dd"
      },
      "execution_count": 47,
      "outputs": []
    },
    {
      "cell_type": "markdown",
      "source": [
        "Apliquem la funció per a que ens classifiqui la pel·lícula d'exemple com a recomanada o spam:"
      ],
      "metadata": {
        "id": "E0_6gbDNYD1F"
      }
    },
    {
      "cell_type": "code",
      "source": [
        "recommended_films=[]\n",
        "if Bayes(words_):\n",
        "  recommended_films.append('12 Angry Men (1957)')\n",
        "print('Llistat de pel·lícules recomanades')\n",
        "print('--------------------------------------------------------')\n",
        "for i in recommended_films:\n",
        "  print(i)"
      ],
      "metadata": {
        "colab": {
          "base_uri": "https://localhost:8080/"
        },
        "id": "FlgMJM6Yl9P5",
        "outputId": "02cde984-dec1-4768-ca11-5dd23dd246f3"
      },
      "execution_count": 48,
      "outputs": [
        {
          "output_type": "stream",
          "name": "stdout",
          "text": [
            "P(SPAM|pel·lícula):  1.8190801256102204e-07\n",
            "P(HAM|pel·lícula):  4.5351780739635444e-07\n",
            "Llistat de pel·lícules recomanades\n",
            "--------------------------------------------------------\n",
            "12 Angry Men (1957)\n"
          ]
        }
      ]
    },
    {
      "cell_type": "markdown",
      "source": [
        "Un cop explicat tot el procediment, sintetitzem tots els passos realitzats en pocs en blocs i iterem entre totes les pel·lícules que no han estat puntuades per l'usuari, aplicant el filtre d'spam pel mètode de **Naive Bayes** i imprimim els títols recomanats:"
      ],
      "metadata": {
        "id": "UF4VoB3YXzv1"
      }
    },
    {
      "cell_type": "code",
      "source": [
        "Id=1\n",
        "like_films=[]\n",
        "dislike_films=[]\n",
        "for col in users_title.loc[Id][users_title.loc[Id].notnull()].index:\n",
        "  if users_title.loc[Id][col]>=2.5:\n",
        "    like_films.append(col)\n",
        "  else:\n",
        "    dislike_films.append(col)"
      ],
      "metadata": {
        "id": "ZTTJLMFpOEbF"
      },
      "execution_count": 49,
      "outputs": []
    },
    {
      "cell_type": "code",
      "source": [
        "from itertools import compress\n",
        "\n",
        "mask=[x in bag['title'] for x in dislike_films]\n",
        "dislike_films=list(compress(dislike_films, mask))\n",
        "print(\"Pel·lícules que NO agraden a l'usuari i contenen tags:\", len(dislike_films))\n",
        "\n",
        "mask=[x in bag['title'] for x in like_films]\n",
        "like_films=list(compress(like_films, mask))\n",
        "print(\"Pel·lícules que agraden a l'usuari i contenen tags:\", len(like_films))\n",
        "\n",
        "bag_dislike=''\n",
        "\n",
        "for i in dislike_films:\n",
        "  bag_dislike+=bag.loc[i]['Bag_of_words']+' ' #bag of words de tags de les pel·lícules que no li han agradat\n",
        "\n",
        "bag_like=''\n",
        "\n",
        "for i in like_films:\n",
        "  bag_like+=bag.loc[i]['Bag_of_words']+' ' #bag of words de tags de les pel·lícules que li han agradat\n",
        "\n",
        "rated_films=like_films+dislike_films #pel·lícules puntuades per l'usuari i amb tags\n",
        "non_rated_movies=bag.drop(rated_films,axis=0) #DataFrame amb pel·lícules no puntuades i amb tags\n",
        "\n",
        "vocab_unique_words_spam = set(bag_dislike.split()) #Vocabulary tags spam\n",
        "\n",
        "dict_spamicity = {}\n",
        "total_spam = len(bag_dislike.split())\n",
        "k=1\n",
        "for t in vocab_unique_words_spam:\n",
        "  spamicity = (bag_dislike.split().count(t)+k)/(total_spam+k*len(set(bag_dislike.split()+bag_like.split()))) #p(tag|SPAM) \n",
        "  dict_spamicity[t] = spamicity\n",
        "\n",
        "vocab_unique_words_ham = set(bag_like.split()) #Vocabulary tags ham\n",
        "\n",
        "dict_hamicity = {}\n",
        "total_ham = len(bag_like.split())\n",
        "for t in vocab_unique_words_ham:\n",
        "            \n",
        "  Hamicity = (bag_like.split().count(t)+k)/(total_ham+k*len(set(bag_dislike.split()+bag_like.split()))) #p(tag|HAM)\n",
        "  dict_hamicity[t] = Hamicity\n",
        "\n",
        "prob_spam=(len(dislike_films)+k)/(len(rated_films)+k*2) #p(SPAM)\n",
        "\n",
        "prob_ham=(len(like_films)+k)/(len(rated_films)+k*2) #p(HAM)\n",
        "\n",
        "def mult(list_) :#Funció per multiplicar els elements d'una llista        \n",
        "    total_prob = 1\n",
        "    for i in list_: \n",
        "         total_prob = total_prob * i  \n",
        "    return total_prob\n",
        "    \n",
        "def Bayes(film):#Filtre d'spam donat la bag of words d'una pel·lícula\n",
        "  k=1\n",
        "  PHI=1.5 \n",
        "  probs_spam = []\n",
        "  probs_ham = []\n",
        "  for word in film:\n",
        "    Pr_S = prob_spam #p(SPAM)\n",
        "    try:\n",
        "      pr_WS = dict_spamicity[word] #P(tag|SPAM)\n",
        "    except KeyError:#si la paraula no és al diccionari\n",
        "      pr_WS = (bag_dislike.split().count(word)+k)/(total_spam+k*len(set(bag_dislike.split()+bag_like.split()))) #P(tag|SPAM)\n",
        "\n",
        "    Pr_H = prob_ham #p(HAM)\n",
        "    try:    \n",
        "      pr_WH = dict_hamicity[word] #P(tag|HAM) \n",
        "    except KeyError:#si la paraula no és al diccionari\n",
        "      pr_WH = (bag_like.split().count(word)+k)/(total_ham+k*len(set(bag_dislike.split()+bag_like.split()))) #P(tag|HAM)\n",
        "\n",
        "    prob_word_is_spam_BAYES = (pr_WS*Pr_S)/((pr_WS*Pr_S)+(pr_WH*Pr_H))#P(SPAM|tag)=(P(tag|SPAM)*p(SPAM))/(P(tag|SPAM)*p(SPAM)+P(tag|HAM)*p(HAM))\n",
        "    prob_word_is_ham_BAYES = (pr_WH*Pr_S)/((pr_WS*Pr_S)+(pr_WH*Pr_H))#P(HAM|tag)=(P(tag|HAM)*p(HAM))/(P(tag|SPAM)*p(SPAM)+P(tag|HAM)*p(HAM))\n",
        "\n",
        "    probs_spam.append(prob_word_is_spam_BAYES)\n",
        "    probs_ham.append(prob_word_is_ham_BAYES)\n",
        "  final_classification_spam = mult(probs_spam)\n",
        "  final_classification_ham = mult(probs_ham)\n",
        "\n",
        "  if final_classification_spam > PHI*final_classification_ham:\n",
        "    return False\n",
        "  else:\n",
        "    return True"
      ],
      "metadata": {
        "colab": {
          "base_uri": "https://localhost:8080/"
        },
        "id": "acr1Dw9Zx5zd",
        "outputId": "e49390fd-ecbe-44d4-9c24-61323297b486"
      },
      "execution_count": 50,
      "outputs": [
        {
          "output_type": "stream",
          "name": "stdout",
          "text": [
            "Pel·lícules que NO agraden a l'usuari i contenen tags: 2\n",
            "Pel·lícules que agraden a l'usuari i contenen tags: 112\n"
          ]
        }
      ]
    },
    {
      "cell_type": "markdown",
      "source": [
        "Iterem totes les pel·lícules del DataFrame i apliquem tots els passos a totes les pel·lícules, emmagatzemem les que passen el filtre d'spam a la llista **recommended_films** i les imprimim:"
      ],
      "metadata": {
        "id": "LMZBIetwanS9"
      }
    },
    {
      "cell_type": "code",
      "source": [
        "recommended_films=[]\n",
        "for film in non_rated_movies.index:\n",
        "  movie = non_rated_movies.loc[film]['Bag_of_words']\n",
        "  words_ = []\n",
        "  for word in movie.split():\n",
        "    if word in set(bag_like.split()):\n",
        "#        print(f\"'{word}', ok\")\n",
        "      words_.append(word)\n",
        "    elif word in set(bag_dislike.split()):\n",
        "#        print(f\"'{word}', ok\")\n",
        "      words_.append(word)\n",
        "  if Bayes(words_):#Passem el filtre d'Spam a la bag of words de la pel·lícula\n",
        "    recommended_films.append(film)\n",
        "print('Llistat de pel·lícules recomanades')\n",
        "print('--------------------------------------------------------')\n",
        "for i in recommended_films:\n",
        "  print(i)"
      ],
      "metadata": {
        "colab": {
          "base_uri": "https://localhost:8080/"
        },
        "id": "CZikUiQ8NvA4",
        "outputId": "298e92cf-c02c-46d1-c58b-03fa968c6d05"
      },
      "execution_count": 54,
      "outputs": [
        {
          "output_type": "stream",
          "name": "stdout",
          "text": [
            "Llistat de pel·lícules recomanades\n",
            "--------------------------------------------------------\n",
            "(500) Days of Summer (2009)\n",
            "...And Justice for All (1979)\n",
            "10 Things I Hate About You (1999)\n",
            "101 Dalmatians (1996)\n",
            "101 Dalmatians (One Hundred and One Dalmatians) (1961)\n",
            "11'09\"01 - September 11 (2002)\n",
            "12 Angry Men (1957)\n",
            "127 Hours (2010)\n",
            "13 Going on 30 (2004)\n",
            "2001: A Space Odyssey (1968)\n",
            "21 Grams (2003)\n",
            "25th Hour (2002)\n",
            "28 Days Later (2002)\n",
            "39 Steps, The (1935)\n",
            "3:10 to Yuma (2007)\n",
            "40-Year-Old Virgin, The (2005)\n",
            "400 Blows, The (Les quatre cents coups) (1959)\n",
            "42 Up (1998)\n",
            "84 Charing Cross Road (1987)\n",
            "8MM (1999)\n",
            "A Million Ways to Die in the West (2014)\n",
            "A Pigeon Sat on a Branch Reflecting on Existence (2014)\n",
            "A Story of Children and Film (2013)\n",
            "A.I. Artificial Intelligence (2001)\n",
            "About a Boy (2002)\n",
            "Accused, The (1988)\n",
            "Adam's Rib (1949)\n",
            "Addams Family Values (1993)\n",
            "Addams Family, The (1991)\n",
            "African Queen, The (1951)\n",
            "After the Thin Man (1936)\n",
            "Age of Innocence, The (1993)\n",
            "Air Force One (1997)\n",
            "Airheads (1994)\n",
            "Airplane! (1980)\n",
            "Akira (1988)\n",
            "Aladdin (1992)\n",
            "Alfie (1966)\n",
            "Alice Adams (1935)\n",
            "Alice Doesn't Live Here Anymore (1974)\n",
            "Aliens (1986)\n",
            "Alive (1993)\n",
            "All About Eve (1950)\n",
            "All the King's Men (1949)\n",
            "All the President's Men (1976)\n",
            "All the Real Girls (2003)\n",
            "Almost Famous (2000)\n",
            "Amadeus (1984)\n",
            "Amelie (Fabuleux destin d'Amélie Poulain, Le) (2001)\n",
            "Amen. (2002)\n",
            "America's Sweethearts (2001)\n",
            "American Gangster (2007)\n",
            "American Movie (1999)\n",
            "American Pie (1999)\n",
            "American President, The (1995)\n",
            "American Splendor (2003)\n",
            "American in Paris, An (1951)\n",
            "Americanization of Emily, The (1964)\n",
            "Anastasia (1956)\n",
            "Anatomy of a Murder (1959)\n",
            "Anchorman 2: The Legend Continues (2013)\n",
            "Anchorman: The Legend of Ron Burgundy (2004)\n",
            "And Then There Were None (1945)\n",
            "And the Band Played On (1993)\n",
            "Andalusian Dog, An (Chien andalou, Un) (1929)\n",
            "Angel's Egg (Tenshi no tamago) (1985)\n",
            "Angie (1994)\n",
            "Animal House (1978)\n",
            "Animatrix, The (2003)\n",
            "Anna Karenina (1997)\n",
            "Anne Frank Remembered (1995)\n",
            "Anne of the Thousand Days (1969)\n",
            "Annie Hall (1977)\n",
            "Another Thin Man (1939)\n",
            "Apartment, The (1960)\n",
            "Apollo 13 (1995)\n",
            "Arachnophobia (1990)\n",
            "Argo (2012)\n",
            "Aristocats, The (1970)\n",
            "Armageddon (1998)\n",
            "Around the World in 80 Days (1956)\n",
            "Arrival (2016)\n",
            "Arrival, The (1996)\n",
            "Astronaut's Wife, The (1999)\n",
            "Au Hasard Balthazar (1966)\n",
            "Auntie Mame (1958)\n",
            "Avalon (1990)\n",
            "Avatar (2009)\n",
            "Avengers, The (2012)\n",
            "Avengers: Infinity War - Part I (2018)\n",
            "Aviator, The (2004)\n",
            "Awful Truth, The (1937)\n",
            "Babadook, The (2014)\n",
            "Babe (1995)\n",
            "Babette's Feast (Babettes gæstebud) (1987)\n",
            "Babylon 5: In the Beginning (1998)\n",
            "Bachelor and the Bobby-Soxer, The (1947)\n",
            "Back to the Future Part II (1989)\n",
            "Bad Day at Black Rock (1955)\n",
            "Bad News Bears, The (1976)\n",
            "Bad Seed, The (1956)\n",
            "Bad and the Beautiful, The (1952)\n",
            "Ballad of Jack and Rose, The (2005)\n",
            "Bank Job, The (2008)\n",
            "Barton Fink (1991)\n",
            "Basketball Diaries, The (1995)\n",
            "Batman Forever (1995)\n",
            "Batman v Superman: Dawn of Justice (2016)\n",
            "Battle Royale (Batoru rowaiaru) (2000)\n",
            "Battle of Algiers, The (La battaglia di Algeri) (1966)\n",
            "Beasts of No Nation (2015)\n",
            "Beasts of the Southern Wild (2012)\n",
            "Beat the Devil (1953)\n",
            "Beautiful Mind, A (2001)\n",
            "Beauty and the Beast (1991)\n",
            "Before Sunrise (1995)\n",
            "Before Sunset (2004)\n",
            "Begotten (1990)\n",
            "Being Julia (2004)\n",
            "Being There (1979)\n",
            "Believer, The (2001)\n",
            "Bend It Like Beckham (2002)\n",
            "Benny & Joon (1993)\n",
            "Best in Show (2000)\n",
            "Better Luck Tomorrow (2002)\n",
            "Better Off Dead... (1985)\n",
            "Beyond Silence (Jenseits der Stille) (1996)\n",
            "Big Business (1988)\n",
            "Big Daddy (1999)\n",
            "Big Eyes (2014)\n",
            "Big Fish (2003)\n",
            "Big Hero 6 (2014)\n",
            "Big Kahuna, The (2000)\n",
            "Big Night (1996)\n",
            "Big Short, The (2015)\n",
            "Big Sleep, The (1946)\n",
            "Big Top Pee-Wee (1988)\n",
            "Bill & Ted's Bogus Journey (1991)\n",
            "Bill & Ted's Excellent Adventure (1989)\n",
            "Bill Cosby, Himself (1983)\n",
            "Billabong Odyssey (2003)\n",
            "Billy Elliot (2000)\n",
            "Birdman of Alcatraz (1962)\n",
            "Birds, The (1963)\n",
            "Bishop's Wife, The (1947)\n",
            "Black Beauty (1994)\n",
            "Black Mirror: White Christmas (2014)\n",
            "Black Narcissus (1947)\n",
            "Black Orpheus (Orfeu Negro) (1959)\n",
            "Black Robe (1991)\n",
            "Black Stallion, The (1979)\n",
            "Blade (1998)\n",
            "Blade II (2002)\n",
            "Blade Runner (1982)\n",
            "Blade Runner 2049 (2017)\n",
            "Blair Witch Project, The (1999)\n",
            "Blood Diamond (2006)\n",
            "Blood Simple (1984)\n",
            "Blue Angel, The (Blaue Engel, Der) (1930)\n",
            "Blue Car (2002)\n",
            "Blue Sky (1994)\n",
            "Blue Velvet (1986)\n",
            "Bob Roberts (1992)\n",
            "Bonnie and Clyde (1967)\n",
            "Boomerang (1992)\n",
            "Boot, Das (Boat, The) (1981)\n",
            "Born Free (1966)\n",
            "Born into Brothels (2004)\n",
            "Bourne Ultimatum, The (2007)\n",
            "Bowling for Columbine (2002)\n",
            "Boy in the Striped Pajamas, The (Boy in the Striped Pyjamas, The) (2008)\n",
            "Brandon Teena Story, The (1998)\n",
            "Brassed Off (1996)\n",
            "Breaker Morant (1980)\n",
            "Breakfast at Tiffany's (1961)\n",
            "Breakfast on Pluto (2005)\n",
            "Breaking the Waves (1996)\n",
            "Bridge on the River Kwai, The (1957)\n",
            "Bridget Jones's Diary (2001)\n",
            "Brief Encounter (1946)\n",
            "Bringing Up Baby (1938)\n",
            "Broadcast News (1987)\n",
            "Broadway Danny Rose (1984)\n",
            "Broken Flowers (2005)\n",
            "Brothers Bloom, The (2008)\n",
            "Browning Version, The (1951)\n",
            "Bruce Almighty (2003)\n",
            "Buena Vista Social Club (1999)\n",
            "Buffalo '66 (a.k.a. Buffalo 66) (1998)\n",
            "Bug's Life, A (1998)\n",
            "Burn After Reading (2008)\n",
            "Butch Cassidy and the Sundance Kid (1969)\n",
            "Butterflies Are Free (1972)\n",
            "Caddyshack (1980)\n",
            "Caine Mutiny, The (1954)\n",
            "Call Northside 777 (1948)\n",
            "Camelot (1967)\n",
            "Candidate, The (1972)\n",
            "Cannonball Run, The (1981)\n",
            "Cape Fear (1962)\n",
            "Cape Fear (1991)\n",
            "Capote (2005)\n",
            "Captain Blood (1935)\n",
            "Captain Fantastic (2016)\n",
            "Captain Phillips (2013)\n",
            "Capturing the Friedmans (2003)\n",
            "Carlito's Way (1993)\n",
            "Carrie (1976)\n",
            "Casablanca (1942)\n",
            "Casino (1995)\n",
            "Cat People (1942)\n",
            "Cat Returns, The (Neko no ongaeshi) (2002)\n",
            "Cat Soup (Nekojiru-so) (2001)\n",
            "Cat on a Hot Tin Roof (1958)\n",
            "Cat's Eye (1985)\n",
            "Catch Me If You Can (2002)\n",
            "Caveman's Valentine, The (2001)\n",
            "Celebration, The (Festen) (1998)\n",
            "Central Station (Central do Brasil) (1998)\n",
            "Chain Reaction (1996)\n",
            "Chalet Girl (2011)\n",
            "Chamber, The (1996)\n",
            "Changeling (2008)\n",
            "Chaplin (1992)\n",
            "Charade (1963)\n",
            "Chariots of Fire (1981)\n",
            "Charlie and the Chocolate Factory (2005)\n",
            "Children of Heaven, The (Bacheha-Ye Aseman) (1997)\n",
            "Children of a Lesser God (1986)\n",
            "Children of the Corn (1984)\n",
            "Children of the Damned (1963)\n",
            "Chinatown (1974)\n",
            "Chosen, The (1981)\n",
            "Christine (1983)\n",
            "Christmas Story, A (1983)\n",
            "Christmas Vacation (National Lampoon's Christmas Vacation) (1989)\n",
            "Chronicles of Narnia: Prince Caspian, The (2008)\n",
            "Chronicles of Narnia: The Lion, the Witch and the Wardrobe, The (2005)\n",
            "Cinderella (1950)\n",
            "Cinderella Man (2005)\n",
            "Cinemania (2002)\n",
            "Circle of Friends (1995)\n",
            "Circus, The (1928)\n",
            "City Lights (1931)\n",
            "City of God (Cidade de Deus) (2002)\n",
            "City of Lost Children, The (Cité des enfants perdus, La) (1995)\n",
            "Client, The (1994)\n",
            "Clueless (1995)\n",
            "Coal Miner's Daughter (1980)\n",
            "Cold Comfort Farm (1995)\n",
            "Cold Mountain (2003)\n",
            "College (1927)\n",
            "Color of Paradise, The (Rang-e khoda) (1999)\n",
            "Come Back, Little Sheba (1952)\n",
            "Come and See (Idi i smotri) (1985)\n",
            "Coming Home (1978)\n",
            "Coming to America (1988)\n",
            "Commitments, The (1991)\n",
            "Confessions of a Dangerous Mind (2002)\n",
            "Congo (1995)\n",
            "Constant Gardener, The (2005)\n",
            "Control Room (2004)\n",
            "Conversation, The (1974)\n",
            "Cookie's Fortune (1999)\n",
            "Cool Hand Luke (1967)\n",
            "Corrina, Corrina (1994)\n",
            "Country Girl, The (1954)\n",
            "Courage Under Fire (1996)\n",
            "Cowboy Bebop: The Movie (Cowboy Bebop: Tengoku no Tobira) (2001)\n",
            "Crash (2004)\n",
            "Creature Comforts (1989)\n",
            "Crimson Tide (1995)\n",
            "Crocodile Dundee II (1988)\n",
            "Croods, The (2013)\n",
            "Crossfire (1947)\n",
            "Crossing Delancey (1988)\n",
            "Crouching Tiger, Hidden Dragon (Wo hu cang long) (2000)\n",
            "Crucible, The (1996)\n",
            "Crumb (1994)\n",
            "Cry in the Dark, A (1988)\n",
            "Cry, the Beloved Country (1995)\n",
            "Cujo (1983)\n",
            "Cutting Edge, The (1992)\n",
            "Cyrano de Bergerac (1990)\n",
            "Da Vinci Code, The (2006)\n",
            "Dallas Buyers Club (2013)\n",
            "Dancer in the Dark (2000)\n",
            "Dangerous Liaisons (1988)\n",
            "Dangerous Minds (1995)\n",
            "Danny Deckchair (2003)\n",
            "Daredevil (2003)\n",
            "Dark City (1998)\n",
            "Dark Days (2000)\n",
            "Dark Knight Rises, The (2012)\n",
            "Dark Knight, The (2008)\n",
            "Dark Passage (1947)\n",
            "Dark Victory (1939)\n",
            "Dave (1993)\n",
            "Day of the Jackal, The (1973)\n",
            "Day the Earth Stood Still, The (1951)\n",
            "Days of Wine and Roses (1962)\n",
            "Dead Again (1991)\n",
            "Dead Man Walking (1995)\n",
            "Dead Poets Society (1989)\n",
            "Dead Zone, The (1983)\n",
            "Deadpool 2 (2018)\n",
            "Dear Frankie (2004)\n",
            "Death Becomes Her (1992)\n",
            "Decade Under the Influence, A (2003)\n",
            "Deer Hunter, The (1978)\n",
            "Defiant Ones, The (1958)\n",
            "Definitely, Maybe (2008)\n",
            "Deliver Us from Evil (2006)\n",
            "Deliverance (1972)\n",
            "Departed, The (2006)\n",
            "Desk Set (1957)\n",
            "Devil's Backbone, The (Espinazo del diablo, El) (2001)\n",
            "Devil's Playground (2002)\n",
            "Devil's Rejects, The (2005)\n",
            "Diary of a Country Priest (Journal d'un curé de campagne) (1951)\n",
            "Dirty Dancing (1987)\n",
            "Dirty Pretty Things (2002)\n",
            "District 9 (2009)\n",
            "Divergent (2014)\n",
            "Divided We Fall (Musíme si pomáhat) (2000)\n",
            "Divorcee, The (1930)\n",
            "Django Unchained (2012)\n",
            "Do the Right Thing (1989)\n",
            "Doctor Strange (2016)\n",
            "Dogfight (1991)\n",
            "Dogville (2003)\n",
            "Dolores Claiborne (1995)\n",
            "Don't Breathe (2016)\n",
            "Donnie Brasco (1997)\n",
            "Donnie Darko (2001)\n",
            "Doors, The (1991)\n",
            "Double Indemnity (1944)\n",
            "Double Life, A (1947)\n",
            "Down and Out in Beverly Hills (1986)\n",
            "Down with Love (2003)\n",
            "Dr. Horrible's Sing-Along Blog (2008)\n",
            "Dr. Strangelove or: How I Learned to Stop Worrying and Love the Bomb (1964)\n",
            "Dream for an Insomniac (1996)\n",
            "Dresser, The (1983)\n",
            "Driving Miss Daisy (1989)\n",
            "Dude, Where's My Car? (2000)\n",
            "Duel (1971)\n",
            "Duma (2005)\n",
            "Dummy (2002)\n",
            "Eat Drink Man Woman (Yin shi nan nu) (1994)\n",
            "Educating Rita (1983)\n",
            "Elephant (2003)\n",
            "Elephant Man, The (1980)\n",
            "Elf (2003)\n",
            "Elite Squad (Tropa de Elite) (2007)\n",
            "Elizabeth (1998)\n",
            "Elmer Gantry (1960)\n",
            "Emma (1996)\n",
            "Enchanted April (1992)\n",
            "End of the Affair, The (1999)\n",
            "English Patient, The (1996)\n",
            "Enigma (2001)\n",
            "Enron: The Smartest Guys in the Room (2005)\n",
            "Erin Brockovich (2000)\n",
            "Eternal Sunshine of the Spotless Mind (2004)\n",
            "Europa Europa (Hitlerjunge Salomon) (1990)\n",
            "Everest (1998)\n",
            "Everybody Wants Some (2016)\n",
            "Everything Is Illuminated (2005)\n",
            "Evil Dead, The (1981)\n",
            "Evita (1996)\n",
            "Evolution (2001)\n",
            "Exorcist, The (1973)\n",
            "Eye in the Sky (2016)\n",
            "Eye, The (Gin gwai) (Jian gui) (2002)\n",
            "Eyes Wide Shut (1999)\n",
            "Eyes of Tammy Faye, The (2000)\n",
            "FLCL (2000)\n",
            "Fahrenheit 451 (1966)\n",
            "Fahrenheit 9/11 (2004)\n",
            "Fantastic Four (2005)\n",
            "Fantastic Four: Rise of the Silver Surfer (2007)\n",
            "Far and Away (1992)\n",
            "Far from Heaven (2002)\n",
            "Farewell to Arms, A (1932)\n",
            "Fast Times at Ridgemont High (1982)\n",
            "Fatal Attraction (1987)\n",
            "Father of the Bride (1950)\n",
            "Father of the Bride (1991)\n",
            "Father of the Bride Part II (1995)\n",
            "Faust (1926)\n",
            "Femme Nikita, La (Nikita) (1990)\n",
            "Ferris Bueller's Day Off (1986)\n",
            "Fiddler on the Roof (1971)\n",
            "Fido (2006)\n",
            "Field of Dreams (1989)\n",
            "Final Destination 2 (2003)\n",
            "Final Fantasy: The Spirits Within (2001)\n",
            "Finding Forrester (2000)\n",
            "Finding Nemo (2003)\n",
            "Finding Neverland (2004)\n",
            "Firm, The (1993)\n",
            "First Wives Club, The (1996)\n",
            "Fish Called Wanda, A (1988)\n",
            "Fisher King, The (1991)\n",
            "Fistful of Dollars, A (Per un pugno di dollari) (1964)\n",
            "Flawless (1999)\n",
            "Fly Away Home (1996)\n",
            "Flying Down to Rio (1933)\n",
            "Fog of War: Eleven Lessons from the Life of Robert S. McNamara, The (2003)\n",
            "Follow the Fleet (1936)\n",
            "For All Mankind (1989)\n",
            "Forbidden Kingdom, The (2008)\n",
            "Forbidden Planet (1956)\n",
            "Forget Paris (1995)\n",
            "Four Weddings and a Funeral (1994)\n",
            "Fox and the Hound, The (1981)\n",
            "Fracture (2007)\n",
            "Frailty (2001)\n",
            "Frank (2014)\n",
            "Freaks (1932)\n",
            "French Connection, The (1971)\n",
            "Frida (2002)\n",
            "Friday the 13th Part 2 (1981)\n",
            "Friday the 13th Part 3: 3D (1982)\n",
            "Friday the 13th Part IV: The Final Chapter (1984)\n",
            "Friday the 13th Part V: A New Beginning (1985)\n",
            "Friday the 13th Part VI: Jason Lives (1986)\n",
            "Friendly Persuasion (1956)\n",
            "Friends with Benefits (2011)\n",
            "Funny Games U.S. (2007)\n",
            "Funny Thing Happened on the Way to the Forum, A (1966)\n",
            "Fury (1936)\n",
            "G.I. Jane (1997)\n",
            "Galaxy Quest (1999)\n",
            "Gallipoli (1981)\n",
            "Game Night (2018)\n",
            "Gandhi (1982)\n",
            "Gaslight (1944)\n",
            "Gattaca (1997)\n",
            "Gay Divorcee, The (1934)\n",
            "Gentleman's Agreement (1947)\n",
            "Gentlemen Broncos (2009)\n",
            "Gentlemen Prefer Blondes (1953)\n",
            "Georgy Girl (1966)\n",
            "Get Shorty (1995)\n",
            "Get Smart (2008)\n",
            "Ghost (1990)\n",
            "Ghost World (2001)\n",
            "Ghostbusters II (1989)\n",
            "Ghosts of the Abyss (2003)\n",
            "Gia (1998)\n",
            "Giant (1956)\n",
            "Gigantic (A Tale of Two Johns) (2002)\n",
            "Gigi (1958)\n",
            "Gilda (1946)\n",
            "Ginger Snaps (2000)\n",
            "Gintama: The Movie (2010)\n",
            "Girl, Interrupted (1999)\n",
            "Glass Menagerie, The (1987)\n",
            "Glory (1989)\n",
            "Godfather, The (1972)\n",
            "Godfather: Part II, The (1974)\n",
            "Godfather: Part III, The (1990)\n",
            "Godzilla (2014)\n",
            "Going Places (Valseuses, Les) (1974)\n",
            "Gold Rush, The (1925)\n",
            "Gone Baby Gone (2007)\n",
            "Gone Girl (2014)\n",
            "Gone with the Wind (1939)\n",
            "Good Copy Bad Copy (2007)\n",
            "Good Earth, The (1937)\n",
            "Good Girl, The (2002)\n",
            "Good Night, and Good Luck. (2005)\n",
            "Good Year, A (2006)\n",
            "Good bye, Lenin! (2003)\n",
            "Good, the Bad and the Ugly, The (Buono, il brutto, il cattivo, Il) (1966)\n",
            "Gospel According to St. Matthew, The (Vangelo secondo Matteo, Il) (1964)\n",
            "Graduate, The (1967)\n",
            "Grand Day Out with Wallace and Gromit, A (1989)\n",
            "Grand Illusion (La grande illusion) (1937)\n",
            "Grapes of Wrath, The (1940)\n",
            "Grave of the Fireflies (Hotaru no haka) (1988)\n",
            "Gravity (2013)\n",
            "Grease (1978)\n",
            "Grease 2 (1982)\n",
            "Great Dictator, The (1940)\n",
            "Great Escape, The (1963)\n",
            "Great Expectations (1998)\n",
            "Great Santini, The (1979)\n",
            "Greatest Story Ever Told, The (1965)\n",
            "Greed (1924)\n",
            "Green Card (1990)\n",
            "Green Lantern (2011)\n",
            "Grey Zone, The (2001)\n",
            "Grifters, The (1990)\n",
            "Grizzly Man (2005)\n",
            "Gross Anatomy (a.k.a. A Cut Above) (1989)\n",
            "Grown Ups 2 (2013)\n",
            "Guardians of the Galaxy (2014)\n",
            "Guardians of the Galaxy 2 (2017)\n",
            "Guerrilla: The Taking of Patty Hearst (2004)\n",
            "Guess Who's Coming to Dinner (1967)\n",
            "Guys and Dolls (1955)\n",
            "Halloween II (1981)\n",
            "Halloween III: Season of the Witch (1982)\n",
            "Hamlet (1990)\n",
            "Hamlet (1996)\n",
            "Hancock (2008)\n",
            "Hands Over the City (Le mani sulla città) (1963)\n",
            "Hangover, The (2009)\n",
            "Hannah and Her Sisters (1986)\n",
            "Happy Gilmore (1996)\n",
            "Hard Day's Night, A (1964)\n",
            "Hard-Boiled (Lat sau san taam) (1992)\n",
            "Harold and Maude (1971)\n",
            "Harry Potter and the Chamber of Secrets (2002)\n",
            "Harry Potter and the Goblet of Fire (2005)\n",
            "Harry Potter and the Prisoner of Azkaban (2004)\n",
            "Harry Potter and the Sorcerer's Stone (a.k.a. Harry Potter and the Philosopher's Stone) (2001)\n",
            "Haunted World of El Superbeasto, The (2009)\n",
            "Haunting, The (1963)\n",
            "Haunting, The (1999)\n",
            "Hearts and Minds (1996)\n",
            "Heathers (1989)\n",
            "Heaven (2002)\n",
            "Heavenly Creatures (1994)\n",
            "Hello Again (1987)\n",
            "Hello, Dolly! (1969)\n",
            "Hero (Ying xiong) (2002)\n",
            "High Fidelity (2000)\n",
            "High Noon (1952)\n",
            "High and Low (Tengoku to jigoku) (1963)\n",
            "Hilary and Jackie (1998)\n",
            "Himalaya (Himalaya - l'enfance d'un chef) (1999)\n",
            "Hiroshima Mon Amour (1959)\n",
            "His Girl Friday (1940)\n",
            "History of Future Folk, The (2012)\n",
            "History of Violence, A (2005)\n",
            "Hobbit: An Unexpected Journey, The (2012)\n",
            "Hobbit: The Desolation of Smaug, The (2013)\n",
            "Holes (2003)\n",
            "Home Alone (1990)\n",
            "Home Alone 2: Lost in New York (1992)\n",
            "Hoop Dreams (1994)\n",
            "Hoosiers (a.k.a. Best Shot) (1986)\n",
            "Hope and Glory (1987)\n",
            "Horse Feathers (1932)\n",
            "Hot Fuzz (2007)\n",
            "Hotel Rwanda (2004)\n",
            "House of 1000 Corpses (2003)\n",
            "House of Flying Daggers (Shi mian mai fu) (2004)\n",
            "House of Mirth, The (2000)\n",
            "House of Sand and Fog (2003)\n",
            "Houseguest (1994)\n",
            "How the Grinch Stole Christmas (a.k.a. The Grinch) (2000)\n",
            "How to Make an American Quilt (1995)\n",
            "How to Steal a Million (1966)\n",
            "Howards End (1992)\n",
            "Howl's Moving Castle (Hauru no ugoku shiro) (2004)\n",
            "Hudsucker Proxy, The (1994)\n",
            "Hulk (2003)\n",
            "Hunchback of Notre Dame, The (1939)\n",
            "Hunt for Red October, The (1990)\n",
            "Hunting of the President, The (2004)\n",
            "Hurricane, The (1999)\n",
            "Hurt Locker, The (2008)\n",
            "Hustle & Flow (2005)\n",
            "Hustler, The (1961)\n",
            "I Capture the Castle (2003)\n",
            "I Know Where I'm Going! (1945)\n",
            "I Love You, Man (2009)\n",
            "I Remember Mama (1948)\n",
            "I Was a Male War Bride (1949)\n",
            "I'm Not Scared (Io non ho paura) (2003)\n",
            "I.Q. (1994)\n",
            "Ice Castles (1978)\n",
            "Ice Storm, The (1997)\n",
            "Identity (2003)\n",
            "Igby Goes Down (2002)\n",
            "Ikiru (1952)\n",
            "Illusionist, The (2006)\n",
            "Imitation of Life (1959)\n",
            "Immortal Beloved (1994)\n",
            "Impostors, The (1998)\n",
            "In America (2002)\n",
            "In Bruges (2008)\n",
            "In Good Company (2004)\n",
            "In Her Shoes (2005)\n",
            "In Love and War (1996)\n",
            "In a Lonely Place (1950)\n",
            "In the Bleak Midwinter (1995)\n",
            "In the Heat of the Night (1967)\n",
            "In the Line of Fire (1993)\n",
            "In the Mood For Love (Fa yeung nin wa) (2000)\n",
            "In the Name of the Father (1993)\n",
            "In the Realms of the Unreal (2004)\n",
            "Inception (2010)\n",
            "Incredibles, The (2004)\n",
            "Indochine (1992)\n",
            "Infernal Affairs (Mou gaan dou) (2002)\n",
            "Inglourious Basterds (2009)\n",
            "Inherit the Wind (1960)\n",
            "Innocents, The (1961)\n",
            "Inside Job (2010)\n",
            "Inside Llewyn Davis (2013)\n",
            "Insider, The (1999)\n",
            "Insomnia (2002)\n",
            "Interstellar (2014)\n",
            "Into the Woods (1991)\n",
            "Intouchables (2011)\n",
            "Invasion of the Body Snatchers (1956)\n",
            "Invincible Iron Man, The (2007)\n",
            "Invisible Man, The (1933)\n",
            "Invisible, The (2007)\n",
            "Irreversible (Irréversible) (2002)\n",
            "It Could Happen to You (1994)\n",
            "It Happened One Night (1934)\n",
            "It Takes Two (1995)\n",
            "It's Such a Beautiful Day (2012)\n",
            "It's a Wonderful Life (1946)\n",
            "Italian Job, The (2003)\n",
            "Jack and Sarah (1995)\n",
            "Jane Eyre (1970)\n",
            "Jarhead (2005)\n",
            "Jaws (1975)\n",
            "Jaws 3-D (1983)\n",
            "Jerry Maguire (1996)\n",
            "Jesus of Montreal (Jésus de Montréal) (1989)\n",
            "Jetée, La (1962)\n",
            "Jezebel (1938)\n",
            "John Wick (2014)\n",
            "John Wick: Chapter Two (2017)\n",
            "Johnny Belinda (1948)\n",
            "Jonah: A VeggieTales Movie (2002)\n",
            "Jumanji (1995)\n",
            "Jumanji: Welcome to the Jungle (2017)\n",
            "Junebug (2005)\n",
            "Jungle2Jungle (a.k.a. Jungle 2 Jungle) (1997)\n",
            "Juno (2007)\n",
            "Jurassic Park III (2001)\n",
            "Just Cause (1995)\n",
            "Just Eat It: A Food Waste Story (2014)\n",
            "K-PAX (2001)\n",
            "Karate Kid, Part II, The (1986)\n",
            "Karate Kid, Part III, The (1989)\n",
            "Karate Kid, The (1984)\n",
            "Keeping the Faith (2000)\n",
            "Kid Stays in the Picture, The (2002)\n",
            "Kid, The (1921)\n",
            "Kids (1995)\n",
            "Kiki's Delivery Service (Majo no takkyûbin) (1989)\n",
            "Kill Bill: Vol. 1 (2003)\n",
            "Kill Bill: Vol. 2 (2004)\n",
            "Killing Fields, The (1984)\n",
            "Killing, The (1956)\n",
            "King Kong (2005)\n",
            "King and I, The (1956)\n",
            "Kingdom of Heaven (2005)\n",
            "Kingsman: The Secret Service (2015)\n",
            "Kiss Kiss Bang Bang (2005)\n",
            "Kiss Me Goodbye (1982)\n",
            "Kiss of the Spider Woman (1985)\n",
            "Kolya (Kolja) (1996)\n",
            "Kramer vs. Kramer (1979)\n",
            "Kung Fury (2015)\n",
            "L.A. Story (1991)\n",
            "La La Land (2016)\n",
            "Lady Eve, The (1941)\n",
            "Lady Jane (1986)\n",
            "Lady Vanishes, The (1938)\n",
            "Lady Vengeance (Sympathy for Lady Vengeance) (Chinjeolhan geumjassi) (2005)\n",
            "Lady and the Tramp (1955)\n",
            "Lady from Shanghai, The (1947)\n",
            "Lady in the Water (2006)\n",
            "Lagaan: Once Upon a Time in India (2001)\n",
            "Laputa: Castle in the Sky (Tenkû no shiro Rapyuta) (1986)\n",
            "Lara Croft Tomb Raider: The Cradle of Life (2003)\n",
            "Last Days of Disco, The (1998)\n",
            "Last Days, The (1998)\n",
            "Last Emperor, The (1987)\n",
            "Last Picture Show, The (1971)\n",
            "Last Temptation of Christ, The (1988)\n",
            "Lavender Hill Mob, The (1951)\n",
            "Lawrence of Arabia (1962)\n",
            "Layer Cake (2004)\n",
            "League of Extraordinary Gentlemen, The (a.k.a. LXG) (2003)\n",
            "Leaving Las Vegas (1995)\n",
            "Legal Eagles (1986)\n",
            "Legally Blonde (2001)\n",
            "Legally Blonde 2: Red, White & Blonde (2003)\n",
            "Lemony Snicket's A Series of Unfortunate Events (2004)\n",
            "Letter to Three Wives, A (1949)\n",
            "Letter, The (1940)\n",
            "Liar Liar (1997)\n",
            "Life Aquatic with Steve Zissou, The (2004)\n",
            "Life Is Beautiful (La Vita è bella) (1997)\n",
            "Life of Pi (2012)\n",
            "Lifeboat (1944)\n",
            "Lilya 4-Ever (Lilja 4-ever) (2002)\n",
            "Limelight (1952)\n",
            "Lion King, The (1994)\n",
            "Little Foxes, The (1941)\n",
            "Little Man Tate (1991)\n",
            "Little Princess, A (1995)\n",
            "Little Voice (1998)\n",
            "Little Women (1994)\n",
            "Logan (2017)\n",
            "Lone Star (1996)\n",
            "Long Night's Journey Into Day (2000)\n",
            "Long, Hot Summer, The (1958)\n",
            "Look Who's Talking (1989)\n",
            "Looking for Comedy in the Muslim World (2005)\n",
            "Lord of War (2005)\n",
            "Lord of the Flies (1963)\n",
            "Lord of the Rings: The Fellowship of the Ring, The (2001)\n",
            "Lord of the Rings: The Return of the King, The (2003)\n",
            "Lord of the Rings: The Two Towers, The (2002)\n",
            "Losin' It (1983)\n",
            "Lost Horizon (1937)\n",
            "Lost Weekend, The (1945)\n",
            "Lost World: Jurassic Park, The (1997)\n",
            "Lost in Translation (2003)\n",
            "Love Bug, The (1969)\n",
            "Love Liza (2002)\n",
            "Love Me If You Dare (Jeux d'enfants) (2003)\n",
            "Love Story (1970)\n",
            "Lovely & Amazing (2001)\n",
            "Lucky Number Slevin (2006)\n",
            "Lust for Life (1956)\n",
            "Luther (2003)\n",
            "Luzhin Defence, The (2000)\n",
            "Léon: The Professional (a.k.a. The Professional) (Léon) (1994)\n",
            "M. Butterfly (1993)\n",
            "Macbeth (a.k.a. Tragedy of Macbeth, The) (1971)\n",
            "Mad Max: Fury Road (2015)\n",
            "Madness of King George, The (1994)\n",
            "Magdalene Sisters, The (2002)\n",
            "Magnolia (1999)\n",
            "Major League (1989)\n",
            "Make Way for Tomorrow (1937)\n",
            "Maltese Falcon, The (1941)\n",
            "Maltese Falcon, The (a.k.a. Dangerous Female) (1931)\n",
            "Man Bites Dog (C'est arrivé près de chez vous) (1992)\n",
            "Man Who Wasn't There, The (2001)\n",
            "Man Who Would Be King, The (1975)\n",
            "Man Without a Past, The (Mies vailla menneisyyttä) (2002)\n",
            "Man in the Iron Mask, The (1998)\n",
            "Man of Steel (2013)\n",
            "Man on the Moon (1999)\n",
            "Man on the Train (Homme du train, L') (2002)\n",
            "Manchurian Candidate, The (1962)\n",
            "Marat/Sade (1966)\n",
            "Margin Call (2011)\n",
            "Maria Full of Grace (Maria, Llena eres de gracia) (2004)\n",
            "Marie Antoinette (2006)\n",
            "Mark of Zorro, The (1940)\n",
            "Married to the Mob (1988)\n",
            "Mary Poppins (1964)\n",
            "Mary Reilly (1996)\n",
            "Mary Shelley's Frankenstein (Frankenstein) (1994)\n",
            "Mary and Max (2009)\n",
            "Mask (1985)\n",
            "Mask of Zorro, The (1998)\n",
            "Match Factory Girl, The (Tulitikkutehtaan tyttö) (1990)\n",
            "Matchstick Men (2003)\n",
            "May (2002)\n",
            "Maze Runner, The (2014)\n",
            "Me Myself I (2000)\n",
            "Mean Creek (2004)\n",
            "Mean Girls (2004)\n",
            "Meatballs (1979)\n",
            "Meet Dave (2008)\n",
            "Meet John Doe (1941)\n",
            "Meet Me in St. Louis (1944)\n",
            "Meet the Fockers (2004)\n",
            "Meet the Parents (2000)\n",
            "Meet the Robinsons (2007)\n",
            "Memento (2000)\n",
            "Men in Black II (a.k.a. MIIB) (a.k.a. MIB 2) (2002)\n",
            "Merchant of Venice, The (2004)\n",
            "Michael Collins (1996)\n",
            "Midnight Clear, A (1992)\n",
            "Midnight Cowboy (1969)\n",
            "Midnight Express (1978)\n",
            "Midnight in the Garden of Good and Evil (1997)\n",
            "Mighty Aphrodite (1995)\n",
            "Mighty Wind, A (2003)\n",
            "Mighty, The (1998)\n",
            "Mildred Pierce (1945)\n",
            "Millennium Actress (Sennen joyû) (2001)\n",
            "Miller's Crossing (1990)\n",
            "Million Dollar Baby (2004)\n",
            "Millions (2004)\n",
            "Minority Report (2002)\n",
            "Miracle Worker, The (1962)\n",
            "Miracle on 34th Street (1994)\n",
            "Mirror Has Two Faces, The (1996)\n",
            "Miss Congeniality (2000)\n",
            "Missing (1982)\n",
            "Mission, The (1986)\n",
            "Mississippi Burning (1988)\n",
            "Mississippi Masala (1991)\n",
            "Modern Times (1936)\n",
            "Monsoon Wedding (2001)\n",
            "Monster's Ball (2001)\n",
            "Monty Python Live at the Hollywood Bowl (1982)\n",
            "Monty Python's The Meaning of Life (1983)\n",
            "Moon (2009)\n",
            "Moonrise Kingdom (2012)\n",
            "Moonstruck (1987)\n",
            "More (1998)\n",
            "Mother! (2017)\n",
            "Movie 43 (2013)\n",
            "Mr. Holland's Opus (1995)\n",
            "Mrs. Brown (a.k.a. Her Majesty, Mrs. Brown) (1997)\n",
            "Much Ado About Nothing (1993)\n",
            "Mulholland Falls (1996)\n",
            "Munich (2005)\n",
            "Muppet Treasure Island (1996)\n",
            "Murder in the First (1995)\n",
            "Murder on a Sunday Morning (Un coupable idéal) (2001)\n",
            "Murder on the Orient Express (1974)\n",
            "Muriel's Wedding (1994)\n",
            "Music Box (1989)\n",
            "Mutiny on the Bounty (1935)\n",
            "Mutiny on the Bounty (1962)\n",
            "My Best Friend's Wedding (1997)\n",
            "My Blue Heaven (1990)\n",
            "My Cousin Vinny (1992)\n",
            "My Demon Lover (1987)\n",
            "My Fair Lady (1964)\n",
            "My Family (1995)\n",
            "My Favorite Year (1982)\n",
            "My Flesh and Blood (2003)\n",
            "My Left Foot (1989)\n",
            "My Life (1993)\n",
            "My Life Without Me (2003)\n",
            "My Man Godfrey (1936)\n",
            "My Neighbor Totoro (Tonari no Totoro) (1988)\n",
            "My Stepmother Is an Alien (1988)\n",
            "Mystery Men (1999)\n",
            "Mystery Science Theater 3000: The Movie (1996)\n",
            "Mystic River (2003)\n",
            "Name of the Rose, The (Name der Rose, Der) (1986)\n",
            "Napoleon Dynamite (2004)\n",
            "National Velvet (1944)\n",
            "Natural Born Killers (1994)\n",
            "Natural, The (1984)\n",
            "Necessary Roughness (1991)\n",
            "Nell (1994)\n",
            "Neon Genesis Evangelion: Death & Rebirth (Shin seiki Evangelion Gekijô-ban: Shito shinsei) (1997)\n",
            "Neon Genesis Evangelion: The End of Evangelion (Shin seiki Evangelion Gekijô-ban: Air/Magokoro wo, kimi ni) (1997)\n",
            "Net, The (1995)\n",
            "Network (1976)\n",
            "Never Been Kissed (1999)\n",
            "Next Stop Wonderland (1998)\n",
            "Niagara (1953)\n",
            "Nicholas Nickleby (2002)\n",
            "Night and Day (1946)\n",
            "Night at the Museum (2006)\n",
            "Night at the Opera, A (1935)\n",
            "Night at the Roxbury, A (1998)\n",
            "Night of the Hunter, The (1955)\n",
            "Night of the Living Dead (1968)\n",
            "Night of the Shooting Stars (Notte di San Lorenzo, La) (1982)\n",
            "Nightmare Before Christmas, The (1993)\n",
            "Nights of Cabiria (Notti di Cabiria, Le) (1957)\n",
            "Ninotchka (1939)\n",
            "Nixon (1995)\n",
            "Nobody Knows (Dare mo shiranai) (2004)\n",
            "Norma Rae (1979)\n",
            "North Country (2005)\n",
            "Northfork (2003)\n",
            "Notebook, The (2004)\n",
            "Notorious (1946)\n",
            "Now You See Me (2013)\n",
            "Nowhere in Africa (Nirgendwo in Afrika) (2001)\n",
            "O Brother, Where Art Thou? (2000)\n",
            "Observe and Report (2009)\n",
            "Ocean's Eleven (2001)\n",
            "Odd Couple, The (1968)\n",
            "Official Story, The (La historia oficial) (1985)\n",
            "Oh, God! Book II (1980)\n",
            "Oklahoma! (1955)\n",
            "Old Boy (2003)\n",
            "Old School (2003)\n",
            "Oliver Twist (1948)\n",
            "Oliver Twist (2005)\n",
            "Oliver! (1968)\n",
            "Omen, The (1976)\n",
            "On Golden Pond (1981)\n",
            "On the Waterfront (1954)\n",
            "Once Bitten (1985)\n",
            "Once Upon a Time in the West (C'era una volta il West) (1968)\n",
            "Once Were Warriors (1994)\n",
            "One Flew Over the Cuckoo's Nest (1975)\n",
            "One Hour Photo (2002)\n",
            "One, Two, Three (1961)\n",
            "Ordet (Word, The) (1955)\n",
            "Oscar and Lucinda (a.k.a. Oscar & Lucinda) (1997)\n",
            "Othello (1995)\n",
            "Other Sister, The (1999)\n",
            "Our Hospitality (1923)\n",
            "Out of Africa (1985)\n",
            "Out of Sight (1998)\n",
            "Out of the Past (1947)\n",
            "Outsiders, The (1983)\n",
            "Owning Mahowny (2003)\n",
            "Ox-Bow Incident, The (1943)\n",
            "Paddington (2014)\n",
            "Palm Beach Story, The (1942)\n",
            "Pan's Labyrinth (Laberinto del fauno, El) (2006)\n",
            "Panic Room (2002)\n",
            "Paper Clips (2004)\n",
            "Paper Moon (1973)\n",
            "Paper, The (1994)\n",
            "Paprika (Papurika) (2006)\n",
            "Paradise Lost: The Child Murders at Robin Hood Hills (1996)\n",
            "Parallax View, The (1974)\n",
            "Parent Trap, The (1961)\n",
            "Parent Trap, The (1998)\n",
            "Parenthood (1989)\n",
            "Passage to India, A (1984)\n",
            "Passion Fish (1992)\n",
            "Passion of Joan of Arc, The (Passion de Jeanne d'Arc, La) (1928)\n",
            "Passion of the Christ, The (2004)\n",
            "Pat and Mike (1952)\n",
            "Patch Adams (1998)\n",
            "Patch of Blue, A (1965)\n",
            "Paterson\n",
            "Paths of Glory (1957)\n",
            "Patton (1970)\n",
            "Pee-wee's Big Adventure (1985)\n",
            "Pelican Brief, The (1993)\n",
            "Penny Serenade (1941)\n",
            "People vs. Larry Flynt, The (1996)\n",
            "Personal Velocity (2002)\n",
            "Persuasion (1995)\n",
            "Philadelphia (1993)\n",
            "Philadelphia Story, The (1940)\n",
            "Phone Booth (2002)\n",
            "Pi (1998)\n",
            "Pianist, The (2002)\n",
            "Picnic at Hanging Rock (1975)\n",
            "Pieces of April (2003)\n",
            "Pierrot le fou (1965)\n",
            "Pillow Talk (1959)\n",
            "Pineapple Express (2008)\n",
            "Pink Panther, The (1963)\n",
            "Pirates of the Caribbean: The Curse of the Black Pearl (2003)\n",
            "Place in the Sun, A (1951)\n",
            "Places in the Heart (1984)\n",
            "Poltergeist (1982)\n",
            "Poltergeist II: The Other Side (1986)\n",
            "Poltergeist III (1988)\n",
            "Ponette (1996)\n",
            "Porco Rosso (Crimson Pig) (Kurenai no buta) (1992)\n",
            "Possession (2002)\n",
            "Postman Always Rings Twice, The (1946)\n",
            "Postman, The (1997)\n",
            "Postman, The (Postino, Il) (1994)\n",
            "Preacher's Wife, The (1996)\n",
            "Prestige, The (2006)\n",
            "Presumed Innocent (1990)\n",
            "Pretty Woman (1990)\n",
            "Pretty in Pink (1986)\n",
            "Pride & Prejudice (2005)\n",
            "Pride of the Yankees, The (1942)\n",
            "Primal Fear (1996)\n",
            "Primary Colors (1998)\n",
            "Prime of Miss Jean Brodie, The (1969)\n",
            "Primer (2004)\n",
            "Prince of Egypt, The (1998)\n",
            "Prince of Tides, The (1991)\n",
            "Princess Mononoke (Mononoke-hime) (1997)\n",
            "Princess and the Warrior, The (Krieger und die Kaiserin, Der) (2000)\n",
            "Prisoners (2013)\n",
            "Private Benjamin (1980)\n",
            "Producers, The (1968)\n",
            "Producers, The (2005)\n",
            "Promises (2001)\n",
            "Proof (1991)\n",
            "Proof (2005)\n",
            "Pumpkin (2002)\n",
            "Punch-Drunk Love (2002)\n",
            "Punchline (1988)\n",
            "Punisher, The (2004)\n",
            "Purple Rain (1984)\n",
            "Purple Rose of Cairo, The (1985)\n",
            "Pushing Tin (1999)\n",
            "Pygmalion (1938)\n",
            "Quiet American, The (2002)\n",
            "Quiz Show (1994)\n",
            "Rabbit-Proof Fence (2002)\n",
            "Rabbits (2002)\n",
            "Radio Days (1987)\n",
            "Radioland Murders (1994)\n",
            "Raging Bull (1980)\n",
            "Rain Man (1988)\n",
            "Rainmaker, The (1997)\n",
            "Raise the Red Lantern (Da hong deng long gao gao gua) (1991)\n",
            "Raising Arizona (1987)\n",
            "Raising Victor Vargas (2002)\n",
            "Ran (1985)\n",
            "Random Harvest (1942)\n",
            "Ransom (1996)\n",
            "Rare Exports: A Christmas Tale (Rare Exports) (2010)\n",
            "Ray (2004)\n",
            "Real Women Have Curves (2002)\n",
            "Rear Window (1954)\n",
            "Rebecca (1940)\n",
            "Rebel Without a Cause (1955)\n",
            "Red Badge of Courage, The (1951)\n",
            "Red Beard (Akahige) (1965)\n",
            "Red Dragon (2002)\n",
            "Red River (1948)\n",
            "Red Shoes, The (1948)\n",
            "Reefer Madness: The Movie Musical (2005)\n",
            "Regarding Henry (1991)\n",
            "Remains of the Day, The (1993)\n",
            "Renaissance Man (1994)\n",
            "Requiem for a Heavyweight (1962)\n",
            "Restoration (1995)\n",
            "Restrepo (2010)\n",
            "Return of the Pink Panther, The (1975)\n",
            "Return of the Secaucus 7 (1980)\n",
            "Return to Me (2000)\n",
            "Return, The (Vozvrashcheniye) (2003)\n",
            "Revenge of the Nerds (1984)\n",
            "Reversal of Fortune (1990)\n",
            "Richard III (1995)\n",
            "Riding Giants (2004)\n",
            "Right Stuff, The (1983)\n",
            "Ringu (Ring) (1998)\n",
            "Risky Business (1983)\n",
            "River's Edge (1986)\n",
            "Road Home, The (Wo de fu qin mu qin) (1999)\n",
            "Road to Perdition (2002)\n",
            "Roaring Twenties, The (1939)\n",
            "Roberta (1935)\n",
            "Rocky III (1982)\n",
            "Rocky IV (1985)\n",
            "Rocky V (1990)\n",
            "Roger & Me (1989)\n",
            "Roger Dodger (2002)\n",
            "Roman Holiday (1953)\n",
            "Rome, Open City (a.k.a. Open City) (Roma, città aperta) (1945)\n",
            "Romper Stomper (1992)\n",
            "Romy and Michele's High School Reunion (1997)\n",
            "Room (2015)\n",
            "Room with a View, A (1986)\n",
            "Rose Red (2002)\n",
            "Rosencrantz and Guildenstern Are Dead (1990)\n",
            "Royal Tenenbaums, The (2001)\n",
            "Rudy (1993)\n",
            "Running on Empty (1988)\n",
            "Ruthless People (1986)\n",
            "Sabrina (1954)\n",
            "Sabrina (1995)\n",
            "Safety Last! (1923)\n",
            "Salaam Bombay! (1988)\n",
            "Salo, or The 120 Days of Sodom (Salò o le 120 giornate di Sodoma) (1976)\n",
            "Sands of Iwo Jima (1949)\n",
            "Sanjuro (Tsubaki Sanjûrô) (1962)\n",
            "Sansho the Bailiff (Sanshô dayû) (1954)\n",
            "Santa Clause, The (1994)\n",
            "Sausage Party (2016)\n",
            "Saved! (2004)\n",
            "Saw (2004)\n",
            "Say Anything... (1989)\n",
            "Scarface (1983)\n",
            "School of Rock (2003)\n",
            "Score, The (2001)\n",
            "Scott Pilgrim vs. the World (2010)\n",
            "Scream (1996)\n",
            "Scream 2 (1997)\n",
            "Scrooge (1970)\n",
            "Scrooged (1988)\n",
            "Seabiscuit (2003)\n",
            "Searching for Bobby Fischer (1993)\n",
            "Secondhand Lions (2003)\n",
            "Secret Garden, The (1993)\n",
            "Secret Lives of Dentists, The (2002)\n",
            "Secrets & Lies (1996)\n",
            "Self/less (2015)\n",
            "Sense and Sensibility (1995)\n",
            "Serendipity (2001)\n",
            "Serenity (2005)\n",
            "Series 7: The Contenders (2001)\n",
            "Serpico (1973)\n",
            "Session 9 (2001)\n",
            "Seven Brides for Seven Brothers (1954)\n",
            "Seven Samurai (Shichinin no samurai) (1954)\n",
            "Seven Year Itch, The (1955)\n",
            "Seventh Seal, The (Sjunde inseglet, Det) (1957)\n",
            "Shadow of a Doubt (1943)\n",
            "Shadow of the Thin Man (1941)\n",
            "Shadowlands (1993)\n",
            "Shakespeare in Love (1998)\n",
            "Shall We Dance (1937)\n",
            "Shall We Dance? (Shall We Dansu?) (1996)\n",
            "Shame (Skammen) (1968)\n",
            "Shanghai Knights (2003)\n",
            "Shape of Things, The (2003)\n",
            "Shattered Glass (2003)\n",
            "Shaun of the Dead (2004)\n",
            "Shawshank Redemption, The (1994)\n",
            "Shenandoah (1965)\n",
            "Shine (1996)\n",
            "Short Circuit (1986)\n",
            "Short Cuts (1993)\n",
            "Short Term 12 (2013)\n",
            "Shot in the Dark, A (1964)\n",
            "Shrek (2001)\n",
            "Shrek 2 (2004)\n",
            "Shutter Island (2010)\n",
            "Sicario (2015)\n",
            "Sideways (2004)\n",
            "Siege, The (1998)\n",
            "Signs (2002)\n",
            "Silence (2016)\n",
            "Silk Stockings (1957)\n",
            "Silkwood (1983)\n",
            "Simple Plan, A (1998)\n",
            "Simply Irresistible (1999)\n",
            "Sin City (2005)\n",
            "Sinbad: Legend of the Seven Seas (2003)\n",
            "Singin' in the Rain (1952)\n",
            "Sintel (2010)\n",
            "Six Degrees of Separation (1993)\n",
            "Sixth Sense, The (1999)\n",
            "Skyfall (2012)\n",
            "Sleeping with the Enemy (1991)\n",
            "Sleepless in Seattle (1993)\n",
            "Sleepy Hollow (1999)\n",
            "Sleuth (1972)\n",
            "Sliding Doors (1998)\n",
            "Sling Blade (1996)\n",
            "Sliver (1993)\n",
            "Snow White and the Seven Dwarfs (1937)\n",
            "Snowpiercer (2013)\n",
            "Soapdish (1991)\n",
            "Social Network, The (2010)\n",
            "Solo: A Star Wars Story (2018)\n",
            "Some Like It Hot (1959)\n",
            "Something Wicked This Way Comes (1983)\n",
            "Son of Rambow (2007)\n",
            "Song of the Little Road (Pather Panchali) (1955)\n",
            "Song of the Thin Man (1947)\n",
            "Sophie's Choice (1982)\n",
            "Sound of Music, The (1965)\n",
            "South Pacific (1958)\n",
            "SpaceCamp (1986)\n",
            "Spanglish (2004)\n",
            "Spanish Prisoner, The (1997)\n",
            "Spartacus (1960)\n",
            "Speed (1994)\n",
            "Spellbound (1945)\n",
            "Spellbound (2002)\n",
            "Sphere (1998)\n",
            "Spider (2002)\n",
            "Spider-Man (2002)\n",
            "Spider-Man 2 (2004)\n",
            "Spirited Away (Sen to Chihiro no kamikakushi) (2001)\n",
            "Splash (1984)\n",
            "Splendor in the Grass (1961)\n",
            "Spring, Summer, Fall, Winter... and Spring (Bom yeoreum gaeul gyeoul geurigo bom) (2003)\n",
            "Spy Kids (2001)\n",
            "Squid and the Whale, The (2005)\n",
            "St. Elmo's Fire (1985)\n",
            "Stage Door (1937)\n",
            "Stage Fright (1950)\n",
            "Stand and Deliver (1988)\n",
            "Stand by Me (1986)\n",
            "Standing in the Shadows of Motown (2002)\n",
            "Star Trek (2009)\n",
            "Star Trek II: The Wrath of Khan (1982)\n",
            "Star Trek IV: The Voyage Home (1986)\n",
            "Star Trek VI: The Undiscovered Country (1991)\n",
            "Star Trek: First Contact (1996)\n",
            "Star Trek: Generations (1994)\n",
            "Star Trek: Insurrection (1998)\n",
            "Star Wars: Episode III - Revenge of the Sith (2005)\n",
            "Starsuckers (2009)\n",
            "State and Main (2000)\n",
            "Station Agent, The (2003)\n",
            "Staying Alive (1983)\n",
            "Steel Magnolias (1989)\n",
            "Step Brothers (2008)\n",
            "Stevie (2002)\n",
            "Sting, The (1973)\n",
            "Stone Reader (2002)\n",
            "Story of the Weeping Camel, The (Geschichte vom weinenden Kamel, Die) (2003)\n",
            "Strada, La (1954)\n",
            "Straight Story, The (1999)\n",
            "Stranger than Fiction (2006)\n",
            "Stray Dog (Nora inu) (1949)\n",
            "Streetcar Named Desire, A (1951)\n",
            "Strictly Ballroom (1992)\n",
            "Stripes (1981)\n",
            "Suicide Squad (2016)\n",
            "Sunset Blvd. (a.k.a. Sunset Boulevard) (1950)\n",
            "Super Size Me (2004)\n",
            "Superbad (2007)\n",
            "Supergirl (1984)\n",
            "Superman III (1983)\n",
            "Sure Thing, The (1985)\n",
            "Suspicion (1941)\n",
            "Sweet Charity (1969)\n",
            "Sweet Hereafter, The (1997)\n",
            "Swing Time (1936)\n",
            "Sydney (Hard Eight) (1996)\n",
            "Syriana (2005)\n",
            "Taken 2 (2012)\n",
            "Taking of Pelham One Two Three, The (1974)\n",
            "Tale of Two Cities, A (1935)\n",
            "Talk of the Town, The (1942)\n",
            "Talk to Her (Hable con Ella) (2002)\n",
            "Taming of the Shrew, The (1967)\n",
            "Taxi Driver (1976)\n",
            "Ted (2012)\n",
            "Tekkonkinkreet (Tekkon kinkurîto) (2006)\n",
            "Tender Mercies (1983)\n",
            "Terminator 2: Judgment Day (1991)\n",
            "Terminator Salvation (2009)\n",
            "Terrorist, The (a.k.a. Malli) (Theeviravaathi) (1998)\n",
            "Tetsuo, the Ironman (Tetsuo) (1988)\n",
            "That's Entertainment (1974)\n",
            "The Butterfly Effect (2004)\n",
            "The Count of Monte Cristo (2002)\n",
            "The DUFF (2015)\n",
            "The Devil's Advocate (1997)\n",
            "The Greatest Showman (2017)\n",
            "The Hateful Eight (2015)\n",
            "The Hobbit: The Battle of the Five Armies (2014)\n",
            "The Hunger Games (2012)\n",
            "The Hunger Games: Mockingjay - Part 2 (2015)\n",
            "The Imitation Game (2014)\n",
            "The Importance of Being Earnest (1952)\n",
            "The Interview (2014)\n",
            "The Lego Batman Movie (2017)\n",
            "The Lego Movie (2014)\n",
            "The Man from U.N.C.L.E. (2015)\n",
            "The Martian (2015)\n",
            "The Rabbi's Cat (Le chat du rabbin) (2011)\n",
            "The Revenant (2015)\n",
            "The Shape of Water (2017)\n",
            "The Spiral Staircase (1945)\n",
            "There Will Be Blood (2007)\n",
            "There's Something About Mary (1998)\n",
            "They Drive by Night (1940)\n",
            "They Shoot Horses, Don't They? (1969)\n",
            "Thin Blue Line, The (1988)\n",
            "Thin Man Goes Home, The (1945)\n",
            "Thin Man, The (1934)\n",
            "Thing from Another World, The (1951)\n",
            "Third Man, The (1949)\n",
            "Thirteen (2003)\n",
            "This Gun for Hire (1942)\n",
            "This Is Spinal Tap (1984)\n",
            "Thor: Ragnarok (2017)\n",
            "Thousand Words, A (2012)\n",
            "Three Colors: Blue (Trois couleurs: Bleu) (1993)\n",
            "Three Colors: White (Trzy kolory: Bialy) (1994)\n",
            "Three Faces of Eve, The (1957)\n",
            "Three Musketeers, The (1973)\n",
            "Throne of Blood (Kumonosu jô) (1957)\n",
            "Throw Momma from the Train (1987)\n",
            "Time Bandits (1981)\n",
            "Time to Kill, A (1996)\n",
            "Tin Cup (1996)\n",
            "Titanic (1997)\n",
            "Titus (1999)\n",
            "To Die For (1995)\n",
            "To Kill a Mockingbird (1962)\n",
            "To Live (Huozhe) (1994)\n",
            "Tokyo Godfathers (2003)\n",
            "Tom Jones (1963)\n",
            "Tomb Raider (2018)\n",
            "Tootsie (1982)\n",
            "Top Gun (1986)\n",
            "Top Hat (1935)\n",
            "Touching the Void (2003)\n",
            "Town Called Panic, A (Panique au village) (2009)\n",
            "Town, The (2010)\n",
            "Toy Story 2 (1999)\n",
            "Trading Places (1983)\n",
            "Traffic (2000)\n",
            "Trainspotting (1996)\n",
            "Transformers: Revenge of the Fallen (2009)\n",
            "Treasure of the Sierra Madre, The (1948)\n",
            "Trekkies (1997)\n",
            "Triplets of Belleville, The (Les triplettes de Belleville) (2003)\n",
            "Tron: Legacy (2010)\n",
            "True Grit (2010)\n",
            "True Lies (1994)\n",
            "Truly, Madly, Deeply (1991)\n",
            "Truman Show, The (1998)\n",
            "Truth About Cats & Dogs, The (1996)\n",
            "Tucker & Dale vs Evil (2010)\n",
            "Tupac: Resurrection (2003)\n",
            "Turner & Hooch (1989)\n",
            "Twelfth Night (1996)\n",
            "Twelve Monkeys (a.k.a. 12 Monkeys) (1995)\n",
            "Twentieth Century (1934)\n",
            "Twilight (2008)\n",
            "Twilight Samurai, The (Tasogare Seibei) (2002)\n",
            "Twins (1988)\n",
            "Two Days, One Night (Deux jours, une nuit) (2014)\n",
            "Two Family House (2000)\n",
            "UHF (1989)\n",
            "Umbrellas of Cherbourg, The (Parapluies de Cherbourg, Les) (1964)\n",
            "Unbreakable (2000)\n",
            "Unforgiven (1992)\n",
            "Untouchables, The (1987)\n",
            "Unvanquished, The (Aparajito) (1957)\n",
            "Up (2009)\n",
            "Up Close and Personal (1996)\n",
            "Upside Down: The Creation Records Story (2010)\n",
            "Upstream Color (2013)\n",
            "Vanishing, The (1993)\n",
            "Vera Drake (2004)\n",
            "Very Brady Sequel, A (1996)\n",
            "Vicky Cristina Barcelona (2008)\n",
            "Victor/Victoria (1982)\n",
            "Village of the Damned (1960)\n",
            "Village, The (2004)\n",
            "Virgin Suicides, The (1999)\n",
            "Voices of a Distant Star (Hoshi no koe) (2003)\n",
            "Volunteers (1985)\n",
            "WALL·E (2008)\n",
            "Waco: The Rules of Engagement (1997)\n",
            "Wages of Fear, The (Salaire de la peur, Le) (1953)\n",
            "Wait Until Dark (1967)\n",
            "Waiting for Guffman (1996)\n",
            "Waiting... (2005)\n",
            "Walk the Line (2005)\n",
            "Walk, Don't Run (1966)\n",
            "Wall Street (1987)\n",
            "Wallace & Gromit in The Curse of the Were-Rabbit (2005)\n",
            "Wallace & Gromit: A Close Shave (1995)\n",
            "Wallace & Gromit: The Best of Aardman Animation (1996)\n",
            "Wallace & Gromit: The Wrong Trousers (1993)\n",
            "War Room, The (1993)\n",
            "War of the Worlds, The (1953)\n",
            "WarGames (1983)\n",
            "Warrior (2011)\n",
            "Washington Square (1997)\n",
            "Watch on the Rhine (1943)\n",
            "Waterboy, The (1998)\n",
            "Watership Down (1978)\n",
            "Weather Underground, The (2002)\n",
            "Wedding Banquet, The (Xi yan) (1993)\n",
            "Wedding Crashers (2005)\n",
            "Welcome to the Dollhouse (1995)\n",
            "West Side Story (1961)\n",
            "Whale Rider (2002)\n",
            "What Ever Happened to Baby Jane? (1962)\n",
            "What If (2013)\n",
            "What's Eating Gilbert Grape (1993)\n",
            "What's Love Got to Do with It? (1993)\n",
            "When Harry Met Sally... (1989)\n",
            "When We Were Kings (1996)\n",
            "When a Man Loves a Woman (1994)\n",
            "While You Were Sleeping (1995)\n",
            "Whiplash (2014)\n",
            "White Christmas (1954)\n",
            "White Men Can't Jump (1992)\n",
            "Whole Wide World, The (1996)\n",
            "Why We Fight (2005)\n",
            "Widow of St. Pierre, The (Veuve de Saint-Pierre, La) (2000)\n",
            "Wild Parrots of Telegraph Hill, The (2003)\n",
            "Wild Tales (2014)\n",
            "William Shakespeare's Romeo + Juliet (1996)\n",
            "Winged Migration (Peuple migrateur, Le) (2001)\n",
            "Wings of the Dove, The (1997)\n",
            "Wit (2001)\n",
            "With a Friend Like Harry... (Harry, un ami qui vous veut du bien) (2000)\n",
            "Witness (1985)\n",
            "Witness for the Prosecution (1957)\n",
            "Wolf of Wall Street, The (2013)\n",
            "Woman Under the Influence, A (1974)\n",
            "Woman of the Year (1942)\n",
            "Women, The (1939)\n",
            "Wonder Boys (2000)\n",
            "Wonderful, Horrible Life of Leni Riefenstahl, The (Macht der Bilder: Leni Riefenstahl, Die) (1993)\n",
            "Woodsman, The (2004)\n",
            "World of Apu, The (Apur Sansar) (1959)\n",
            "World of Henry Orient, The (1964)\n",
            "World of Tomorrow (2015)\n",
            "X-Files: Fight the Future, The (1998)\n",
            "X-Men Origins: Wolverine (2009)\n",
            "X-Men: The Last Stand (2006)\n",
            "X2: X-Men United (2003)\n",
            "Yankee Doodle Dandy (1942)\n",
            "Year of Living Dangerously, The (1982)\n",
            "Yearling, The (1946)\n",
            "Yentl (1983)\n",
            "Yojimbo (1961)\n",
            "You Can Count on Me (2000)\n",
            "You Only Live Once (1937)\n",
            "You'll Never Get Rich (1941)\n",
            "You've Got Mail (1998)\n",
            "Z (1969)\n",
            "Zack and Miri Make a Porno (2008)\n",
            "Zelary (2003)\n",
            "Zero Dark Thirty (2012)\n",
            "Zombieland (2009)\n",
            "Zoolander (2001)\n",
            "Zulu (1964)\n",
            "eXistenZ (1999)\n"
          ]
        }
      ]
    },
    {
      "cell_type": "code",
      "source": [
        "spam_films=len(non_rated_movies.index)-len(recommended_films)\n",
        "print('Total de pel·lícules SPAM: ',spam_films)\n",
        "print('Total de pel·lícules recomanades: ',len(recommended_films))"
      ],
      "metadata": {
        "colab": {
          "base_uri": "https://localhost:8080/"
        },
        "id": "j-APwvkz6wPb",
        "outputId": "30f6ac52-42ed-4f6e-ed3a-2d3b762dc10b"
      },
      "execution_count": 70,
      "outputs": [
        {
          "output_type": "stream",
          "name": "stdout",
          "text": [
            "Total de pel·lícules SPAM:  46\n",
            "Total de pel·lícules recomanades:  1412\n"
          ]
        }
      ]
    }
  ],
  "metadata": {
    "kernelspec": {
      "display_name": "Python 3 (ipykernel)",
      "language": "python",
      "name": "python3"
    },
    "language_info": {
      "codemirror_mode": {
        "name": "ipython",
        "version": 3
      },
      "file_extension": ".py",
      "mimetype": "text/x-python",
      "name": "python",
      "nbconvert_exporter": "python",
      "pygments_lexer": "ipython3",
      "version": "3.9.12"
    },
    "colab": {
      "provenance": [],
      "collapsed_sections": [
        "BFD9K4F4nUja"
      ]
    }
  },
  "nbformat": 4,
  "nbformat_minor": 0
}